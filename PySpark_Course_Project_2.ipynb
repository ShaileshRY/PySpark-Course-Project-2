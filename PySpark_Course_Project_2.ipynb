{
  "nbformat": 4,
  "nbformat_minor": 0,
  "metadata": {
    "colab": {
      "provenance": [],
      "toc_visible": true
    },
    "kernelspec": {
      "name": "python3",
      "display_name": "Python 3"
    },
    "language_info": {
      "name": "python"
    },
    "accelerator": "GPU",
    "gpuClass": "standard"
  },
  "cells": [
    {
      "cell_type": "markdown",
      "source": [
        "# Project 2: Getting Proficient!\n",
        "------------------------------------------------\n",
        "**Dr. Dave Wanik - OPIM 5502: Big Data Analytics with Cloud Computing - University of Connecticut**"
      ],
      "metadata": {
        "id": "mfJ9ZY9facAT"
      }
    },
    {
      "cell_type": "markdown",
      "source": [
        "\n",
        "* **Each Team Members Name and Student ID: **\n",
        "\n",
        "    **Shailesh Yadav (*)**\n",
        "\n",
        "    **Vasudha Mishra (*)**"
      ],
      "metadata": {
        "id": "FCQXdFrvbM83"
      }
    },
    {
      "cell_type": "markdown",
      "source": [
        "The purpose of this project is to help you master the topics of:\n",
        "* blending Python and SQL\n",
        "* using pandas UDFs\n",
        "* writing window functions"
      ],
      "metadata": {
        "id": "3buj_nHFazca"
      }
    },
    {
      "cell_type": "markdown",
      "source": [
        "# Install Spark"
      ],
      "metadata": {
        "id": "Dhpreipsc1St"
      }
    },
    {
      "cell_type": "code",
      "source": [
        "!pip install pyspark"
      ],
      "metadata": {
        "colab": {
          "base_uri": "https://localhost:8080/"
        },
        "id": "4EKbEIEpc2lf",
        "outputId": "bd6138ea-4a69-482f-c6e1-46e9fed83841"
      },
      "execution_count": null,
      "outputs": [
        {
          "output_type": "stream",
          "name": "stdout",
          "text": [
            "Looking in indexes: https://pypi.org/simple, https://us-python.pkg.dev/colab-wheels/public/simple/\n",
            "Requirement already satisfied: pyspark in /usr/local/lib/python3.9/dist-packages (3.3.2)\n",
            "Requirement already satisfied: py4j==0.10.9.5 in /usr/local/lib/python3.9/dist-packages (from pyspark) (0.10.9.5)\n"
          ]
        }
      ]
    },
    {
      "cell_type": "markdown",
      "source": [
        "## Start a Spark Session"
      ],
      "metadata": {
        "id": "Z2Fa2V6wc4h0"
      }
    },
    {
      "cell_type": "code",
      "source": [
        "from pyspark.sql import SparkSession\n",
        "spark = SparkSession.builder\\\n",
        "        .appName(\"Project2\")\\\n",
        "        .getOrCreate()"
      ],
      "metadata": {
        "id": "zhDjdvLUc7RG"
      },
      "execution_count": null,
      "outputs": []
    },
    {
      "cell_type": "code",
      "source": [
        "# some useful functions\n",
        "import pyspark.sql.functions as F\n",
        "import pyspark.sql.types as T"
      ],
      "metadata": {
        "id": "XZSU9NOpdPYY"
      },
      "execution_count": null,
      "outputs": []
    },
    {
      "cell_type": "markdown",
      "source": [
        "# Read the Data\n",
        "We will use the GSOD dataset from Chapter 10."
      ],
      "metadata": {
        "id": "0a5GrItYbX9X"
      }
    },
    {
      "cell_type": "code",
      "source": [
        "# mount your Drive and update your Path\n",
        "from google.colab import drive\n",
        "drive.mount('/content/drive')"
      ],
      "metadata": {
        "id": "P5EKMPjUdzW5",
        "colab": {
          "base_uri": "https://localhost:8080/"
        },
        "outputId": "150cf5fc-3b7d-4ca6-f7a4-e44c5a8a5c42"
      },
      "execution_count": null,
      "outputs": [
        {
          "output_type": "stream",
          "name": "stdout",
          "text": [
            "Drive already mounted at /content/drive; to attempt to forcibly remount, call drive.mount(\"/content/drive\", force_remount=True).\n"
          ]
        }
      ]
    },
    {
      "cell_type": "code",
      "source": [
        "# Read the file\n",
        "gsod = spark.read.parquet('/content/drive/MyDrive/Big data/Project2/Window')"
      ],
      "metadata": {
        "id": "QhRSYeCBcmUr"
      },
      "execution_count": null,
      "outputs": []
    },
    {
      "cell_type": "code",
      "source": [
        "# rows and columns\n",
        "# 12M rows and 32 columns\n",
        "print(gsod.count(), len(gsod.columns))"
      ],
      "metadata": {
        "colab": {
          "base_uri": "https://localhost:8080/"
        },
        "id": "SN8u7YWllFON",
        "outputId": "9eab6f4e-e468-486c-dba9-9909279bf39c"
      },
      "execution_count": null,
      "outputs": [
        {
          "output_type": "stream",
          "name": "stdout",
          "text": [
            "12460217 32\n"
          ]
        }
      ]
    },
    {
      "cell_type": "code",
      "source": [
        "# schema\n",
        "gsod.printSchema()"
      ],
      "metadata": {
        "colab": {
          "base_uri": "https://localhost:8080/"
        },
        "id": "09Sqp-TedZtj",
        "outputId": "e4c42d81-24b0-4c8d-ad33-bb536871fb31"
      },
      "execution_count": null,
      "outputs": [
        {
          "output_type": "stream",
          "name": "stdout",
          "text": [
            "root\n",
            " |-- stn: string (nullable = true)\n",
            " |-- wban: string (nullable = true)\n",
            " |-- year: string (nullable = true)\n",
            " |-- mo: string (nullable = true)\n",
            " |-- da: string (nullable = true)\n",
            " |-- temp: double (nullable = true)\n",
            " |-- count_temp: long (nullable = true)\n",
            " |-- dewp: double (nullable = true)\n",
            " |-- count_dewp: long (nullable = true)\n",
            " |-- slp: double (nullable = true)\n",
            " |-- count_slp: long (nullable = true)\n",
            " |-- stp: double (nullable = true)\n",
            " |-- count_stp: long (nullable = true)\n",
            " |-- visib: double (nullable = true)\n",
            " |-- count_visib: long (nullable = true)\n",
            " |-- wdsp: string (nullable = true)\n",
            " |-- count_wdsp: string (nullable = true)\n",
            " |-- mxpsd: string (nullable = true)\n",
            " |-- gust: double (nullable = true)\n",
            " |-- max: double (nullable = true)\n",
            " |-- flag_max: string (nullable = true)\n",
            " |-- min: double (nullable = true)\n",
            " |-- flag_min: string (nullable = true)\n",
            " |-- prcp: double (nullable = true)\n",
            " |-- flag_prcp: string (nullable = true)\n",
            " |-- sndp: double (nullable = true)\n",
            " |-- fog: string (nullable = true)\n",
            " |-- rain_drizzle: string (nullable = true)\n",
            " |-- snow_ice_pellets: string (nullable = true)\n",
            " |-- hail: string (nullable = true)\n",
            " |-- thunder: string (nullable = true)\n",
            " |-- tornado_funnel_cloud: string (nullable = true)\n",
            "\n"
          ]
        }
      ]
    },
    {
      "cell_type": "code",
      "source": [
        "# look at the first few rows\n",
        "gsod.show(10, truncate=False)"
      ],
      "metadata": {
        "colab": {
          "base_uri": "https://localhost:8080/"
        },
        "id": "fmGukFRTda7y",
        "outputId": "81afb8e0-5821-4808-e12f-aa1f0eca650c"
      },
      "execution_count": null,
      "outputs": [
        {
          "output_type": "stream",
          "name": "stdout",
          "text": [
            "+------+-----+----+---+---+----+----------+------+----------+------+---------+------+---------+-----+-----------+----+----------+-----+-----+----+--------+----+--------+----+---------+-----+---+------------+----------------+----+-------+--------------------+\n",
            "|stn   |wban |year|mo |da |temp|count_temp|dewp  |count_dewp|slp   |count_slp|stp   |count_stp|visib|count_visib|wdsp|count_wdsp|mxpsd|gust |max |flag_max|min |flag_min|prcp|flag_prcp|sndp |fog|rain_drizzle|snow_ice_pellets|hail|thunder|tornado_funnel_cloud|\n",
            "+------+-----+----+---+---+----+----------+------+----------+------+---------+------+---------+-----+-----------+----+----------+-----+-----+----+--------+----+--------+----+---------+-----+---+------------+----------------+----+-------+--------------------+\n",
            "|917350|99999|2018|04 |21 |82.6|9         |9999.9|0         |1006.9|9        |993.2 |9        |999.9|0          |3.7 |9         |8.5  |999.9|85.5|*       |74.5|        |0.31|G        |999.9|0  |0           |0               |0   |0      |0                   |\n",
            "|076470|99999|2018|06 |07 |65.0|24        |9999.9|0         |1015.4|9        |1012.6|9        |7.5  |20         |4.6 |24        |12.0 |999.9|72.9|        |46.4|*       |0.01|G        |999.9|0  |1           |0               |0   |0      |0                   |\n",
            "|996470|99999|2018|03 |12 |55.6|12        |9999.9|0         |1018.5|12       |1018.1|12       |999.9|0          |5.1 |10        |7.8  |999.9|57.9|*       |54.7|*       |0.0 |I        |999.9|0  |0           |0               |0   |0      |0                   |\n",
            "|996170|99999|2018|01 |08 |54.2|10        |9999.9|0         |1009.2|10       |1009.0|10       |999.9|0          |9.3 |10        |15.5 |999.9|55.8|*       |52.9|*       |0.0 |I        |999.9|0  |0           |0               |0   |0      |0                   |\n",
            "|818380|99999|2018|05 |05 |84.2|11        |9999.9|0         |1011.4|11       |1010.3|11       |999.9|0          |15.1|11        |19.8 |25.1 |87.3|        |76.8|        |0.0 |I        |999.9|0  |0           |0               |0   |0      |0                   |\n",
            "|998012|99999|2018|01 |27 |44.6|24        |9999.9|0         |1018.5|11       |9999.9|0        |999.9|0          |14.0|11        |22.9 |999.9|52.7|*       |37.0|*       |0.0 |I        |999.9|0  |0           |0               |0   |0      |0                   |\n",
            "|719140|99999|2018|02 |11 |36.5|12        |9999.9|0         |1019.0|12       |996.5 |12       |999.9|0          |1.4 |12        |2.9  |999.9|40.3|        |29.1|        |0.0 |G        |999.9|0  |0           |0               |0   |0      |0                   |\n",
            "|995500|99999|2018|01 |28 |42.2|12        |9999.9|0         |1028.7|12       |9999.9|0        |999.9|0          |22.7|12        |25.3 |999.9|44.4|*       |35.6|*       |0.0 |I        |999.9|0  |0           |0               |0   |0      |0                   |\n",
            "|994971|99999|2018|01 |28 |51.2|12        |9999.9|0         |1021.3|12       |9999.9|0        |999.9|0          |0.0 |12        |999.9|999.9|53.6|*       |48.0|*       |0.0 |I        |999.9|0  |0           |0               |0   |0      |0                   |\n",
            "|952880|99999|2018|11 |16 |79.9|11        |9999.9|0         |1011.9|11       |1010.4|11       |999.9|0          |17.6|11        |22.0 |999.9|80.4|*       |79.2|*       |0.0 |I        |999.9|0  |0           |0               |0   |0      |0                   |\n",
            "+------+-----+----+---+---+----+----------+------+----------+------+---------+------+---------+-----+-----------+----+----------+-----+-----+----+--------+----+--------+----+---------+-----+---+------------+----------------+----+-------+--------------------+\n",
            "only showing top 10 rows\n",
            "\n"
          ]
        }
      ]
    },
    {
      "cell_type": "markdown",
      "source": [
        "🙏 Good luck!"
      ],
      "metadata": {
        "id": "Atbn6Wrs7nSY"
      }
    },
    {
      "cell_type": "markdown",
      "source": [
        "# 🔵 (30 pts, 5 pts each) Blending Python and SQL"
      ],
      "metadata": {
        "id": "lkZ4XJp3a9x6"
      }
    },
    {
      "cell_type": "markdown",
      "source": [
        "### Select all rows where `temp` is greater than 90 and where windspeed is greater than 20."
      ],
      "metadata": {
        "id": "jaTGQFDudrro"
      }
    },
    {
      "cell_type": "markdown",
      "source": [
        "Method 1"
      ],
      "metadata": {
        "id": "T1G--wEcNj7o"
      }
    },
    {
      "cell_type": "code",
      "source": [
        "# First we'll create a View\n",
        "gsod.createOrReplaceTempView(\"gsodEntity\")"
      ],
      "metadata": {
        "id": "FeT7zBG_AzTO"
      },
      "execution_count": null,
      "outputs": []
    },
    {
      "cell_type": "code",
      "source": [
        "# Let's subset the data where temp > 90 and wdsp > 20\n",
        "high_temp_windspeed = spark.sql(\"select * from gsodEntity where temp>90 and wdsp>20\")"
      ],
      "metadata": {
        "id": "RtmdU0anpd4M"
      },
      "execution_count": null,
      "outputs": []
    },
    {
      "cell_type": "markdown",
      "source": [
        "Method 2"
      ],
      "metadata": {
        "id": "kEcMZ1oJGeJM"
      }
    },
    {
      "cell_type": "code",
      "source": [
        "# We can subset using this method as well\n",
        "high_temp_wdsp = gsod.where((F.col(\"temp\") > 90) & (F.col(\"wdsp\") > 20))"
      ],
      "metadata": {
        "id": "gDXF2QYnGkeS"
      },
      "execution_count": null,
      "outputs": []
    },
    {
      "cell_type": "markdown",
      "source": [
        "### Print the count of rows and show first 10 rows to confirm your answer."
      ],
      "metadata": {
        "id": "_OxC1KCbeBls"
      }
    },
    {
      "cell_type": "code",
      "source": [
        "# Checking the answer for Method 1\n",
        "print(\"Number of rows with high temperature and high windpeed: {}\".format(high_temp_windspeed.count()))\n"
      ],
      "metadata": {
        "id": "k8VRBdfbbGIG",
        "colab": {
          "base_uri": "https://localhost:8080/"
        },
        "outputId": "c677b428-b0f1-403c-ec51-5e27fe4a9b8d"
      },
      "execution_count": null,
      "outputs": [
        {
          "output_type": "stream",
          "name": "stdout",
          "text": [
            "Number of rows with high temperature and high windpeed: 3741\n"
          ]
        }
      ]
    },
    {
      "cell_type": "code",
      "source": [
        "# Checking the asnwer for Method 2\n",
        "print(\"Number of rows with high temperature and high windpeed: {}\".format(high_temp_wdsp.count()))"
      ],
      "metadata": {
        "colab": {
          "base_uri": "https://localhost:8080/"
        },
        "id": "aidFGGNsG99y",
        "outputId": "76c178ce-f527-4d96-b863-716dded329a9"
      },
      "execution_count": null,
      "outputs": [
        {
          "output_type": "stream",
          "name": "stdout",
          "text": [
            "Number of rows with high temperature and high windpeed: 3741\n"
          ]
        }
      ]
    },
    {
      "cell_type": "code",
      "source": [
        "print(\"first 10 rows of station with high temperature and high windspeed are\")\n",
        "high_temp_windspeed.show(10, truncate=False)"
      ],
      "metadata": {
        "colab": {
          "base_uri": "https://localhost:8080/"
        },
        "id": "7Tg4yEGZs2yp",
        "outputId": "de0b4110-8a9f-44ee-f8e4-5b5b051aef75"
      },
      "execution_count": null,
      "outputs": [
        {
          "output_type": "stream",
          "name": "stdout",
          "text": [
            "first 10 rows of station with high temperature and high windspeed are\n",
            "+------+-----+----+---+---+----+----------+------+----------+------+---------+------+---------+-----+-----------+-----+----------+-----+-----+-----+--------+----+--------+----+---------+-----+---+------------+----------------+----+-------+--------------------+\n",
            "|stn   |wban |year|mo |da |temp|count_temp|dewp  |count_dewp|slp   |count_slp|stp   |count_stp|visib|count_visib|wdsp |count_wdsp|mxpsd|gust |max  |flag_max|min |flag_min|prcp|flag_prcp|sndp |fog|rain_drizzle|snow_ice_pellets|hail|thunder|tornado_funnel_cloud|\n",
            "+------+-----+----+---+---+----+----------+------+----------+------+---------+------+---------+-----+-----------+-----+----------+-----+-----+-----+--------+----+--------+----+---------+-----+---+------------+----------------+----+-------+--------------------+\n",
            "|764990|99999|2018|08 |26 |90.3|9         |73.9  |9         |1014.2|9        |1011.8|9        |5.2  |9          |999.9|0         |999.9|999.9|104.7|        |75.4|        |0.0 |G        |999.9|0  |0           |0               |0   |0      |0                   |\n",
            "|172970|99999|2018|07 |14 |91.9|10        |54.3  |10        |1002.0|10       |998.8 |10       |12.4 |10         |21.6 |10        |27.0 |36.9 |94.5 |*       |83.3|        |0.0 |I        |999.9|0  |0           |0               |0   |0      |0                   |\n",
            "|999999|53154|2018|09 |23 |93.2|24        |9999.9|0         |9999.9|0        |9999.9|0        |999.9|0          |999.9|0         |999.9|999.9|105.1|        |81.5|        |0.0 |G        |999.9|0  |0           |0               |0   |0      |0                   |\n",
            "|999999|53154|2018|08 |06 |99.6|24        |9999.9|0         |9999.9|0        |9999.9|0        |999.9|0          |999.9|0         |999.9|999.9|113.5|        |84.6|        |0.0 |G        |999.9|0  |0           |0               |0   |0      |0                   |\n",
            "|999999|53136|2018|06 |25 |90.2|24        |9999.9|0         |9999.9|0        |9999.9|0        |999.9|0          |999.9|0         |999.9|999.9|103.8|        |72.0|        |0.0 |G        |999.9|0  |0           |0               |0   |0      |0                   |\n",
            "|804403|99999|2018|08 |23 |91.1|6         |9999.9|0         |9999.9|0        |9999.9|0        |6.2  |6          |999.9|0         |999.9|999.9|95.0 |*       |87.8|*       |0.0 |I        |999.9|0  |0           |0               |0   |0      |0                   |\n",
            "|999999|53139|2018|09 |14 |92.4|24        |9999.9|0         |9999.9|0        |9999.9|0        |999.9|0          |999.9|0         |999.9|999.9|106.9|        |76.3|        |0.0 |G        |999.9|0  |0           |0               |0   |0      |0                   |\n",
            "|999999|53154|2018|07 |22 |93.3|24        |9999.9|0         |9999.9|0        |9999.9|0        |999.9|0          |999.9|0         |999.9|999.9|108.9|*       |79.5|        |0.0 |G        |999.9|0  |0           |0               |0   |0      |0                   |\n",
            "|999999|53154|2018|06 |10 |91.3|24        |9999.9|0         |9999.9|0        |9999.9|0        |999.9|0          |999.9|0         |999.9|999.9|106.5|        |71.1|        |0.0 |G        |999.9|0  |0           |0               |0   |0      |0                   |\n",
            "|999999|53136|2018|08 |02 |91.5|24        |9999.9|0         |9999.9|0        |9999.9|0        |999.9|0          |999.9|0         |999.9|999.9|103.5|        |77.0|        |0.0 |G        |999.9|0  |0           |0               |0   |0      |0                   |\n",
            "+------+-----+----+---+---+----+----------+------+----------+------+---------+------+---------+-----+-----------+-----+----------+-----+-----+-----+--------+----+--------+----+---------+-----+---+------------+----------------+----+-------+--------------------+\n",
            "only showing top 10 rows\n",
            "\n"
          ]
        }
      ]
    },
    {
      "cell_type": "markdown",
      "source": [
        "### How many unique stations met the condition of temp>90 and wdsp>20?"
      ],
      "metadata": {
        "id": "kC4oguZ0hn8o"
      }
    },
    {
      "cell_type": "markdown",
      "source": [
        "We can see that the temp values are all above 100, and windspeed values are all above 20, but the values appear to be 999.9 that means these are missing values and have been imputed by this constant value."
      ],
      "metadata": {
        "id": "zSXjG0ooH2CL"
      }
    },
    {
      "cell_type": "code",
      "source": [
        "# We'll use count() and distinct() to find the unqiue values\n",
        "spark.sql(\"select count(distinct(stn)) as distinct_stations from gsodEntity where temp>90 and wdsp >20 \").show()"
      ],
      "metadata": {
        "colab": {
          "base_uri": "https://localhost:8080/"
        },
        "id": "YQhD5qNpCq1Q",
        "outputId": "64fef6ed-c0f5-4568-ccdf-d3334b0366e0"
      },
      "execution_count": null,
      "outputs": [
        {
          "output_type": "stream",
          "name": "stdout",
          "text": [
            "+-----------------+\n",
            "|distinct_stations|\n",
            "+-----------------+\n",
            "|              283|\n",
            "+-----------------+\n",
            "\n"
          ]
        }
      ]
    },
    {
      "cell_type": "markdown",
      "source": [
        "### Find the top 10 stations (`stn`) where the condition is true."
      ],
      "metadata": {
        "id": "-Qtkqf_HfNcF"
      }
    },
    {
      "cell_type": "code",
      "source": [
        "# To find the top 10 stations, we count the repeated occurences of the condition of high temp and high windspeed per station \n",
        "# We'll then sort the count in descending order and display the top 10\n",
        "spark.sql(\"select stn,count(stn) as total_stations from gsodEntity where temp>90 and wdsp>20 group by stn order by total_stations desc limit 10\").show()"
      ],
      "metadata": {
        "colab": {
          "base_uri": "https://localhost:8080/"
        },
        "id": "zXvDTsqVEItD",
        "outputId": "4dc6e777-2ce4-4436-d742-ef73cb069031"
      },
      "execution_count": null,
      "outputs": [
        {
          "output_type": "stream",
          "name": "stdout",
          "text": [
            "+------+--------------+\n",
            "|   stn|total_stations|\n",
            "+------+--------------+\n",
            "|999999|           804|\n",
            "|406370|           294|\n",
            "|406570|           186|\n",
            "|406320|           118|\n",
            "|408290|           108|\n",
            "|406560|            99|\n",
            "|406460|            85|\n",
            "|406080|            84|\n",
            "|406640|            72|\n",
            "|406720|            70|\n",
            "+------+--------------+\n",
            "\n"
          ]
        }
      ]
    },
    {
      "cell_type": "markdown",
      "source": [
        "### Where is the top station (that is not 999999)? \n",
        "Below is the list of all GSOD stations - Google the location and let me know where it is by writing your answer and embedding a picture!"
      ],
      "metadata": {
        "id": "AUrgRfHEifsz"
      }
    },
    {
      "cell_type": "markdown",
      "source": [
        "Here is a list of all the GSOD stations:\n",
        "* http://iridl.ldeo.columbia.edu/SOURCES/.NOAA/.NCEP/.CPC/.GSOD/.MONTHLY/.Name/IWMO+exch+table-+text+text+skipanyNaN+-table+.html"
      ],
      "metadata": {
        "id": "IUHDzuiHsazP"
      }
    },
    {
      "cell_type": "markdown",
      "source": [
        "**Answer:** 406370 is STATION KHANAQIN - it is hot and windy there!\n",
        "\n",
        "(embed a picture here from Google Images or Wikipedia)"
      ],
      "metadata": {
        "id": "RGZXsHS0inIY"
      }
    },
    {
      "cell_type": "markdown",
      "source": [
        "![image.png](data:image/png;base64,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)"
      ],
      "metadata": {
        "id": "77XPscTnJZ4u"
      }
    },
    {
      "cell_type": "markdown",
      "source": [
        "### What month/year was the hottest and windiest at that particular station?"
      ],
      "metadata": {
        "id": "tWRbXnEQjeoU"
      }
    },
    {
      "cell_type": "code",
      "source": [
        "# Let's first subset the data for the top station and have a look at the data\n",
        "top_stn = high_temp_wdsp.where(F.col('stn') == 406370)\n",
        "top_stn.show(10)"
      ],
      "metadata": {
        "colab": {
          "base_uri": "https://localhost:8080/"
        },
        "id": "Ie1PmhSUJsgc",
        "outputId": "796d4fb0-94a2-45a0-9fca-5f3d22907b3f"
      },
      "execution_count": null,
      "outputs": [
        {
          "output_type": "stream",
          "name": "stdout",
          "text": [
            "+------+-----+----+---+---+-----+----------+----+----------+------+---------+------+---------+-----+-----------+-----+----------+-----+-----+-----+--------+----+--------+----+---------+-----+---+------------+----------------+----+-------+--------------------+\n",
            "|   stn| wban|year| mo| da| temp|count_temp|dewp|count_dewp|   slp|count_slp|   stp|count_stp|visib|count_visib| wdsp|count_wdsp|mxpsd| gust|  max|flag_max| min|flag_min|prcp|flag_prcp| sndp|fog|rain_drizzle|snow_ice_pellets|hail|thunder|tornado_funnel_cloud|\n",
            "+------+-----+----+---+---+-----+----------+----+----------+------+---------+------+---------+-----+-----------+-----+----------+-----+-----+-----+--------+----+--------+----+---------+-----+---+------------+----------------+----+-------+--------------------+\n",
            "|406370|99999|2018| 08| 11| 97.6|         4|52.7|         4|1001.1|        4|9999.9|        0|  6.2|          4|999.9|         0|999.9|999.9|114.8|        |78.8|        | 0.0|        F|999.9|  0|           0|               0|   0|      0|                   0|\n",
            "|406370|99999|2018| 07| 20|105.2|         4|58.0|         4| 997.0|        4|9999.9|        0|  6.2|          4|999.9|         0|999.9|999.9|110.5|       *|78.8|        | 0.0|        E|999.9|  0|           0|               0|   0|      0|                   0|\n",
            "|406370|99999|2018| 05| 28| 99.0|         4|58.1|         4|1006.0|        4|9999.9|        0|  6.2|          4|999.9|         0|999.9|999.9|113.0|        |88.5|       *| 0.0|        E|999.9|  0|           0|               0|   0|      0|                   0|\n",
            "|406370|99999|2018| 09| 04| 95.9|         4|54.1|         4|1002.4|        4|9999.9|        0|  6.2|          4|999.9|         0|999.9|999.9|111.2|        |77.9|        | 0.0|        F|999.9|  0|           0|               0|   0|      0|                   0|\n",
            "|406370|99999|2018| 07| 08|104.9|         4|59.0|         4|1000.2|        4|9999.9|        0|  6.2|          4|999.9|         0|999.9|999.9|113.5|       *|80.6|        | 0.0|        E|999.9|  0|           0|               0|   0|      0|                   0|\n",
            "|406370|99999|2018| 07| 16|104.5|         4|56.7|         4| 996.1|        4|9999.9|        0|  6.2|          4|999.9|         0|999.9|999.9|112.6|        |95.0|       *| 0.0|        E|999.9|  0|           0|               0|   0|      0|                   0|\n",
            "|406370|99999|2018| 06| 16| 93.6|         4|54.5|         4|1003.2|        4|9999.9|        0|  6.2|          4|999.9|         0|999.9|999.9|107.2|        |79.7|        | 0.0|        F|999.9|  0|           0|               0|   0|      0|                   0|\n",
            "|406370|99999|2018| 07| 01|102.4|         4|55.9|         4|1001.8|        4|9999.9|        0|  6.2|          4|999.9|         0|999.9|999.9|110.3|       *|75.2|        | 0.0|        E|999.9|  0|           0|               0|   0|      0|                   0|\n",
            "|406370|99999|2018| 08| 14|100.4|         4|54.6|         4| 996.6|        4|9999.9|        0|  6.2|          4|999.9|         0|999.9|999.9|112.1|        |77.2|        | 0.0|        F|999.9|  0|           0|               0|   0|      0|                   0|\n",
            "|406370|99999|2018| 09| 03|101.8|         4|54.4|         4| 999.5|        4|9999.9|        0|  6.2|          4|999.9|         0|999.9|999.9|113.0|       *|80.6|        | 0.0|        E|999.9|  0|           0|               0|   0|      0|                   0|\n",
            "+------+-----+----+---+---+-----+----------+----+----------+------+---------+------+---------+-----+-----------+-----+----------+-----+-----+-----+--------+----+--------+----+---------+-----+---+------------+----------------+----+-------+--------------------+\n",
            "only showing top 10 rows\n",
            "\n"
          ]
        }
      ]
    },
    {
      "cell_type": "code",
      "source": [
        "# We can create multi-level grouping and find average for the groups to find the month and year when it was hottest\n",
        "top_stn.groupby(['year','mo']).agg(F.mean('temp')).sort(['avg(temp)'], ascending = False).show(1)"
      ],
      "metadata": {
        "colab": {
          "base_uri": "https://localhost:8080/"
        },
        "id": "ZRhmdM4tKw1y",
        "outputId": "95267d7e-001f-43ef-c6b4-ecace8b333da"
      },
      "execution_count": null,
      "outputs": [
        {
          "output_type": "stream",
          "name": "stdout",
          "text": [
            "+----+---+------------------+\n",
            "|year| mo|         avg(temp)|\n",
            "+----+---+------------------+\n",
            "|2019| 08|103.63333333333338|\n",
            "+----+---+------------------+\n",
            "only showing top 1 row\n",
            "\n"
          ]
        }
      ]
    },
    {
      "cell_type": "markdown",
      "source": [
        "It was the hottest in August of 2019"
      ],
      "metadata": {
        "id": "Mwt6AJuWMx7Y"
      }
    },
    {
      "cell_type": "code",
      "source": [
        "# We can create multi-level grouping and find average for the groups to find the month and year when it was windiest\n",
        "top_stn.groupby(['year','mo']).agg(F.mean('wdsp')).sort(['avg(wdsp)'], ascending = False).show(1)"
      ],
      "metadata": {
        "colab": {
          "base_uri": "https://localhost:8080/"
        },
        "id": "JHf8rFklK0V6",
        "outputId": "223e9c19-036e-480d-e614-cfb6f0e635fc"
      },
      "execution_count": null,
      "outputs": [
        {
          "output_type": "stream",
          "name": "stdout",
          "text": [
            "+----+---+-----------------+\n",
            "|year| mo|        avg(wdsp)|\n",
            "+----+---+-----------------+\n",
            "|2018| 06|999.9000000000004|\n",
            "+----+---+-----------------+\n",
            "only showing top 1 row\n",
            "\n"
          ]
        }
      ]
    },
    {
      "cell_type": "markdown",
      "source": [
        "It was the windiest in August of 2018"
      ],
      "metadata": {
        "id": "1slJDjAXM27j"
      }
    },
    {
      "cell_type": "markdown",
      "source": [
        "The average of windspeed shows that the values for wdsp are mostly missing."
      ],
      "metadata": {
        "id": "mEOA9Z8xLIbJ"
      }
    },
    {
      "cell_type": "code",
      "source": [
        "# Let's check the no. of rows in our top station\n",
        "top_stn.count()"
      ],
      "metadata": {
        "colab": {
          "base_uri": "https://localhost:8080/"
        },
        "id": "RDNtp2alLz4n",
        "outputId": "4e88259d-3ddb-4d31-92ec-27df51aa1b70"
      },
      "execution_count": null,
      "outputs": [
        {
          "output_type": "execute_result",
          "data": {
            "text/plain": [
              "294"
            ]
          },
          "metadata": {},
          "execution_count": 134
        }
      ]
    },
    {
      "cell_type": "code",
      "source": [
        "# Let's check the no. of rows having missing values of windspeed\n",
        "top_stn.filter(top_stn.wdsp == 999.9).count()"
      ],
      "metadata": {
        "colab": {
          "base_uri": "https://localhost:8080/"
        },
        "id": "Gu0iIEUeMBPr",
        "outputId": "15e07967-2a76-44ff-a430-03582314ed87"
      },
      "execution_count": null,
      "outputs": [
        {
          "output_type": "execute_result",
          "data": {
            "text/plain": [
              "294"
            ]
          },
          "metadata": {},
          "execution_count": 135
        }
      ]
    },
    {
      "cell_type": "markdown",
      "source": [
        "We can see that all entries of windspeed for our top station are missing and have been imputed by the default value."
      ],
      "metadata": {
        "id": "CvB2DkEiMdJW"
      }
    },
    {
      "cell_type": "markdown",
      "source": [
        "# 🔵 (30 pts total, 10 pts each) Pandas UDFs"
      ],
      "metadata": {
        "id": "J8POLwzobAxl"
      }
    },
    {
      "cell_type": "code",
      "source": [
        "import pyspark.sql.functions as F\n",
        "import pyspark.sql.types as T"
      ],
      "metadata": {
        "id": "VJF9rOudLoPY"
      },
      "execution_count": null,
      "outputs": []
    },
    {
      "cell_type": "markdown",
      "source": [
        "## Return summary statistics of the `temp` and `wdsp` columns and note the range of values."
      ],
      "metadata": {
        "id": "1YRIe84ttOyY"
      }
    },
    {
      "cell_type": "markdown",
      "source": [
        "Please show the count, min 25th, 50th, 75th percentile and max value."
      ],
      "metadata": {
        "id": "Effyn105wbwM"
      }
    },
    {
      "cell_type": "code",
      "source": [
        "# # warning: this may take a few mins to run!\n",
        "# i've pasted output below\n",
        "\n",
        "#+-------+--------+--------+\n",
        "#|summary|    temp|    wdsp|\n",
        "#+-------+--------+--------+\n",
        "#|  count|12460217|12460217|\n",
        "#|    min|  -114.7|     0.0|\n",
        "#|    25%|    41.2|     3.5|\n",
        "#|    75%|    73.7|     8.7|\n",
        "#|    max|   110.0|   999.9|\n",
        "#+-------+--------+--------+"
      ],
      "metadata": {
        "id": "OiaIcR6DtU83"
      },
      "execution_count": null,
      "outputs": []
    },
    {
      "cell_type": "code",
      "source": [
        "# Method 1\n",
        "# We can use summary to get the desired output\n",
        "gsod.select('temp','wdsp').summary(\"count\",\"min\",\"25%\",\"75%\",\"max\").show()"
      ],
      "metadata": {
        "colab": {
          "base_uri": "https://localhost:8080/"
        },
        "id": "MY2DNR23aUOB",
        "outputId": "a6b668af-92ef-41b8-ea0c-dbc7bb2351fa"
      },
      "execution_count": null,
      "outputs": [
        {
          "output_type": "stream",
          "name": "stdout",
          "text": [
            "+-------+--------+--------+\n",
            "|summary|    temp|    wdsp|\n",
            "+-------+--------+--------+\n",
            "|  count|12460217|12460217|\n",
            "|    min|  -114.7|     0.0|\n",
            "|    25%|    41.2|     3.5|\n",
            "|    75%|    73.7|     8.7|\n",
            "|    max|   110.0|   999.9|\n",
            "+-------+--------+--------+\n",
            "\n"
          ]
        }
      ]
    },
    {
      "cell_type": "code",
      "source": [
        "# Method 2\n",
        "# We can go with multiple select statements that give what we need, and using union on all of them\n",
        "spark.sql(\"SELECT 'count' AS summary, COUNT(temp) AS temp_count, COUNT(wdsp) AS wdsp_count FROM gsodEntity \\\n",
        "          UNION SELECT 'min' AS summary, MIN(temp) AS temp_min, MIN(wdsp) AS wdsp_min FROM gsodEntity \\\n",
        "          UNION SELECT '25%' AS summary, percentile_approx(temp, 0.25) AS temp_25th, \\\n",
        "                    percentile_approx(wdsp, 0.25) AS wdsp_25th FROM gsodEntity \\\n",
        "          UNION SELECT '50%' AS summary, percentile_approx(temp, 0.50) AS temp_50th, \\\n",
        "                    percentile_approx(wdsp, 0.50) AS wdsp_50th FROM gsodEntity\\\n",
        "          UNION SELECT '75%' AS summary, percentile_approx(temp, 0.75) AS temp_75th, \\\n",
        "                    percentile_approx(wdsp, 0.75) AS wdsp_75th FROM gsodEntity\\\n",
        "          UNION SELECT 'max' AS summary, MAX(temp) AS temp_max, MAX(wdsp) AS wdsp_max FROM gsodEntity\").show()"
      ],
      "metadata": {
        "colab": {
          "base_uri": "https://localhost:8080/"
        },
        "id": "QZQf0x7NMM0M",
        "outputId": "346b75ce-9910-4979-f5de-a259865f8bc0"
      },
      "execution_count": null,
      "outputs": [
        {
          "output_type": "stream",
          "name": "stdout",
          "text": [
            "+-------+-----------+----------+\n",
            "|summary| temp_count|wdsp_count|\n",
            "+-------+-----------+----------+\n",
            "|  count|1.2460217E7|  12460217|\n",
            "|    min|     -114.7|       0.0|\n",
            "|    25%|       41.2|       3.5|\n",
            "|    50%|       58.5|       5.6|\n",
            "|    75%|       73.7|       8.7|\n",
            "|    max|      110.0|     999.9|\n",
            "+-------+-----------+----------+\n",
            "\n"
          ]
        }
      ]
    },
    {
      "cell_type": "markdown",
      "source": [
        "It looks like there are some missing values for the wdsp column."
      ],
      "metadata": {
        "id": "X_iZZ6GefdGO"
      }
    },
    {
      "cell_type": "markdown",
      "source": [
        "Review this metadata for the units of each column:\n",
        "* https://www.ncei.noaa.gov/data/global-summary-of-the-day/doc/readme.txt\n",
        "\n",
        "```\n",
        "TEMP - Mean temperature (.1 Fahrenheit)\n",
        "DEWP - Mean dew point (.1 Fahrenheit)\n",
        "SLP - Mean sea level pressure (.1 mb)\n",
        "STP - Mean station pressure (.1 mb)\n",
        "VISIB - Mean visibility (.1 miles)\n",
        "WDSP – Mean wind speed (.1 knots)\n",
        "MXSPD - Maximum sustained wind speed (.1 knots)\n",
        "GUST - Maximum wind gust (.1 knots)\n",
        "MAX - Maximum temperature (.1 Fahrenheit)\n",
        "MIN - Minimum temperature (.1 Fahrenheit)\n",
        "PRCP - Precipitation amount (.01 inches)\n",
        "SNDP - Snow depth (.1 inches)\n",
        "```\n",
        "\n"
      ],
      "metadata": {
        "id": "K_rNUqmdwJ67"
      }
    },
    {
      "cell_type": "markdown",
      "source": [
        "## Write a Pandas UDF that converts temperature from F to C\n",
        "Use a decorator! You can hack the example in the book."
      ],
      "metadata": {
        "id": "sNodzdNetAjq"
      }
    },
    {
      "cell_type": "code",
      "source": [
        "# Hacking the exapmple from book with minimal changes\n",
        "from fractions import Fraction\n",
        "from typing import Tuple, Optional\n",
        "\n",
        "# The decorator performs the same function as the udf() function, \n",
        "# but returns a UDF bearing the name of the function \n",
        "# defined under it.\n",
        "@F.udf(T.DoubleType()) # this is the output type of the UDF!\n",
        "def farenheit_to_celsius(farenh: float) -> Optional[float]:\n",
        " if farenh:\n",
        "  return (farenh - 32)*(5/9)\n",
        " return None\n"
      ],
      "metadata": {
        "id": "mwDR7j7xOBeV"
      },
      "execution_count": null,
      "outputs": []
    },
    {
      "cell_type": "markdown",
      "source": [
        "Now add it as a column in `gsod`."
      ],
      "metadata": {
        "id": "QV9CcqWp89QM"
      }
    },
    {
      "cell_type": "code",
      "source": [
        "# Let's add the new column to our original dataset\n",
        "gsod = gsod.withColumn(\"celsius_temp\",F.round(farenheit_to_celsius(gsod.temp),2))"
      ],
      "metadata": {
        "id": "bMeFPNDWx92i"
      },
      "execution_count": null,
      "outputs": []
    },
    {
      "cell_type": "code",
      "source": [
        "# Let's see if our UDF worked as expected\n",
        "gsod.select('stn','temp','wdsp','celsius_temp').show(10)"
      ],
      "metadata": {
        "colab": {
          "base_uri": "https://localhost:8080/"
        },
        "id": "lJOFxAWcf5_M",
        "outputId": "569a6c88-4c53-4400-8b9a-6235ee1fbe6a"
      },
      "execution_count": null,
      "outputs": [
        {
          "output_type": "stream",
          "name": "stdout",
          "text": [
            "+------+----+----+------------+\n",
            "|   stn|temp|wdsp|celsius_temp|\n",
            "+------+----+----+------------+\n",
            "|917350|82.6| 3.7|       28.11|\n",
            "|076470|65.0| 4.6|       18.33|\n",
            "|996470|55.6| 5.1|       13.11|\n",
            "|996170|54.2| 9.3|       12.33|\n",
            "|818380|84.2|15.1|        29.0|\n",
            "|998012|44.6|14.0|         7.0|\n",
            "|719140|36.5| 1.4|         2.5|\n",
            "|995500|42.2|22.7|        5.67|\n",
            "|994971|51.2| 0.0|       10.67|\n",
            "|952880|79.9|17.6|       26.61|\n",
            "+------+----+----+------------+\n",
            "only showing top 10 rows\n",
            "\n"
          ]
        }
      ]
    },
    {
      "cell_type": "markdown",
      "source": [
        "## Write a Pandas UDF that converts `WDSP` from knots to m/s"
      ],
      "metadata": {
        "id": "jCT0tNePv0K_"
      }
    },
    {
      "cell_type": "markdown",
      "source": [
        "Be careful - I think there are missing values coded as 999 - make these rows the number 0 instead of 999 and convert to a numeric data type."
      ],
      "metadata": {
        "id": "TnGmtLuytobs"
      }
    },
    {
      "cell_type": "code",
      "source": [
        "# Let's check the datatype for wdsp\n",
        "gsod.schema[\"wdsp\"].dataType"
      ],
      "metadata": {
        "colab": {
          "base_uri": "https://localhost:8080/"
        },
        "id": "EA8xvKpDc-NI",
        "outputId": "ffa54fab-8f40-4ea4-d48c-12c61b634f01"
      },
      "execution_count": null,
      "outputs": [
        {
          "output_type": "execute_result",
          "data": {
            "text/plain": [
              "StringType()"
            ]
          },
          "metadata": {},
          "execution_count": 143
        }
      ]
    },
    {
      "cell_type": "code",
      "source": [
        "# First let's convert the wdsp to numeric datatype\n",
        "gsod = gsod.withColumn(\"wdsp\",gsod.wdsp.cast('double'))"
      ],
      "metadata": {
        "id": "ngQFGsWNjGEO"
      },
      "execution_count": null,
      "outputs": []
    },
    {
      "cell_type": "code",
      "source": [
        "# Let's check if it worked\n",
        "gsod.schema[\"wdsp\"].dataType"
      ],
      "metadata": {
        "colab": {
          "base_uri": "https://localhost:8080/"
        },
        "id": "9aoayw0kkwL0",
        "outputId": "a583e029-d42f-4582-e7c7-de67829ab198"
      },
      "execution_count": null,
      "outputs": [
        {
          "output_type": "execute_result",
          "data": {
            "text/plain": [
              "DoubleType()"
            ]
          },
          "metadata": {},
          "execution_count": 145
        }
      ]
    },
    {
      "cell_type": "code",
      "source": [
        "# Let's check the total rows in our dataset again\n",
        "gsod.count()"
      ],
      "metadata": {
        "colab": {
          "base_uri": "https://localhost:8080/"
        },
        "id": "vdllGdeQQz_i",
        "outputId": "6eeef78b-0d56-40d1-e089-b9a399b21bd7"
      },
      "execution_count": null,
      "outputs": [
        {
          "output_type": "execute_result",
          "data": {
            "text/plain": [
              "12460217"
            ]
          },
          "metadata": {},
          "execution_count": 146
        }
      ]
    },
    {
      "cell_type": "code",
      "source": [
        "# Now let's see for how many rows do we have missing values in windspeed\n",
        "gsod.filter(F.col('wdsp')==999.9).count()"
      ],
      "metadata": {
        "colab": {
          "base_uri": "https://localhost:8080/"
        },
        "id": "Stoj1rfpQ8yz",
        "outputId": "0ced15ab-f457-44a8-a74f-492ed85c15fe"
      },
      "execution_count": null,
      "outputs": [
        {
          "output_type": "execute_result",
          "data": {
            "text/plain": [
              "503887"
            ]
          },
          "metadata": {},
          "execution_count": 147
        }
      ]
    },
    {
      "cell_type": "code",
      "source": [
        "print(\"We have {:0.2f}% of missing values in windspeed\".format(503887*100/12460217))"
      ],
      "metadata": {
        "colab": {
          "base_uri": "https://localhost:8080/"
        },
        "id": "JVr0sSSlRQpB",
        "outputId": "6b7bd5e2-9985-4ba9-f30c-e6670777936c"
      },
      "execution_count": null,
      "outputs": [
        {
          "output_type": "stream",
          "name": "stdout",
          "text": [
            "We have 4.04% of missing values in windspeed\n"
          ]
        }
      ]
    },
    {
      "cell_type": "code",
      "source": [
        "# Let's replace the default value of missing, i.e. 999.9 by zero\n",
        "gsod = gsod.withColumn(\"wdsp\", F.when(gsod.wdsp == 999.9,0) \\\n",
        "      .otherwise(gsod.wdsp))"
      ],
      "metadata": {
        "id": "uNCB2iqYptRk"
      },
      "execution_count": null,
      "outputs": []
    },
    {
      "cell_type": "code",
      "source": [
        "# Now let's see if we have any more 999.9 in wdsp in our data\n",
        "gsod.filter(F.col('wdsp')==999.9).count()"
      ],
      "metadata": {
        "colab": {
          "base_uri": "https://localhost:8080/"
        },
        "id": "4ljluusFSRo-",
        "outputId": "0941a8e9-6c81-4eb2-8605-56d785e83ff0"
      },
      "execution_count": null,
      "outputs": [
        {
          "output_type": "execute_result",
          "data": {
            "text/plain": [
              "0"
            ]
          },
          "metadata": {},
          "execution_count": 150
        }
      ]
    },
    {
      "cell_type": "markdown",
      "source": [
        "Write a pandas UDF to convert `wdsp` from knots to meters per second."
      ],
      "metadata": {
        "id": "S-N6QdHF9Q0j"
      }
    },
    {
      "cell_type": "code",
      "source": [
        "# Create UDF for conversion\n",
        "@F.udf(returnType=T.DoubleType())\n",
        "def knots_to_mps(wdsp_knots):\n",
        "    return wdsp_knots*0.5144 # 1 knot = 0.514444 meters per second"
      ],
      "metadata": {
        "id": "5nbiE-WtwrFb"
      },
      "execution_count": null,
      "outputs": []
    },
    {
      "cell_type": "markdown",
      "source": [
        "Now apply the pandas UDF to the `wdsp` column."
      ],
      "metadata": {
        "id": "WP-6Bt849WVm"
      }
    },
    {
      "cell_type": "code",
      "source": [
        "# Let's see if our UDF worked as expected\n",
        "gsod = gsod.withColumn(\"wdsp_mpsec\",F.round(knots_to_mps(gsod.wdsp),2))\n",
        "gsod.select(\"stn\",\"wdsp\",\"wdsp_mpsec\").show(10)"
      ],
      "metadata": {
        "id": "g8AKnv_hx_Fu",
        "colab": {
          "base_uri": "https://localhost:8080/"
        },
        "outputId": "e5f84c28-4435-4198-d6d6-df19d41d93aa"
      },
      "execution_count": null,
      "outputs": [
        {
          "output_type": "stream",
          "name": "stdout",
          "text": [
            "+------+----+----------+\n",
            "|   stn|wdsp|wdsp_mpsec|\n",
            "+------+----+----------+\n",
            "|917350| 3.7|       1.9|\n",
            "|076470| 4.6|      2.37|\n",
            "|996470| 5.1|      2.62|\n",
            "|996170| 9.3|      4.78|\n",
            "|818380|15.1|      7.77|\n",
            "|998012|14.0|       7.2|\n",
            "|719140| 1.4|      0.72|\n",
            "|995500|22.7|     11.68|\n",
            "|994971| 0.0|       0.0|\n",
            "|952880|17.6|      9.05|\n",
            "+------+----+----------+\n",
            "only showing top 10 rows\n",
            "\n"
          ]
        }
      ]
    },
    {
      "cell_type": "markdown",
      "source": [
        "# 🔵 (20 pts total, 10 pts each) Window Functions"
      ],
      "metadata": {
        "id": "EfzKYx-5bG3u"
      }
    },
    {
      "cell_type": "markdown",
      "source": [
        "## Station Quality"
      ],
      "metadata": {
        "id": "PX3yvACYoriX"
      }
    },
    {
      "cell_type": "code",
      "source": [
        "# these are the total number of stations - 12k\n",
        "print('These are the counts of all stations:', gsod.select('stn').distinct().count())\n",
        "# look at stations with sparse data quality - 9.9k\n",
        "tmp = gsod.groupby('stn').count().orderBy(F.col('count').desc())\n",
        "# let's keep stations that have 300*3 = 900 observations\n",
        "tmp = tmp.where(f'count > 900').select('stn', 'count')\n",
        "print('These are the counts of stations with decent data quality:', tmp.distinct().count())\n",
        "tmp.show(10)"
      ],
      "metadata": {
        "id": "q-Ro-HEymYy-",
        "colab": {
          "base_uri": "https://localhost:8080/"
        },
        "outputId": "583c7cb3-00f0-4f63-f14b-06b57fdb0fb9"
      },
      "execution_count": null,
      "outputs": [
        {
          "output_type": "stream",
          "name": "stdout",
          "text": [
            "These are the counts of all stations: 12832\n",
            "These are the counts of stations with decent data quality: 9963\n",
            "+------+------+\n",
            "|   stn| count|\n",
            "+------+------+\n",
            "|999999|312826|\n",
            "|720613|  1257|\n",
            "|720609|  1252|\n",
            "|720408|  1243|\n",
            "|747918|  1243|\n",
            "|720586|  1242|\n",
            "|720738|  1240|\n",
            "|720643|  1238|\n",
            "|720254|  1238|\n",
            "|720961|  1236|\n",
            "+------+------+\n",
            "only showing top 10 rows\n",
            "\n"
          ]
        }
      ]
    },
    {
      "cell_type": "code",
      "source": [
        "# make a plot of those stations with good data quality\n",
        "import matplotlib.pyplot as plt\n",
        "import pandas as pd\n",
        "import seaborn as sns\n",
        "\n",
        "tmp = tmp.toPandas()\n",
        "tmp.describe()"
      ],
      "metadata": {
        "id": "kPe3FAlHnqE4",
        "colab": {
          "base_uri": "https://localhost:8080/",
          "height": 300
        },
        "outputId": "a2e180dd-7dd0-4224-a0c8-49ec81e55541"
      },
      "execution_count": null,
      "outputs": [
        {
          "output_type": "execute_result",
          "data": {
            "text/plain": [
              "               count\n",
              "count    9963.000000\n",
              "mean     1105.040149\n",
              "std      3123.529808\n",
              "min       901.000000\n",
              "25%      1076.000000\n",
              "50%      1085.000000\n",
              "75%      1086.000000\n",
              "max    312826.000000"
            ],
            "text/html": [
              "\n",
              "  <div id=\"df-c2abb05c-d35e-4fd3-b67b-351494e153a6\">\n",
              "    <div class=\"colab-df-container\">\n",
              "      <div>\n",
              "<style scoped>\n",
              "    .dataframe tbody tr th:only-of-type {\n",
              "        vertical-align: middle;\n",
              "    }\n",
              "\n",
              "    .dataframe tbody tr th {\n",
              "        vertical-align: top;\n",
              "    }\n",
              "\n",
              "    .dataframe thead th {\n",
              "        text-align: right;\n",
              "    }\n",
              "</style>\n",
              "<table border=\"1\" class=\"dataframe\">\n",
              "  <thead>\n",
              "    <tr style=\"text-align: right;\">\n",
              "      <th></th>\n",
              "      <th>count</th>\n",
              "    </tr>\n",
              "  </thead>\n",
              "  <tbody>\n",
              "    <tr>\n",
              "      <th>count</th>\n",
              "      <td>9963.000000</td>\n",
              "    </tr>\n",
              "    <tr>\n",
              "      <th>mean</th>\n",
              "      <td>1105.040149</td>\n",
              "    </tr>\n",
              "    <tr>\n",
              "      <th>std</th>\n",
              "      <td>3123.529808</td>\n",
              "    </tr>\n",
              "    <tr>\n",
              "      <th>min</th>\n",
              "      <td>901.000000</td>\n",
              "    </tr>\n",
              "    <tr>\n",
              "      <th>25%</th>\n",
              "      <td>1076.000000</td>\n",
              "    </tr>\n",
              "    <tr>\n",
              "      <th>50%</th>\n",
              "      <td>1085.000000</td>\n",
              "    </tr>\n",
              "    <tr>\n",
              "      <th>75%</th>\n",
              "      <td>1086.000000</td>\n",
              "    </tr>\n",
              "    <tr>\n",
              "      <th>max</th>\n",
              "      <td>312826.000000</td>\n",
              "    </tr>\n",
              "  </tbody>\n",
              "</table>\n",
              "</div>\n",
              "      <button class=\"colab-df-convert\" onclick=\"convertToInteractive('df-c2abb05c-d35e-4fd3-b67b-351494e153a6')\"\n",
              "              title=\"Convert this dataframe to an interactive table.\"\n",
              "              style=\"display:none;\">\n",
              "        \n",
              "  <svg xmlns=\"http://www.w3.org/2000/svg\" height=\"24px\"viewBox=\"0 0 24 24\"\n",
              "       width=\"24px\">\n",
              "    <path d=\"M0 0h24v24H0V0z\" fill=\"none\"/>\n",
              "    <path d=\"M18.56 5.44l.94 2.06.94-2.06 2.06-.94-2.06-.94-.94-2.06-.94 2.06-2.06.94zm-11 1L8.5 8.5l.94-2.06 2.06-.94-2.06-.94L8.5 2.5l-.94 2.06-2.06.94zm10 10l.94 2.06.94-2.06 2.06-.94-2.06-.94-.94-2.06-.94 2.06-2.06.94z\"/><path d=\"M17.41 7.96l-1.37-1.37c-.4-.4-.92-.59-1.43-.59-.52 0-1.04.2-1.43.59L10.3 9.45l-7.72 7.72c-.78.78-.78 2.05 0 2.83L4 21.41c.39.39.9.59 1.41.59.51 0 1.02-.2 1.41-.59l7.78-7.78 2.81-2.81c.8-.78.8-2.07 0-2.86zM5.41 20L4 18.59l7.72-7.72 1.47 1.35L5.41 20z\"/>\n",
              "  </svg>\n",
              "      </button>\n",
              "      \n",
              "  <style>\n",
              "    .colab-df-container {\n",
              "      display:flex;\n",
              "      flex-wrap:wrap;\n",
              "      gap: 12px;\n",
              "    }\n",
              "\n",
              "    .colab-df-convert {\n",
              "      background-color: #E8F0FE;\n",
              "      border: none;\n",
              "      border-radius: 50%;\n",
              "      cursor: pointer;\n",
              "      display: none;\n",
              "      fill: #1967D2;\n",
              "      height: 32px;\n",
              "      padding: 0 0 0 0;\n",
              "      width: 32px;\n",
              "    }\n",
              "\n",
              "    .colab-df-convert:hover {\n",
              "      background-color: #E2EBFA;\n",
              "      box-shadow: 0px 1px 2px rgba(60, 64, 67, 0.3), 0px 1px 3px 1px rgba(60, 64, 67, 0.15);\n",
              "      fill: #174EA6;\n",
              "    }\n",
              "\n",
              "    [theme=dark] .colab-df-convert {\n",
              "      background-color: #3B4455;\n",
              "      fill: #D2E3FC;\n",
              "    }\n",
              "\n",
              "    [theme=dark] .colab-df-convert:hover {\n",
              "      background-color: #434B5C;\n",
              "      box-shadow: 0px 1px 3px 1px rgba(0, 0, 0, 0.15);\n",
              "      filter: drop-shadow(0px 1px 2px rgba(0, 0, 0, 0.3));\n",
              "      fill: #FFFFFF;\n",
              "    }\n",
              "  </style>\n",
              "\n",
              "      <script>\n",
              "        const buttonEl =\n",
              "          document.querySelector('#df-c2abb05c-d35e-4fd3-b67b-351494e153a6 button.colab-df-convert');\n",
              "        buttonEl.style.display =\n",
              "          google.colab.kernel.accessAllowed ? 'block' : 'none';\n",
              "\n",
              "        async function convertToInteractive(key) {\n",
              "          const element = document.querySelector('#df-c2abb05c-d35e-4fd3-b67b-351494e153a6');\n",
              "          const dataTable =\n",
              "            await google.colab.kernel.invokeFunction('convertToInteractive',\n",
              "                                                     [key], {});\n",
              "          if (!dataTable) return;\n",
              "\n",
              "          const docLinkHtml = 'Like what you see? Visit the ' +\n",
              "            '<a target=\"_blank\" href=https://colab.research.google.com/notebooks/data_table.ipynb>data table notebook</a>'\n",
              "            + ' to learn more about interactive tables.';\n",
              "          element.innerHTML = '';\n",
              "          dataTable['output_type'] = 'display_data';\n",
              "          await google.colab.output.renderOutput(dataTable, element);\n",
              "          const docLink = document.createElement('div');\n",
              "          docLink.innerHTML = docLinkHtml;\n",
              "          element.appendChild(docLink);\n",
              "        }\n",
              "      </script>\n",
              "    </div>\n",
              "  </div>\n",
              "  "
            ]
          },
          "metadata": {},
          "execution_count": 154
        }
      ]
    },
    {
      "cell_type": "code",
      "source": [
        "#tmp first 20 records plot having good data quality f station, we have not considered the station 999999\n",
        "tmp_first_20 = tmp.iloc[1:20]"
      ],
      "metadata": {
        "id": "qwN2jAjKwftf"
      },
      "execution_count": null,
      "outputs": []
    },
    {
      "cell_type": "code",
      "source": [
        "# Make a bar plot of the stations with good data quality\n",
        "tmp_first_20"
      ],
      "metadata": {
        "colab": {
          "base_uri": "https://localhost:8080/",
          "height": 645
        },
        "id": "u7bhYN4Eq9Gn",
        "outputId": "293fc8fd-2b83-4288-a0e3-0884cfa55643"
      },
      "execution_count": null,
      "outputs": [
        {
          "output_type": "execute_result",
          "data": {
            "text/plain": [
              "       stn  count\n",
              "1   720613   1257\n",
              "2   720609   1252\n",
              "3   720408   1243\n",
              "4   747918   1243\n",
              "5   720586   1242\n",
              "6   720738   1240\n",
              "7   720643   1238\n",
              "8   720254   1238\n",
              "9   720961   1236\n",
              "10  720448   1235\n",
              "11  720902   1235\n",
              "12  720539   1233\n",
              "13  720584   1233\n",
              "14  747917   1233\n",
              "15  720406   1232\n",
              "16  726873   1232\n",
              "17  720411   1231\n",
              "18  725258   1231\n",
              "19  722248   1231"
            ],
            "text/html": [
              "\n",
              "  <div id=\"df-5b100254-4918-4c6d-8082-e34dc1e88128\">\n",
              "    <div class=\"colab-df-container\">\n",
              "      <div>\n",
              "<style scoped>\n",
              "    .dataframe tbody tr th:only-of-type {\n",
              "        vertical-align: middle;\n",
              "    }\n",
              "\n",
              "    .dataframe tbody tr th {\n",
              "        vertical-align: top;\n",
              "    }\n",
              "\n",
              "    .dataframe thead th {\n",
              "        text-align: right;\n",
              "    }\n",
              "</style>\n",
              "<table border=\"1\" class=\"dataframe\">\n",
              "  <thead>\n",
              "    <tr style=\"text-align: right;\">\n",
              "      <th></th>\n",
              "      <th>stn</th>\n",
              "      <th>count</th>\n",
              "    </tr>\n",
              "  </thead>\n",
              "  <tbody>\n",
              "    <tr>\n",
              "      <th>1</th>\n",
              "      <td>720613</td>\n",
              "      <td>1257</td>\n",
              "    </tr>\n",
              "    <tr>\n",
              "      <th>2</th>\n",
              "      <td>720609</td>\n",
              "      <td>1252</td>\n",
              "    </tr>\n",
              "    <tr>\n",
              "      <th>3</th>\n",
              "      <td>720408</td>\n",
              "      <td>1243</td>\n",
              "    </tr>\n",
              "    <tr>\n",
              "      <th>4</th>\n",
              "      <td>747918</td>\n",
              "      <td>1243</td>\n",
              "    </tr>\n",
              "    <tr>\n",
              "      <th>5</th>\n",
              "      <td>720586</td>\n",
              "      <td>1242</td>\n",
              "    </tr>\n",
              "    <tr>\n",
              "      <th>6</th>\n",
              "      <td>720738</td>\n",
              "      <td>1240</td>\n",
              "    </tr>\n",
              "    <tr>\n",
              "      <th>7</th>\n",
              "      <td>720643</td>\n",
              "      <td>1238</td>\n",
              "    </tr>\n",
              "    <tr>\n",
              "      <th>8</th>\n",
              "      <td>720254</td>\n",
              "      <td>1238</td>\n",
              "    </tr>\n",
              "    <tr>\n",
              "      <th>9</th>\n",
              "      <td>720961</td>\n",
              "      <td>1236</td>\n",
              "    </tr>\n",
              "    <tr>\n",
              "      <th>10</th>\n",
              "      <td>720448</td>\n",
              "      <td>1235</td>\n",
              "    </tr>\n",
              "    <tr>\n",
              "      <th>11</th>\n",
              "      <td>720902</td>\n",
              "      <td>1235</td>\n",
              "    </tr>\n",
              "    <tr>\n",
              "      <th>12</th>\n",
              "      <td>720539</td>\n",
              "      <td>1233</td>\n",
              "    </tr>\n",
              "    <tr>\n",
              "      <th>13</th>\n",
              "      <td>720584</td>\n",
              "      <td>1233</td>\n",
              "    </tr>\n",
              "    <tr>\n",
              "      <th>14</th>\n",
              "      <td>747917</td>\n",
              "      <td>1233</td>\n",
              "    </tr>\n",
              "    <tr>\n",
              "      <th>15</th>\n",
              "      <td>720406</td>\n",
              "      <td>1232</td>\n",
              "    </tr>\n",
              "    <tr>\n",
              "      <th>16</th>\n",
              "      <td>726873</td>\n",
              "      <td>1232</td>\n",
              "    </tr>\n",
              "    <tr>\n",
              "      <th>17</th>\n",
              "      <td>720411</td>\n",
              "      <td>1231</td>\n",
              "    </tr>\n",
              "    <tr>\n",
              "      <th>18</th>\n",
              "      <td>725258</td>\n",
              "      <td>1231</td>\n",
              "    </tr>\n",
              "    <tr>\n",
              "      <th>19</th>\n",
              "      <td>722248</td>\n",
              "      <td>1231</td>\n",
              "    </tr>\n",
              "  </tbody>\n",
              "</table>\n",
              "</div>\n",
              "      <button class=\"colab-df-convert\" onclick=\"convertToInteractive('df-5b100254-4918-4c6d-8082-e34dc1e88128')\"\n",
              "              title=\"Convert this dataframe to an interactive table.\"\n",
              "              style=\"display:none;\">\n",
              "        \n",
              "  <svg xmlns=\"http://www.w3.org/2000/svg\" height=\"24px\"viewBox=\"0 0 24 24\"\n",
              "       width=\"24px\">\n",
              "    <path d=\"M0 0h24v24H0V0z\" fill=\"none\"/>\n",
              "    <path d=\"M18.56 5.44l.94 2.06.94-2.06 2.06-.94-2.06-.94-.94-2.06-.94 2.06-2.06.94zm-11 1L8.5 8.5l.94-2.06 2.06-.94-2.06-.94L8.5 2.5l-.94 2.06-2.06.94zm10 10l.94 2.06.94-2.06 2.06-.94-2.06-.94-.94-2.06-.94 2.06-2.06.94z\"/><path d=\"M17.41 7.96l-1.37-1.37c-.4-.4-.92-.59-1.43-.59-.52 0-1.04.2-1.43.59L10.3 9.45l-7.72 7.72c-.78.78-.78 2.05 0 2.83L4 21.41c.39.39.9.59 1.41.59.51 0 1.02-.2 1.41-.59l7.78-7.78 2.81-2.81c.8-.78.8-2.07 0-2.86zM5.41 20L4 18.59l7.72-7.72 1.47 1.35L5.41 20z\"/>\n",
              "  </svg>\n",
              "      </button>\n",
              "      \n",
              "  <style>\n",
              "    .colab-df-container {\n",
              "      display:flex;\n",
              "      flex-wrap:wrap;\n",
              "      gap: 12px;\n",
              "    }\n",
              "\n",
              "    .colab-df-convert {\n",
              "      background-color: #E8F0FE;\n",
              "      border: none;\n",
              "      border-radius: 50%;\n",
              "      cursor: pointer;\n",
              "      display: none;\n",
              "      fill: #1967D2;\n",
              "      height: 32px;\n",
              "      padding: 0 0 0 0;\n",
              "      width: 32px;\n",
              "    }\n",
              "\n",
              "    .colab-df-convert:hover {\n",
              "      background-color: #E2EBFA;\n",
              "      box-shadow: 0px 1px 2px rgba(60, 64, 67, 0.3), 0px 1px 3px 1px rgba(60, 64, 67, 0.15);\n",
              "      fill: #174EA6;\n",
              "    }\n",
              "\n",
              "    [theme=dark] .colab-df-convert {\n",
              "      background-color: #3B4455;\n",
              "      fill: #D2E3FC;\n",
              "    }\n",
              "\n",
              "    [theme=dark] .colab-df-convert:hover {\n",
              "      background-color: #434B5C;\n",
              "      box-shadow: 0px 1px 3px 1px rgba(0, 0, 0, 0.15);\n",
              "      filter: drop-shadow(0px 1px 2px rgba(0, 0, 0, 0.3));\n",
              "      fill: #FFFFFF;\n",
              "    }\n",
              "  </style>\n",
              "\n",
              "      <script>\n",
              "        const buttonEl =\n",
              "          document.querySelector('#df-5b100254-4918-4c6d-8082-e34dc1e88128 button.colab-df-convert');\n",
              "        buttonEl.style.display =\n",
              "          google.colab.kernel.accessAllowed ? 'block' : 'none';\n",
              "\n",
              "        async function convertToInteractive(key) {\n",
              "          const element = document.querySelector('#df-5b100254-4918-4c6d-8082-e34dc1e88128');\n",
              "          const dataTable =\n",
              "            await google.colab.kernel.invokeFunction('convertToInteractive',\n",
              "                                                     [key], {});\n",
              "          if (!dataTable) return;\n",
              "\n",
              "          const docLinkHtml = 'Like what you see? Visit the ' +\n",
              "            '<a target=\"_blank\" href=https://colab.research.google.com/notebooks/data_table.ipynb>data table notebook</a>'\n",
              "            + ' to learn more about interactive tables.';\n",
              "          element.innerHTML = '';\n",
              "          dataTable['output_type'] = 'display_data';\n",
              "          await google.colab.output.renderOutput(dataTable, element);\n",
              "          const docLink = document.createElement('div');\n",
              "          docLink.innerHTML = docLinkHtml;\n",
              "          element.appendChild(docLink);\n",
              "        }\n",
              "      </script>\n",
              "    </div>\n",
              "  </div>\n",
              "  "
            ]
          },
          "metadata": {},
          "execution_count": 156
        }
      ]
    },
    {
      "cell_type": "code",
      "source": [
        "# First let's set the figure size\n",
        "plt.rcParams[\"figure.figsize\"] = (12,5)\n",
        "\n",
        "# Let's create our plot\n",
        "plt.scatter(tmp_first_20[\"stn\"], tmp_first_20[\"count\"],color='r')\n",
        "plt.title('Stations with good data quality')\n",
        "plt.xlabel('Stations')\n",
        "plt.ylabel('Count of Observations')\n",
        "plt.xticks(rotation=45)"
      ],
      "metadata": {
        "colab": {
          "base_uri": "https://localhost:8080/",
          "height": 764
        },
        "id": "SXG0kcReyQEw",
        "outputId": "061bec98-77d2-4ceb-f74b-0235ae30fea3"
      },
      "execution_count": null,
      "outputs": [
        {
          "output_type": "execute_result",
          "data": {
            "text/plain": [
              "([0, 1, 2, 3, 4, 5, 6, 7, 8, 9, 10, 11, 12, 13, 14, 15, 16, 17, 18],\n",
              " [Text(0, 0, '720613'),\n",
              "  Text(1, 0, '720609'),\n",
              "  Text(2, 0, '720408'),\n",
              "  Text(3, 0, '747918'),\n",
              "  Text(4, 0, '720586'),\n",
              "  Text(5, 0, '720738'),\n",
              "  Text(6, 0, '720643'),\n",
              "  Text(7, 0, '720254'),\n",
              "  Text(8, 0, '720961'),\n",
              "  Text(9, 0, '720448'),\n",
              "  Text(10, 0, '720902'),\n",
              "  Text(11, 0, '720539'),\n",
              "  Text(12, 0, '720584'),\n",
              "  Text(13, 0, '747917'),\n",
              "  Text(14, 0, '720406'),\n",
              "  Text(15, 0, '726873'),\n",
              "  Text(16, 0, '720411'),\n",
              "  Text(17, 0, '725258'),\n",
              "  Text(18, 0, '722248')])"
            ]
          },
          "metadata": {},
          "execution_count": 157
        },
        {
          "output_type": "display_data",
          "data": {
            "text/plain": [
              "<Figure size 1200x500 with 1 Axes>"
            ],
            "image/png": "[encoded data removed]"
          },
          "metadata": {}
        }
      ]
    },
    {
      "cell_type": "markdown",
      "source": [
        "## Rolling Averages"
      ],
      "metadata": {
        "id": "ESKSx45GyePl"
      }
    },
    {
      "cell_type": "markdown",
      "source": [
        "Read this:\n",
        "* https://stackoverflow.com/questions/45806194/pyspark-rolling-average-using-timeseries-data\n",
        "\n",
        "...decide which answer is closest to our GSOD dataset, and decide if you need to use rowBetween and rangeBetween! Remember your data is in daily data right now and that you may not have a perfect of observations each day."
      ],
      "metadata": {
        "id": "eIBi809lhLdA"
      }
    },
    {
      "cell_type": "markdown",
      "source": [
        "First, hack listing 10.20 in the book and create a unix timestep column."
      ],
      "metadata": {
        "id": "4EgODGbrpI54"
      }
    },
    {
      "cell_type": "code",
      "source": [
        "# Create a Unix Timestamp using listing 10.20\n",
        "gsod = (\n",
        "    gsod.withColumn(\n",
        "        \"dt\",\n",
        "        F.to_date(\n",
        "            F.concat_ws(\"-\", F.col(\"year\"), F.col(\"mo\"), F.col(\"da\"))\n",
        "        ),\n",
        "    )\n",
        "    .withColumn(\"dt_num\", F.unix_timestamp(\"dt\"))\n",
        ")"
      ],
      "metadata": {
        "id": "cvQa2Yjgyrb0"
      },
      "execution_count": null,
      "outputs": []
    },
    {
      "cell_type": "code",
      "source": [
        "# Check the results of the step above\n",
        "gsod.select(\"stn\",\"dt\",\"dt_num\").show(10)"
      ],
      "metadata": {
        "colab": {
          "base_uri": "https://localhost:8080/"
        },
        "id": "z9hnJBTr45lV",
        "outputId": "cbbedfb5-b0e1-439b-cb46-fac6293f6c93"
      },
      "execution_count": null,
      "outputs": [
        {
          "output_type": "stream",
          "name": "stdout",
          "text": [
            "+------+----------+----------+\n",
            "|   stn|        dt|    dt_num|\n",
            "+------+----------+----------+\n",
            "|917350|2018-04-21|1524268800|\n",
            "|076470|2018-06-07|1528329600|\n",
            "|996470|2018-03-12|1520812800|\n",
            "|996170|2018-01-08|1515369600|\n",
            "|818380|2018-05-05|1525478400|\n",
            "|998012|2018-01-27|1517011200|\n",
            "|719140|2018-02-11|1518307200|\n",
            "|995500|2018-01-28|1517097600|\n",
            "|994971|2018-01-28|1517097600|\n",
            "|952880|2018-11-16|1542326400|\n",
            "+------+----------+----------+\n",
            "only showing top 10 rows\n",
            "\n"
          ]
        }
      ]
    },
    {
      "cell_type": "markdown",
      "source": [
        "Now select one station for demonstation purposes - let's just use `stn == 406370` for demo purposes."
      ],
      "metadata": {
        "id": "g5hs63akpNPY"
      }
    },
    {
      "cell_type": "code",
      "source": [
        "# Subset the data of one station for demo purpose\n",
        "gsod_subset = gsod.where(F.col(\"stn\")==406370)"
      ],
      "metadata": {
        "id": "5MDi3IxjpYpC"
      },
      "execution_count": null,
      "outputs": []
    },
    {
      "cell_type": "code",
      "source": [
        "# Let's see how many rows we have\n",
        "gsod_subset.count()"
      ],
      "metadata": {
        "colab": {
          "base_uri": "https://localhost:8080/"
        },
        "id": "tDFRImbyfYrl",
        "outputId": "6a7545a0-4436-4f2f-f6f5-890458d686f1"
      },
      "execution_count": null,
      "outputs": [
        {
          "output_type": "execute_result",
          "data": {
            "text/plain": [
              "887"
            ]
          },
          "metadata": {},
          "execution_count": 161
        }
      ]
    },
    {
      "cell_type": "code",
      "source": [
        "# Let's check the subset\n",
        "gsod_subset.show(10)"
      ],
      "metadata": {
        "colab": {
          "base_uri": "https://localhost:8080/"
        },
        "id": "iZywWk4S5wPE",
        "outputId": "e0bf0634-798f-4e02-b827-9e92e56f3b96"
      },
      "execution_count": null,
      "outputs": [
        {
          "output_type": "stream",
          "name": "stdout",
          "text": [
            "+------+-----+----+---+---+-----+----------+----+----------+------+---------+------+---------+-----+-----------+----+----------+-----+-----+-----+--------+----+--------+----+---------+-----+---+------------+----------------+----+-------+--------------------+------------+----------+----------+----------+\n",
            "|   stn| wban|year| mo| da| temp|count_temp|dewp|count_dewp|   slp|count_slp|   stp|count_stp|visib|count_visib|wdsp|count_wdsp|mxpsd| gust|  max|flag_max| min|flag_min|prcp|flag_prcp| sndp|fog|rain_drizzle|snow_ice_pellets|hail|thunder|tornado_funnel_cloud|celsius_temp|wdsp_mpsec|        dt|    dt_num|\n",
            "+------+-----+----+---+---+-----+----------+----+----------+------+---------+------+---------+-----+-----------+----+----------+-----+-----+-----+--------+----+--------+----+---------+-----+---+------------+----------------+----+-------+--------------------+------------+----------+----------+----------+\n",
            "|406370|99999|2018| 12| 24| 52.4|         4|44.4|         4|1022.9|        4|9999.9|        0|  6.2|          4| 0.0|         0|999.9|999.9| 59.9|        |43.2|       *| 0.0|        E|999.9|  0|           0|               0|   0|      0|                   0|       11.33|       0.0|2018-12-24|1545609600|\n",
            "|406370|99999|2018| 04| 09| 81.5|         4|58.0|         4|1010.7|        4|9999.9|        0|  6.2|          4| 0.0|         0|999.9|999.9| 92.7|       *|72.5|       *| 0.0|        E|999.9|  0|           0|               0|   0|      0|                   0|        27.5|       0.0|2018-04-09|1523232000|\n",
            "|406370|99999|2018| 11| 16| 66.2|         4|54.0|         4|1016.2|        4|9999.9|        0|  6.2|          4| 0.0|         0|999.9|999.9| 72.1|       *|59.2|        | 0.0|        E|999.9|  0|           0|               0|   0|      0|                   0|        19.0|       0.0|2018-11-16|1542326400|\n",
            "|406370|99999|2018| 08| 11| 97.6|         4|52.7|         4|1001.1|        4|9999.9|        0|  6.2|          4| 0.0|         0|999.9|999.9|114.8|        |78.8|        | 0.0|        F|999.9|  0|           0|               0|   0|      0|                   0|       36.44|       0.0|2018-08-11|1533945600|\n",
            "|406370|99999|2018| 01| 07| 59.6|         4|46.7|         4|1020.6|        4|9999.9|        0|  6.2|          4| 0.0|         0|999.9|999.9| 72.5|        |45.5|        | 0.0|        F|999.9|  0|           0|               0|   0|      0|                   0|       15.33|       0.0|2018-01-07|1515283200|\n",
            "|406370|99999|2018| 10| 19| 83.0|         4|52.1|         4|1013.8|        4|9999.9|        0|  6.2|          4| 0.0|         0|999.9|999.9| 89.8|       *|74.5|        | 0.0|        H|999.9|  0|           1|               0|   0|      0|                   0|       28.33|       0.0|2018-10-19|1539907200|\n",
            "|406370|99999|2018| 02| 04| 54.0|         4|34.9|         4|1022.1|        4|9999.9|        0|  6.2|          4| 0.0|         0|999.9|999.9| 66.7|       *|33.8|        | 0.0|        E|999.9|  0|           0|               0|   0|      0|                   0|       12.22|       0.0|2018-02-04|1517702400|\n",
            "|406370|99999|2018| 09| 25| 86.7|         4|52.4|         4|1008.3|        4|9999.9|        0|  6.2|          4| 0.0|         0|999.9|999.9|102.9|       *|70.7|       *| 0.0|        I|999.9|  0|           0|               0|   0|      0|                   0|       30.39|       0.0|2018-09-25|1537833600|\n",
            "|406370|99999|2018| 12| 15| 55.0|         4|46.9|         4|1025.1|        4|9999.9|        0|  6.2|          4| 0.0|         0|999.9|999.9| 66.2|        |40.1|        | 0.0|        F|999.9|  0|           0|               0|   0|      0|                   0|       12.78|       0.0|2018-12-15|1544832000|\n",
            "|406370|99999|2018| 07| 20|105.2|         4|58.0|         4| 997.0|        4|9999.9|        0|  6.2|          4| 0.0|         0|999.9|999.9|110.5|       *|78.8|        | 0.0|        E|999.9|  0|           0|               0|   0|      0|                   0|       40.67|       0.0|2018-07-20|1532044800|\n",
            "+------+-----+----+---+---+-----+----------+----+----------+------+---------+------+---------+-----+-----------+----+----------+-----+-----+-----+--------+----+--------+----+---------+-----+---+------------+----------------+----+-------+--------------------+------------+----------+----------+----------+\n",
            "only showing top 10 rows\n",
            "\n"
          ]
        }
      ]
    },
    {
      "cell_type": "markdown",
      "source": [
        "Convert this data sample toPandas() and make a nice line plot of `temp` vs. date. Remember to convert the date to a datetime and then set the index as the date column in order to get a nice looking graph."
      ],
      "metadata": {
        "id": "CJge9Fhk9ydu"
      }
    },
    {
      "cell_type": "code",
      "source": [
        "# Convert to Pandas using toPandas()\n",
        "gsod_subset_pd = gsod_subset.toPandas()"
      ],
      "metadata": {
        "id": "FuIlXlQ2pzBP"
      },
      "execution_count": null,
      "outputs": []
    },
    {
      "cell_type": "code",
      "source": [
        "# Preprocess the data to create the plot in an easy manner\n",
        "gsod_subset_pd['dt'] = pd.to_datetime(gsod_subset_pd['dt'])   # Convert the column to datetime format\n",
        "gsod_subset_pd = gsod_subset_pd.sort_values(by='dt')  # Sort the data according to date\n",
        "gsod_subset_pd.set_index('dt', inplace=True)   # Set the index as date"
      ],
      "metadata": {
        "id": "Fu-0h3on6xbd"
      },
      "execution_count": null,
      "outputs": []
    },
    {
      "cell_type": "code",
      "source": [
        "# First let's set the figure size\n",
        "fig, ax = plt.subplots(figsize=(12, 5))\n",
        "# Let's plot\n",
        "plt.plot(gsod_subset_pd[\"temp\"])\n",
        "ax.set_xlabel('Date', color=\"black\")\n",
        "ax.set_ylabel('Temp', color=\"black\")\n",
        "plt.title('Temp vs Date')\n",
        "plt.show()"
      ],
      "metadata": {
        "colab": {
          "base_uri": "https://localhost:8080/",
          "height": 394
        },
        "id": "9MgwpxsS65nw",
        "outputId": "12e263b5-68de-47ae-d461-ae4736ad8cac"
      },
      "execution_count": null,
      "outputs": [
        {
          "output_type": "display_data",
          "data": {
            "text/plain": [
              "<Figure size 1200x500 with 1 Axes>"
            ],
            "image/png": "[encoded data removed]"
          },
          "metadata": {}
        }
      ]
    },
    {
      "cell_type": "markdown",
      "source": [
        "Check to make sure there are no missing values in the `temp` column."
      ],
      "metadata": {
        "id": "QUXgGhgq5pAV"
      }
    },
    {
      "cell_type": "code",
      "source": [
        "# Check if there are any missing values in temp\n",
        "gsod_subset.select([F.count(F.when(F.isnan(c), c)).alias(c) for c in [\"temp\"]]).show()"
      ],
      "metadata": {
        "colab": {
          "base_uri": "https://localhost:8080/"
        },
        "id": "sPkwGH1qAs_T",
        "outputId": "3597263d-6f2b-4187-ba21-c267b312c856"
      },
      "execution_count": null,
      "outputs": [
        {
          "output_type": "stream",
          "name": "stdout",
          "text": [
            "+----+\n",
            "|temp|\n",
            "+----+\n",
            "|   0|\n",
            "+----+\n",
            "\n"
          ]
        }
      ]
    },
    {
      "cell_type": "markdown",
      "source": [
        "Check out the data quality of April 2018 and show 30 rows for this station. Make a comment about the data quality."
      ],
      "metadata": {
        "id": "IMIRvTMxrBWQ"
      }
    },
    {
      "cell_type": "code",
      "source": [
        "# Create a subset for the month of April 2018\n",
        "gsod_subset_pd_apr = gsod_subset_pd.loc['2018-04-01':'2018-04-30']"
      ],
      "metadata": {
        "id": "5DF3psKQrFFI"
      },
      "execution_count": null,
      "outputs": []
    },
    {
      "cell_type": "code",
      "source": [
        "pd.set_option('display.max_columns',500)\n",
        "# Check the subset\n",
        "gsod_subset_pd_apr.head(30)"
      ],
      "metadata": {
        "colab": {
          "base_uri": "https://localhost:8080/",
          "height": 826
        },
        "id": "7-rDcyqBDSVP",
        "outputId": "e4794fe1-2ed4-4191-83c6-17c20e04d369"
      },
      "execution_count": null,
      "outputs": [
        {
          "output_type": "execute_result",
          "data": {
            "text/plain": [
              "               stn   wban  year  mo  da  temp  count_temp  dewp  count_dewp  \\\n",
              "dt                                                                            \n",
              "2018-04-01  406370  99999  2018  04  01  69.5           6  52.7           6   \n",
              "2018-04-02  406370  99999  2018  04  02  72.4           6  53.6           6   \n",
              "2018-04-03  406370  99999  2018  04  03  75.5           7  54.7           7   \n",
              "2018-04-04  406370  99999  2018  04  04  77.4           7  56.2           7   \n",
              "2018-04-05  406370  99999  2018  04  05  78.8           4  55.4           4   \n",
              "2018-04-09  406370  99999  2018  04  09  81.5           4  58.0           4   \n",
              "2018-04-10  406370  99999  2018  04  10  76.3           5  57.1           5   \n",
              "2018-04-11  406370  99999  2018  04  11  78.3           6  57.2           6   \n",
              "2018-04-13  406370  99999  2018  04  13  64.7           7  55.3           7   \n",
              "2018-04-14  406370  99999  2018  04  14  71.1           7  56.9           7   \n",
              "2018-04-15  406370  99999  2018  04  15  71.9           7  55.3           7   \n",
              "2018-04-19  406370  99999  2018  04  19  79.6           5  54.7           5   \n",
              "2018-04-22  406370  99999  2018  04  22  67.5           6  58.2           6   \n",
              "2018-04-26  406370  99999  2018  04  26  87.0           5  59.9           5   \n",
              "\n",
              "               slp  count_slp     stp  count_stp  visib  count_visib  wdsp  \\\n",
              "dt                                                                           \n",
              "2018-04-01  1012.6          6  9999.9          0    6.2            6   0.0   \n",
              "2018-04-02  1012.8          6  9999.9          0    6.2            6   0.0   \n",
              "2018-04-03  1012.9          6  9999.9          0    6.2            7   0.0   \n",
              "2018-04-04  1011.0          7  9999.9          0    6.2            7   5.1   \n",
              "2018-04-05  1009.5          4  9999.9          0    6.2            4   0.0   \n",
              "2018-04-09  1010.7          4  9999.9          0    6.2            4   0.0   \n",
              "2018-04-10  1010.0          5  9999.9          0    6.2            5   0.0   \n",
              "2018-04-11  1008.1          6  9999.9          0    7.1            6   4.4   \n",
              "2018-04-13  1011.2          7  9999.9          0    6.2            7   0.0   \n",
              "2018-04-14  1010.4          6  9999.9          0    6.2            7   0.0   \n",
              "2018-04-15  1008.9          7  9999.9          0    6.2            7   5.1   \n",
              "2018-04-19  1014.0          5  9999.9          0    6.2            5   0.0   \n",
              "2018-04-22  1007.9          6  9999.9          0    5.9            6   7.1   \n",
              "2018-04-26  1008.8          5  9999.9          0    6.2            5   0.0   \n",
              "\n",
              "           count_wdsp  mxpsd   gust   max flag_max   min flag_min  prcp  \\\n",
              "dt                                                                        \n",
              "2018-04-01          0  999.9  999.9  83.3           54.7        *  0.00   \n",
              "2018-04-02          0  999.9  999.9  82.0        *  56.8           0.00   \n",
              "2018-04-03          0  999.9  999.9  90.5           57.2           0.00   \n",
              "2018-04-04          5    7.8  999.9  92.3           60.8           0.00   \n",
              "2018-04-05          0  999.9  999.9  88.5        *  62.1           0.00   \n",
              "2018-04-09          0  999.9  999.9  92.7        *  72.5        *  0.00   \n",
              "2018-04-10          0  999.9  999.9  83.8        *  68.5        *  0.00   \n",
              "2018-04-11          4    5.8  999.9  91.4           66.2           0.00   \n",
              "2018-04-13          0  999.9  999.9  77.5           56.3           0.24   \n",
              "2018-04-14          0  999.9  999.9  84.2           55.4           0.00   \n",
              "2018-04-15          5    7.8  999.9  86.9           60.8           0.02   \n",
              "2018-04-19          0  999.9  999.9  90.5        *  59.9           0.00   \n",
              "2018-04-22          6    9.7  999.9  80.6           57.9        *  0.20   \n",
              "2018-04-26          0  999.9  999.9  97.9           69.8           0.00   \n",
              "\n",
              "           flag_prcp   sndp fog rain_drizzle snow_ice_pellets hail thunder  \\\n",
              "dt                                                                           \n",
              "2018-04-01         E  999.9   0            0                0    0       0   \n",
              "2018-04-02         E  999.9   0            0                0    0       0   \n",
              "2018-04-03         F  999.9   0            0                0    0       0   \n",
              "2018-04-04         F  999.9   0            0                0    0       0   \n",
              "2018-04-05         E  999.9   0            0                0    0       0   \n",
              "2018-04-09         E  999.9   0            0                0    0       0   \n",
              "2018-04-10         E  999.9   0            0                0    0       0   \n",
              "2018-04-11         F  999.9   0            0                0    0       1   \n",
              "2018-04-13         F  999.9   0            0                0    0       0   \n",
              "2018-04-14         F  999.9   0            0                0    0       0   \n",
              "2018-04-15         F  999.9   0            0                0    0       1   \n",
              "2018-04-19         E  999.9   0            0                0    0       0   \n",
              "2018-04-22         F  999.9   0            1                0    0       1   \n",
              "2018-04-26         E  999.9   0            0                0    0       0   \n",
              "\n",
              "           tornado_funnel_cloud  celsius_temp  wdsp_mpsec      dt_num  \n",
              "dt                                                                     \n",
              "2018-04-01                    0         20.83        0.00  1522540800  \n",
              "2018-04-02                    0         22.44        0.00  1522627200  \n",
              "2018-04-03                    0         24.17        0.00  1522713600  \n",
              "2018-04-04                    0         25.22        2.62  1522800000  \n",
              "2018-04-05                    0         26.00        0.00  1522886400  \n",
              "2018-04-09                    0         27.50        0.00  1523232000  \n",
              "2018-04-10                    0         24.61        0.00  1523318400  \n",
              "2018-04-11                    0         25.72        2.26  1523404800  \n",
              "2018-04-13                    0         18.17        0.00  1523577600  \n",
              "2018-04-14                    0         21.72        0.00  1523664000  \n",
              "2018-04-15                    0         22.17        2.62  1523750400  \n",
              "2018-04-19                    0         26.44        0.00  1524096000  \n",
              "2018-04-22                    0         19.72        3.65  1524355200  \n",
              "2018-04-26                    0         30.56        0.00  1524700800  "
            ],
            "text/html": [
              "\n",
              "  <div id=\"df-3b0cdfa3-fd9c-4cc7-a639-03d7b5c0620a\">\n",
              "    <div class=\"colab-df-container\">\n",
              "      <div>\n",
              "<style scoped>\n",
              "    .dataframe tbody tr th:only-of-type {\n",
              "        vertical-align: middle;\n",
              "    }\n",
              "\n",
              "    .dataframe tbody tr th {\n",
              "        vertical-align: top;\n",
              "    }\n",
              "\n",
              "    .dataframe thead th {\n",
              "        text-align: right;\n",
              "    }\n",
              "</style>\n",
              "<table border=\"1\" class=\"dataframe\">\n",
              "  <thead>\n",
              "    <tr style=\"text-align: right;\">\n",
              "      <th></th>\n",
              "      <th>stn</th>\n",
              "      <th>wban</th>\n",
              "      <th>year</th>\n",
              "      <th>mo</th>\n",
              "      <th>da</th>\n",
              "      <th>temp</th>\n",
              "      <th>count_temp</th>\n",
              "      <th>dewp</th>\n",
              "      <th>count_dewp</th>\n",
              "      <th>slp</th>\n",
              "      <th>count_slp</th>\n",
              "      <th>stp</th>\n",
              "      <th>count_stp</th>\n",
              "      <th>visib</th>\n",
              "      <th>count_visib</th>\n",
              "      <th>wdsp</th>\n",
              "      <th>count_wdsp</th>\n",
              "      <th>mxpsd</th>\n",
              "      <th>gust</th>\n",
              "      <th>max</th>\n",
              "      <th>flag_max</th>\n",
              "      <th>min</th>\n",
              "      <th>flag_min</th>\n",
              "      <th>prcp</th>\n",
              "      <th>flag_prcp</th>\n",
              "      <th>sndp</th>\n",
              "      <th>fog</th>\n",
              "      <th>rain_drizzle</th>\n",
              "      <th>snow_ice_pellets</th>\n",
              "      <th>hail</th>\n",
              "      <th>thunder</th>\n",
              "      <th>tornado_funnel_cloud</th>\n",
              "      <th>celsius_temp</th>\n",
              "      <th>wdsp_mpsec</th>\n",
              "      <th>dt_num</th>\n",
              "    </tr>\n",
              "    <tr>\n",
              "      <th>dt</th>\n",
              "      <th></th>\n",
              "      <th></th>\n",
              "      <th></th>\n",
              "      <th></th>\n",
              "      <th></th>\n",
              "      <th></th>\n",
              "      <th></th>\n",
              "      <th></th>\n",
              "      <th></th>\n",
              "      <th></th>\n",
              "      <th></th>\n",
              "      <th></th>\n",
              "      <th></th>\n",
              "      <th></th>\n",
              "      <th></th>\n",
              "      <th></th>\n",
              "      <th></th>\n",
              "      <th></th>\n",
              "      <th></th>\n",
              "      <th></th>\n",
              "      <th></th>\n",
              "      <th></th>\n",
              "      <th></th>\n",
              "      <th></th>\n",
              "      <th></th>\n",
              "      <th></th>\n",
              "      <th></th>\n",
              "      <th></th>\n",
              "      <th></th>\n",
              "      <th></th>\n",
              "      <th></th>\n",
              "      <th></th>\n",
              "      <th></th>\n",
              "      <th></th>\n",
              "      <th></th>\n",
              "    </tr>\n",
              "  </thead>\n",
              "  <tbody>\n",
              "    <tr>\n",
              "      <th>2018-04-01</th>\n",
              "      <td>406370</td>\n",
              "      <td>99999</td>\n",
              "      <td>2018</td>\n",
              "      <td>04</td>\n",
              "      <td>01</td>\n",
              "      <td>69.5</td>\n",
              "      <td>6</td>\n",
              "      <td>52.7</td>\n",
              "      <td>6</td>\n",
              "      <td>1012.6</td>\n",
              "      <td>6</td>\n",
              "      <td>9999.9</td>\n",
              "      <td>0</td>\n",
              "      <td>6.2</td>\n",
              "      <td>6</td>\n",
              "      <td>0.0</td>\n",
              "      <td>0</td>\n",
              "      <td>999.9</td>\n",
              "      <td>999.9</td>\n",
              "      <td>83.3</td>\n",
              "      <td></td>\n",
              "      <td>54.7</td>\n",
              "      <td>*</td>\n",
              "      <td>0.00</td>\n",
              "      <td>E</td>\n",
              "      <td>999.9</td>\n",
              "      <td>0</td>\n",
              "      <td>0</td>\n",
              "      <td>0</td>\n",
              "      <td>0</td>\n",
              "      <td>0</td>\n",
              "      <td>0</td>\n",
              "      <td>20.83</td>\n",
              "      <td>0.00</td>\n",
              "      <td>1522540800</td>\n",
              "    </tr>\n",
              "    <tr>\n",
              "      <th>2018-04-02</th>\n",
              "      <td>406370</td>\n",
              "      <td>99999</td>\n",
              "      <td>2018</td>\n",
              "      <td>04</td>\n",
              "      <td>02</td>\n",
              "      <td>72.4</td>\n",
              "      <td>6</td>\n",
              "      <td>53.6</td>\n",
              "      <td>6</td>\n",
              "      <td>1012.8</td>\n",
              "      <td>6</td>\n",
              "      <td>9999.9</td>\n",
              "      <td>0</td>\n",
              "      <td>6.2</td>\n",
              "      <td>6</td>\n",
              "      <td>0.0</td>\n",
              "      <td>0</td>\n",
              "      <td>999.9</td>\n",
              "      <td>999.9</td>\n",
              "      <td>82.0</td>\n",
              "      <td>*</td>\n",
              "      <td>56.8</td>\n",
              "      <td></td>\n",
              "      <td>0.00</td>\n",
              "      <td>E</td>\n",
              "      <td>999.9</td>\n",
              "      <td>0</td>\n",
              "      <td>0</td>\n",
              "      <td>0</td>\n",
              "      <td>0</td>\n",
              "      <td>0</td>\n",
              "      <td>0</td>\n",
              "      <td>22.44</td>\n",
              "      <td>0.00</td>\n",
              "      <td>1522627200</td>\n",
              "    </tr>\n",
              "    <tr>\n",
              "      <th>2018-04-03</th>\n",
              "      <td>406370</td>\n",
              "      <td>99999</td>\n",
              "      <td>2018</td>\n",
              "      <td>04</td>\n",
              "      <td>03</td>\n",
              "      <td>75.5</td>\n",
              "      <td>7</td>\n",
              "      <td>54.7</td>\n",
              "      <td>7</td>\n",
              "      <td>1012.9</td>\n",
              "      <td>6</td>\n",
              "      <td>9999.9</td>\n",
              "      <td>0</td>\n",
              "      <td>6.2</td>\n",
              "      <td>7</td>\n",
              "      <td>0.0</td>\n",
              "      <td>0</td>\n",
              "      <td>999.9</td>\n",
              "      <td>999.9</td>\n",
              "      <td>90.5</td>\n",
              "      <td></td>\n",
              "      <td>57.2</td>\n",
              "      <td></td>\n",
              "      <td>0.00</td>\n",
              "      <td>F</td>\n",
              "      <td>999.9</td>\n",
              "      <td>0</td>\n",
              "      <td>0</td>\n",
              "      <td>0</td>\n",
              "      <td>0</td>\n",
              "      <td>0</td>\n",
              "      <td>0</td>\n",
              "      <td>24.17</td>\n",
              "      <td>0.00</td>\n",
              "      <td>1522713600</td>\n",
              "    </tr>\n",
              "    <tr>\n",
              "      <th>2018-04-04</th>\n",
              "      <td>406370</td>\n",
              "      <td>99999</td>\n",
              "      <td>2018</td>\n",
              "      <td>04</td>\n",
              "      <td>04</td>\n",
              "      <td>77.4</td>\n",
              "      <td>7</td>\n",
              "      <td>56.2</td>\n",
              "      <td>7</td>\n",
              "      <td>1011.0</td>\n",
              "      <td>7</td>\n",
              "      <td>9999.9</td>\n",
              "      <td>0</td>\n",
              "      <td>6.2</td>\n",
              "      <td>7</td>\n",
              "      <td>5.1</td>\n",
              "      <td>5</td>\n",
              "      <td>7.8</td>\n",
              "      <td>999.9</td>\n",
              "      <td>92.3</td>\n",
              "      <td></td>\n",
              "      <td>60.8</td>\n",
              "      <td></td>\n",
              "      <td>0.00</td>\n",
              "      <td>F</td>\n",
              "      <td>999.9</td>\n",
              "      <td>0</td>\n",
              "      <td>0</td>\n",
              "      <td>0</td>\n",
              "      <td>0</td>\n",
              "      <td>0</td>\n",
              "      <td>0</td>\n",
              "      <td>25.22</td>\n",
              "      <td>2.62</td>\n",
              "      <td>1522800000</td>\n",
              "    </tr>\n",
              "    <tr>\n",
              "      <th>2018-04-05</th>\n",
              "      <td>406370</td>\n",
              "      <td>99999</td>\n",
              "      <td>2018</td>\n",
              "      <td>04</td>\n",
              "      <td>05</td>\n",
              "      <td>78.8</td>\n",
              "      <td>4</td>\n",
              "      <td>55.4</td>\n",
              "      <td>4</td>\n",
              "      <td>1009.5</td>\n",
              "      <td>4</td>\n",
              "      <td>9999.9</td>\n",
              "      <td>0</td>\n",
              "      <td>6.2</td>\n",
              "      <td>4</td>\n",
              "      <td>0.0</td>\n",
              "      <td>0</td>\n",
              "      <td>999.9</td>\n",
              "      <td>999.9</td>\n",
              "      <td>88.5</td>\n",
              "      <td>*</td>\n",
              "      <td>62.1</td>\n",
              "      <td></td>\n",
              "      <td>0.00</td>\n",
              "      <td>E</td>\n",
              "      <td>999.9</td>\n",
              "      <td>0</td>\n",
              "      <td>0</td>\n",
              "      <td>0</td>\n",
              "      <td>0</td>\n",
              "      <td>0</td>\n",
              "      <td>0</td>\n",
              "      <td>26.00</td>\n",
              "      <td>0.00</td>\n",
              "      <td>1522886400</td>\n",
              "    </tr>\n",
              "    <tr>\n",
              "      <th>2018-04-09</th>\n",
              "      <td>406370</td>\n",
              "      <td>99999</td>\n",
              "      <td>2018</td>\n",
              "      <td>04</td>\n",
              "      <td>09</td>\n",
              "      <td>81.5</td>\n",
              "      <td>4</td>\n",
              "      <td>58.0</td>\n",
              "      <td>4</td>\n",
              "      <td>1010.7</td>\n",
              "      <td>4</td>\n",
              "      <td>9999.9</td>\n",
              "      <td>0</td>\n",
              "      <td>6.2</td>\n",
              "      <td>4</td>\n",
              "      <td>0.0</td>\n",
              "      <td>0</td>\n",
              "      <td>999.9</td>\n",
              "      <td>999.9</td>\n",
              "      <td>92.7</td>\n",
              "      <td>*</td>\n",
              "      <td>72.5</td>\n",
              "      <td>*</td>\n",
              "      <td>0.00</td>\n",
              "      <td>E</td>\n",
              "      <td>999.9</td>\n",
              "      <td>0</td>\n",
              "      <td>0</td>\n",
              "      <td>0</td>\n",
              "      <td>0</td>\n",
              "      <td>0</td>\n",
              "      <td>0</td>\n",
              "      <td>27.50</td>\n",
              "      <td>0.00</td>\n",
              "      <td>1523232000</td>\n",
              "    </tr>\n",
              "    <tr>\n",
              "      <th>2018-04-10</th>\n",
              "      <td>406370</td>\n",
              "      <td>99999</td>\n",
              "      <td>2018</td>\n",
              "      <td>04</td>\n",
              "      <td>10</td>\n",
              "      <td>76.3</td>\n",
              "      <td>5</td>\n",
              "      <td>57.1</td>\n",
              "      <td>5</td>\n",
              "      <td>1010.0</td>\n",
              "      <td>5</td>\n",
              "      <td>9999.9</td>\n",
              "      <td>0</td>\n",
              "      <td>6.2</td>\n",
              "      <td>5</td>\n",
              "      <td>0.0</td>\n",
              "      <td>0</td>\n",
              "      <td>999.9</td>\n",
              "      <td>999.9</td>\n",
              "      <td>83.8</td>\n",
              "      <td>*</td>\n",
              "      <td>68.5</td>\n",
              "      <td>*</td>\n",
              "      <td>0.00</td>\n",
              "      <td>E</td>\n",
              "      <td>999.9</td>\n",
              "      <td>0</td>\n",
              "      <td>0</td>\n",
              "      <td>0</td>\n",
              "      <td>0</td>\n",
              "      <td>0</td>\n",
              "      <td>0</td>\n",
              "      <td>24.61</td>\n",
              "      <td>0.00</td>\n",
              "      <td>1523318400</td>\n",
              "    </tr>\n",
              "    <tr>\n",
              "      <th>2018-04-11</th>\n",
              "      <td>406370</td>\n",
              "      <td>99999</td>\n",
              "      <td>2018</td>\n",
              "      <td>04</td>\n",
              "      <td>11</td>\n",
              "      <td>78.3</td>\n",
              "      <td>6</td>\n",
              "      <td>57.2</td>\n",
              "      <td>6</td>\n",
              "      <td>1008.1</td>\n",
              "      <td>6</td>\n",
              "      <td>9999.9</td>\n",
              "      <td>0</td>\n",
              "      <td>7.1</td>\n",
              "      <td>6</td>\n",
              "      <td>4.4</td>\n",
              "      <td>4</td>\n",
              "      <td>5.8</td>\n",
              "      <td>999.9</td>\n",
              "      <td>91.4</td>\n",
              "      <td></td>\n",
              "      <td>66.2</td>\n",
              "      <td></td>\n",
              "      <td>0.00</td>\n",
              "      <td>F</td>\n",
              "      <td>999.9</td>\n",
              "      <td>0</td>\n",
              "      <td>0</td>\n",
              "      <td>0</td>\n",
              "      <td>0</td>\n",
              "      <td>1</td>\n",
              "      <td>0</td>\n",
              "      <td>25.72</td>\n",
              "      <td>2.26</td>\n",
              "      <td>1523404800</td>\n",
              "    </tr>\n",
              "    <tr>\n",
              "      <th>2018-04-13</th>\n",
              "      <td>406370</td>\n",
              "      <td>99999</td>\n",
              "      <td>2018</td>\n",
              "      <td>04</td>\n",
              "      <td>13</td>\n",
              "      <td>64.7</td>\n",
              "      <td>7</td>\n",
              "      <td>55.3</td>\n",
              "      <td>7</td>\n",
              "      <td>1011.2</td>\n",
              "      <td>7</td>\n",
              "      <td>9999.9</td>\n",
              "      <td>0</td>\n",
              "      <td>6.2</td>\n",
              "      <td>7</td>\n",
              "      <td>0.0</td>\n",
              "      <td>0</td>\n",
              "      <td>999.9</td>\n",
              "      <td>999.9</td>\n",
              "      <td>77.5</td>\n",
              "      <td></td>\n",
              "      <td>56.3</td>\n",
              "      <td></td>\n",
              "      <td>0.24</td>\n",
              "      <td>F</td>\n",
              "      <td>999.9</td>\n",
              "      <td>0</td>\n",
              "      <td>0</td>\n",
              "      <td>0</td>\n",
              "      <td>0</td>\n",
              "      <td>0</td>\n",
              "      <td>0</td>\n",
              "      <td>18.17</td>\n",
              "      <td>0.00</td>\n",
              "      <td>1523577600</td>\n",
              "    </tr>\n",
              "    <tr>\n",
              "      <th>2018-04-14</th>\n",
              "      <td>406370</td>\n",
              "      <td>99999</td>\n",
              "      <td>2018</td>\n",
              "      <td>04</td>\n",
              "      <td>14</td>\n",
              "      <td>71.1</td>\n",
              "      <td>7</td>\n",
              "      <td>56.9</td>\n",
              "      <td>7</td>\n",
              "      <td>1010.4</td>\n",
              "      <td>6</td>\n",
              "      <td>9999.9</td>\n",
              "      <td>0</td>\n",
              "      <td>6.2</td>\n",
              "      <td>7</td>\n",
              "      <td>0.0</td>\n",
              "      <td>0</td>\n",
              "      <td>999.9</td>\n",
              "      <td>999.9</td>\n",
              "      <td>84.2</td>\n",
              "      <td></td>\n",
              "      <td>55.4</td>\n",
              "      <td></td>\n",
              "      <td>0.00</td>\n",
              "      <td>F</td>\n",
              "      <td>999.9</td>\n",
              "      <td>0</td>\n",
              "      <td>0</td>\n",
              "      <td>0</td>\n",
              "      <td>0</td>\n",
              "      <td>0</td>\n",
              "      <td>0</td>\n",
              "      <td>21.72</td>\n",
              "      <td>0.00</td>\n",
              "      <td>1523664000</td>\n",
              "    </tr>\n",
              "    <tr>\n",
              "      <th>2018-04-15</th>\n",
              "      <td>406370</td>\n",
              "      <td>99999</td>\n",
              "      <td>2018</td>\n",
              "      <td>04</td>\n",
              "      <td>15</td>\n",
              "      <td>71.9</td>\n",
              "      <td>7</td>\n",
              "      <td>55.3</td>\n",
              "      <td>7</td>\n",
              "      <td>1008.9</td>\n",
              "      <td>7</td>\n",
              "      <td>9999.9</td>\n",
              "      <td>0</td>\n",
              "      <td>6.2</td>\n",
              "      <td>7</td>\n",
              "      <td>5.1</td>\n",
              "      <td>5</td>\n",
              "      <td>7.8</td>\n",
              "      <td>999.9</td>\n",
              "      <td>86.9</td>\n",
              "      <td></td>\n",
              "      <td>60.8</td>\n",
              "      <td></td>\n",
              "      <td>0.02</td>\n",
              "      <td>F</td>\n",
              "      <td>999.9</td>\n",
              "      <td>0</td>\n",
              "      <td>0</td>\n",
              "      <td>0</td>\n",
              "      <td>0</td>\n",
              "      <td>1</td>\n",
              "      <td>0</td>\n",
              "      <td>22.17</td>\n",
              "      <td>2.62</td>\n",
              "      <td>1523750400</td>\n",
              "    </tr>\n",
              "    <tr>\n",
              "      <th>2018-04-19</th>\n",
              "      <td>406370</td>\n",
              "      <td>99999</td>\n",
              "      <td>2018</td>\n",
              "      <td>04</td>\n",
              "      <td>19</td>\n",
              "      <td>79.6</td>\n",
              "      <td>5</td>\n",
              "      <td>54.7</td>\n",
              "      <td>5</td>\n",
              "      <td>1014.0</td>\n",
              "      <td>5</td>\n",
              "      <td>9999.9</td>\n",
              "      <td>0</td>\n",
              "      <td>6.2</td>\n",
              "      <td>5</td>\n",
              "      <td>0.0</td>\n",
              "      <td>0</td>\n",
              "      <td>999.9</td>\n",
              "      <td>999.9</td>\n",
              "      <td>90.5</td>\n",
              "      <td>*</td>\n",
              "      <td>59.9</td>\n",
              "      <td></td>\n",
              "      <td>0.00</td>\n",
              "      <td>E</td>\n",
              "      <td>999.9</td>\n",
              "      <td>0</td>\n",
              "      <td>0</td>\n",
              "      <td>0</td>\n",
              "      <td>0</td>\n",
              "      <td>0</td>\n",
              "      <td>0</td>\n",
              "      <td>26.44</td>\n",
              "      <td>0.00</td>\n",
              "      <td>1524096000</td>\n",
              "    </tr>\n",
              "    <tr>\n",
              "      <th>2018-04-22</th>\n",
              "      <td>406370</td>\n",
              "      <td>99999</td>\n",
              "      <td>2018</td>\n",
              "      <td>04</td>\n",
              "      <td>22</td>\n",
              "      <td>67.5</td>\n",
              "      <td>6</td>\n",
              "      <td>58.2</td>\n",
              "      <td>6</td>\n",
              "      <td>1007.9</td>\n",
              "      <td>6</td>\n",
              "      <td>9999.9</td>\n",
              "      <td>0</td>\n",
              "      <td>5.9</td>\n",
              "      <td>6</td>\n",
              "      <td>7.1</td>\n",
              "      <td>6</td>\n",
              "      <td>9.7</td>\n",
              "      <td>999.9</td>\n",
              "      <td>80.6</td>\n",
              "      <td></td>\n",
              "      <td>57.9</td>\n",
              "      <td>*</td>\n",
              "      <td>0.20</td>\n",
              "      <td>F</td>\n",
              "      <td>999.9</td>\n",
              "      <td>0</td>\n",
              "      <td>1</td>\n",
              "      <td>0</td>\n",
              "      <td>0</td>\n",
              "      <td>1</td>\n",
              "      <td>0</td>\n",
              "      <td>19.72</td>\n",
              "      <td>3.65</td>\n",
              "      <td>1524355200</td>\n",
              "    </tr>\n",
              "    <tr>\n",
              "      <th>2018-04-26</th>\n",
              "      <td>406370</td>\n",
              "      <td>99999</td>\n",
              "      <td>2018</td>\n",
              "      <td>04</td>\n",
              "      <td>26</td>\n",
              "      <td>87.0</td>\n",
              "      <td>5</td>\n",
              "      <td>59.9</td>\n",
              "      <td>5</td>\n",
              "      <td>1008.8</td>\n",
              "      <td>5</td>\n",
              "      <td>9999.9</td>\n",
              "      <td>0</td>\n",
              "      <td>6.2</td>\n",
              "      <td>5</td>\n",
              "      <td>0.0</td>\n",
              "      <td>0</td>\n",
              "      <td>999.9</td>\n",
              "      <td>999.9</td>\n",
              "      <td>97.9</td>\n",
              "      <td></td>\n",
              "      <td>69.8</td>\n",
              "      <td></td>\n",
              "      <td>0.00</td>\n",
              "      <td>E</td>\n",
              "      <td>999.9</td>\n",
              "      <td>0</td>\n",
              "      <td>0</td>\n",
              "      <td>0</td>\n",
              "      <td>0</td>\n",
              "      <td>0</td>\n",
              "      <td>0</td>\n",
              "      <td>30.56</td>\n",
              "      <td>0.00</td>\n",
              "      <td>1524700800</td>\n",
              "    </tr>\n",
              "  </tbody>\n",
              "</table>\n",
              "</div>\n",
              "      <button class=\"colab-df-convert\" onclick=\"convertToInteractive('df-3b0cdfa3-fd9c-4cc7-a639-03d7b5c0620a')\"\n",
              "              title=\"Convert this dataframe to an interactive table.\"\n",
              "              style=\"display:none;\">\n",
              "        \n",
              "  <svg xmlns=\"http://www.w3.org/2000/svg\" height=\"24px\"viewBox=\"0 0 24 24\"\n",
              "       width=\"24px\">\n",
              "    <path d=\"M0 0h24v24H0V0z\" fill=\"none\"/>\n",
              "    <path d=\"M18.56 5.44l.94 2.06.94-2.06 2.06-.94-2.06-.94-.94-2.06-.94 2.06-2.06.94zm-11 1L8.5 8.5l.94-2.06 2.06-.94-2.06-.94L8.5 2.5l-.94 2.06-2.06.94zm10 10l.94 2.06.94-2.06 2.06-.94-2.06-.94-.94-2.06-.94 2.06-2.06.94z\"/><path d=\"M17.41 7.96l-1.37-1.37c-.4-.4-.92-.59-1.43-.59-.52 0-1.04.2-1.43.59L10.3 9.45l-7.72 7.72c-.78.78-.78 2.05 0 2.83L4 21.41c.39.39.9.59 1.41.59.51 0 1.02-.2 1.41-.59l7.78-7.78 2.81-2.81c.8-.78.8-2.07 0-2.86zM5.41 20L4 18.59l7.72-7.72 1.47 1.35L5.41 20z\"/>\n",
              "  </svg>\n",
              "      </button>\n",
              "      \n",
              "  <style>\n",
              "    .colab-df-container {\n",
              "      display:flex;\n",
              "      flex-wrap:wrap;\n",
              "      gap: 12px;\n",
              "    }\n",
              "\n",
              "    .colab-df-convert {\n",
              "      background-color: #E8F0FE;\n",
              "      border: none;\n",
              "      border-radius: 50%;\n",
              "      cursor: pointer;\n",
              "      display: none;\n",
              "      fill: #1967D2;\n",
              "      height: 32px;\n",
              "      padding: 0 0 0 0;\n",
              "      width: 32px;\n",
              "    }\n",
              "\n",
              "    .colab-df-convert:hover {\n",
              "      background-color: #E2EBFA;\n",
              "      box-shadow: 0px 1px 2px rgba(60, 64, 67, 0.3), 0px 1px 3px 1px rgba(60, 64, 67, 0.15);\n",
              "      fill: #174EA6;\n",
              "    }\n",
              "\n",
              "    [theme=dark] .colab-df-convert {\n",
              "      background-color: #3B4455;\n",
              "      fill: #D2E3FC;\n",
              "    }\n",
              "\n",
              "    [theme=dark] .colab-df-convert:hover {\n",
              "      background-color: #434B5C;\n",
              "      box-shadow: 0px 1px 3px 1px rgba(0, 0, 0, 0.15);\n",
              "      filter: drop-shadow(0px 1px 2px rgba(0, 0, 0, 0.3));\n",
              "      fill: #FFFFFF;\n",
              "    }\n",
              "  </style>\n",
              "\n",
              "      <script>\n",
              "        const buttonEl =\n",
              "          document.querySelector('#df-3b0cdfa3-fd9c-4cc7-a639-03d7b5c0620a button.colab-df-convert');\n",
              "        buttonEl.style.display =\n",
              "          google.colab.kernel.accessAllowed ? 'block' : 'none';\n",
              "\n",
              "        async function convertToInteractive(key) {\n",
              "          const element = document.querySelector('#df-3b0cdfa3-fd9c-4cc7-a639-03d7b5c0620a');\n",
              "          const dataTable =\n",
              "            await google.colab.kernel.invokeFunction('convertToInteractive',\n",
              "                                                     [key], {});\n",
              "          if (!dataTable) return;\n",
              "\n",
              "          const docLinkHtml = 'Like what you see? Visit the ' +\n",
              "            '<a target=\"_blank\" href=https://colab.research.google.com/notebooks/data_table.ipynb>data table notebook</a>'\n",
              "            + ' to learn more about interactive tables.';\n",
              "          element.innerHTML = '';\n",
              "          dataTable['output_type'] = 'display_data';\n",
              "          await google.colab.output.renderOutput(dataTable, element);\n",
              "          const docLink = document.createElement('div');\n",
              "          docLink.innerHTML = docLinkHtml;\n",
              "          element.appendChild(docLink);\n",
              "        }\n",
              "      </script>\n",
              "    </div>\n",
              "  </div>\n",
              "  "
            ]
          },
          "metadata": {},
          "execution_count": 168
        }
      ]
    },
    {
      "cell_type": "markdown",
      "source": [
        "**We can see that we got only 14 rows for the month of April 2018. Thus there are many days wherein the data has not been recorded, and the date entries are just not present in the data. Even with the date records that we have, 10 out 14 wdsp values are missing and are thus zero.**"
      ],
      "metadata": {
        "id": "Yjr1HRV-DnKi"
      }
    },
    {
      "cell_type": "markdown",
      "source": [
        "Create the window function for a 3 day rolling temperature (remember - time matters!) The window should be composed of today, yesterday, and two days ago. \n",
        "\n",
        "**Note:** The example from the book is not directly applicable here - make sure you check your work and work out some of the math to confirm your rolling window function did what it was supposed to do!"
      ],
      "metadata": {
        "id": "puDZM924r5Pf"
      }
    },
    {
      "cell_type": "markdown",
      "source": [
        "**Since our window should be composed of today, yesterday, and two days ago, we need to use rangeBetween and not rowBetween. Using rangeBetween, we ensure that it takes the previous 3 days into account, while rowBetween will take previous 3 rows into account, and thus if there are missing records for yesterday or two days ago, it will take earlier records and calculate the moving average.**"
      ],
      "metadata": {
        "id": "6mNAz2XlXJ7E"
      }
    },
    {
      "cell_type": "code",
      "source": [
        "# Let's create a GMT timestamp to create our window\n",
        "from pyspark.sql.window import Window\n",
        "gsod_subset = gsod_subset.withColumn('timestampGMT', gsod_subset.dt.cast('timestamp'))\n",
        "\n",
        "# Calculate no. of seconds given the days\n",
        "days = lambda i: i * 86400\n",
        "\n",
        "#create window by casting timestamp to long (number of seconds)\n",
        "w = Window.orderBy(F.col(\"timestampGMT\").cast('long')).rangeBetween(-days(2), 0)"
      ],
      "metadata": {
        "id": "ayWpkPQy-cX3"
      },
      "execution_count": null,
      "outputs": []
    },
    {
      "cell_type": "code",
      "source": [
        "# Use the window funnction to calculate 3 day rolling averages\n",
        "gsod_subset1 = gsod_subset.withColumn('3_day_rolling_average', F.round(F.avg(\"temp\").over(w),2))"
      ],
      "metadata": {
        "id": "cHq596kGGFKq"
      },
      "execution_count": null,
      "outputs": []
    },
    {
      "cell_type": "code",
      "source": [
        "# Let's check our results\n",
        "gsod_subset1.select(\"dt\",\"temp\",\"3_day_rolling_average\").show(10)"
      ],
      "metadata": {
        "colab": {
          "base_uri": "https://localhost:8080/"
        },
        "id": "kv2-FPHyGU4R",
        "outputId": "ac979dcb-de90-4ca9-bd86-197d4d461ee8"
      },
      "execution_count": null,
      "outputs": [
        {
          "output_type": "stream",
          "name": "stdout",
          "text": [
            "+----------+----+---------------------+\n",
            "|        dt|temp|3_day_rolling_average|\n",
            "+----------+----+---------------------+\n",
            "|2017-01-03|47.4|                 47.4|\n",
            "|2017-01-04|46.5|                46.95|\n",
            "|2017-01-05|48.3|                 47.4|\n",
            "|2017-01-06|45.7|                46.83|\n",
            "|2017-01-07|50.8|                48.27|\n",
            "|2017-01-08|51.0|                49.17|\n",
            "|2017-01-09|56.6|                 52.8|\n",
            "|2017-01-10|53.3|                53.63|\n",
            "|2017-01-11|51.9|                53.93|\n",
            "|2017-01-12|52.2|                52.47|\n",
            "+----------+----+---------------------+\n",
            "only showing top 10 rows\n",
            "\n"
          ]
        }
      ]
    },
    {
      "cell_type": "markdown",
      "source": [
        "First entry: No records before thus 3_day_rolling_average = temp = 47.4\n",
        "\n",
        "Second entry: 3_day_rolling_average = (46.5 + 47.4)/2 = 93.9/2 = 46.95\n",
        "\n",
        "Third entry: 3_day_rolling_average = (48.3 + 46.5 + 47.4)/3 = 142.2/3 = 47.4\n",
        "\n",
        "Fourth entry: 3_day_rolling_average = (45.7 + 48.3 + 46.5)/3 = 140.5/3 = 46.833\n",
        "\n",
        "Fifth entry: 3_day_rolling_average = (50.8 + 45.7 + 48.3)/3 = 144.8/3 = 48.266"
      ],
      "metadata": {
        "id": "Ut33r5jIXqrT"
      }
    },
    {
      "cell_type": "markdown",
      "source": [
        "Make a line plot with the raw temperature value (in blue) and the rolling window temperature value (in orange)."
      ],
      "metadata": {
        "id": "IXm2ORMevBzt"
      }
    },
    {
      "cell_type": "code",
      "source": [
        "# Convert to Pandas using toPandas()\n",
        "gsod_subset1_pd = gsod_subset1.toPandas()"
      ],
      "metadata": {
        "id": "9VQnkD4LIsBu"
      },
      "execution_count": null,
      "outputs": []
    },
    {
      "cell_type": "code",
      "source": [
        "# Preprocess the data to create the plot in an easy manner\n",
        "gsod_subset1_pd = gsod_subset1_pd.sort_values(by='dt')  # Sort the data according to date\n",
        "gsod_subset1_pd.set_index('dt', inplace=True) # Set the index as date"
      ],
      "metadata": {
        "id": "6ee4WE_CI8P0"
      },
      "execution_count": null,
      "outputs": []
    },
    {
      "cell_type": "code",
      "source": [
        "# First let's set the figure size\n",
        "fig, ax = plt.subplots(figsize=(12, 5))\n",
        "# Let's plot\n",
        "plt.plot(gsod_subset1_pd[[\"temp\",\"3_day_rolling_average\"]])\n",
        "ax.set_xlabel('Date', color=\"black\")\n",
        "ax.set_ylabel('Temp', color=\"black\")\n",
        "plt.title('Temp and 3_day_rolling_average vs Date')\n",
        "plt.legend(['Temp', '3_day_rolling_average'])\n",
        "plt.show()"
      ],
      "metadata": {
        "colab": {
          "base_uri": "https://localhost:8080/",
          "height": 394
        },
        "id": "6zXhofHNIcmw",
        "outputId": "52841e04-a72d-4360-948e-2c8937cd65e4"
      },
      "execution_count": null,
      "outputs": [
        {
          "output_type": "display_data",
          "data": {
            "text/plain": [
              "<Figure size 1200x500 with 1 Axes>"
            ],
            "image/png": "[encoded data removed]"
          },
          "metadata": {}
        }
      ]
    },
    {
      "cell_type": "markdown",
      "source": [
        "# 🔵 (20 pts total) Pandas UDFs and/or Window Functions"
      ],
      "metadata": {
        "id": "idAc91xtbJ1w"
      }
    },
    {
      "cell_type": "markdown",
      "source": [
        "This is probably the hardest part of the project - spend some time on this and try a few different approaches if needed! I recommend just using a single station with all observations - how about station 406370? "
      ],
      "metadata": {
        "id": "pqdIik0S-j3h"
      }
    },
    {
      "cell_type": "markdown",
      "source": [
        "## Consecutive Values Above Threshold\n",
        "I would like a new column in the PySpark DataFrame that contains the maximum consecutive values above a threshold (>=90 degF).\n",
        "\n",
        "If the raw values are [91, 89, 88, 93, 94, 101, 85], then the output should be [1, 0, 0, 1, 2, 3, 0]. You are summing cumulative logical values!"
      ],
      "metadata": {
        "id": "yUIA9A2QygTo"
      }
    },
    {
      "cell_type": "markdown",
      "source": [
        "Read this:\n",
        "* https://stackoverflow.com/questions/73121080/count-consecutive-numbers-from-a-column-of-a-dataframe-in-python\n",
        "* https://datascience.stackexchange.com/questions/77644/count-the-max-number-of-consecutive-1-and-0-in-pandas-dataframe\n",
        "* ... and Chapters 8, 9 and 10 in your book"
      ],
      "metadata": {
        "id": "HZ2PN-CES1ig"
      }
    },
    {
      "cell_type": "markdown",
      "source": [
        "Now go code it up!"
      ],
      "metadata": {
        "id": "zrwIAKqH_Nsg"
      }
    },
    {
      "cell_type": "markdown",
      "source": [
        "#### Method 1 - Using Pandas"
      ],
      "metadata": {
        "id": "zUipO7HWea9Q"
      }
    },
    {
      "cell_type": "code",
      "source": [
        "# Command to see max 500 rows\n",
        "pd.set_option('display.max_rows',500)"
      ],
      "metadata": {
        "id": "tW7AVo4mPMCQ"
      },
      "execution_count": null,
      "outputs": []
    },
    {
      "cell_type": "code",
      "source": [
        "# Let's create a new column according to our condition\n",
        "# If temp > 90, new column will be 1, or else it will be 0\n",
        "gsod_subset1_pd['temp_bin'] = gsod_subset1_pd['temp'].apply(lambda x: 1 if x > 90 else 0)"
      ],
      "metadata": {
        "id": "M3aidZ1LMgC3"
      },
      "execution_count": null,
      "outputs": []
    },
    {
      "cell_type": "code",
      "source": [
        "# Over here we first create a dataframe with our logical values\n",
        "a = gsod_subset1_pd['temp_bin'] != 0\n",
        "# Next, we calculate cumsum of boolean series. \n",
        "# Then we set all elements of the cumulative sum that correspond to False values in 'a' to NaN\n",
        "# Then we forwards fill the NaN values with the last non-null value in the series and this \n",
        "# effectively \"carries over\" the most recent cumulative sum whenever the condition in a becomes false.\n",
        "\n",
        "# Finally we subtracts the \"carried-over\" cumulative sum from the overall cumulative sum at each point, \n",
        "# effectively starting a new count every time the condition in a becomes false. \n",
        "# This gives us a series of integers where each element represents the number of times the condition \n",
        "# in 'a' has been true since the last time it became false.\n",
        "gsod_subset1_pd['counter'] = a.cumsum()-a.cumsum().where(~a).ffill().fillna(0).astype(int)\n",
        "gsod_subset1_pd[['temp','temp_bin','counter']].head(200)\n"
      ],
      "metadata": {
        "id": "L9w_w22pR3Zs",
        "colab": {
          "base_uri": "https://localhost:8080/",
          "height": 1000
        },
        "outputId": "a94a2745-65c3-441f-d17c-f3a5ba5cda84"
      },
      "execution_count": null,
      "outputs": [
        {
          "output_type": "execute_result",
          "data": {
            "text/plain": [
              "             temp  temp_bin  counter\n",
              "dt                                  \n",
              "2017-01-03   47.4         0        0\n",
              "2017-01-04   46.5         0        0\n",
              "2017-01-05   48.3         0        0\n",
              "2017-01-06   45.7         0        0\n",
              "2017-01-07   50.8         0        0\n",
              "2017-01-08   51.0         0        0\n",
              "2017-01-09   56.6         0        0\n",
              "2017-01-10   53.3         0        0\n",
              "2017-01-11   51.9         0        0\n",
              "2017-01-12   52.2         0        0\n",
              "2017-01-13   48.4         0        0\n",
              "2017-01-14   50.7         0        0\n",
              "2017-01-15   51.1         0        0\n",
              "2017-01-16   46.5         0        0\n",
              "2017-01-17   47.2         0        0\n",
              "2017-01-18   46.7         0        0\n",
              "2017-01-19   49.5         0        0\n",
              "2017-01-20   51.2         0        0\n",
              "2017-01-21   50.7         0        0\n",
              "2017-01-22   49.7         0        0\n",
              "2017-01-23   53.7         0        0\n",
              "2017-01-24   49.2         0        0\n",
              "2017-01-25   50.7         0        0\n",
              "2017-01-26   58.1         0        0\n",
              "2017-01-27   51.4         0        0\n",
              "2017-01-28   49.4         0        0\n",
              "2017-01-29   45.8         0        0\n",
              "2017-01-30   42.0         0        0\n",
              "2017-01-31   43.8         0        0\n",
              "2017-02-01   36.6         0        0\n",
              "2017-02-02   35.6         0        0\n",
              "2017-02-03   40.3         0        0\n",
              "2017-02-04   44.6         0        0\n",
              "2017-02-06   48.6         0        0\n",
              "2017-02-07   47.4         0        0\n",
              "2017-02-08   54.5         0        0\n",
              "2017-02-09   51.3         0        0\n",
              "2017-02-10   53.5         0        0\n",
              "2017-02-11   53.1         0        0\n",
              "2017-02-12   56.5         0        0\n",
              "2017-02-13   53.1         0        0\n",
              "2017-02-14   53.9         0        0\n",
              "2017-02-15   54.4         0        0\n",
              "2017-02-16   48.1         0        0\n",
              "2017-02-17   42.5         0        0\n",
              "2017-02-18   43.7         0        0\n",
              "2017-02-19   47.0         0        0\n",
              "2017-02-20   50.2         0        0\n",
              "2017-02-21   54.8         0        0\n",
              "2017-02-22   53.6         0        0\n",
              "2017-02-23   55.7         0        0\n",
              "2017-02-24   58.4         0        0\n",
              "2017-02-25   54.2         0        0\n",
              "2017-02-26   57.9         0        0\n",
              "2017-02-27   60.3         0        0\n",
              "2017-02-28   63.0         0        0\n",
              "2017-03-01   62.7         0        0\n",
              "2017-03-02   58.1         0        0\n",
              "2017-03-03   57.5         0        0\n",
              "2017-03-04   54.7         0        0\n",
              "2017-03-05   59.4         0        0\n",
              "2017-03-06   65.1         0        0\n",
              "2017-03-07   64.1         0        0\n",
              "2017-03-08   62.2         0        0\n",
              "2017-03-09   62.0         0        0\n",
              "2017-03-10   67.8         0        0\n",
              "2017-03-11   68.5         0        0\n",
              "2017-03-12   68.3         0        0\n",
              "2017-03-13   62.9         0        0\n",
              "2017-03-14   62.0         0        0\n",
              "2017-03-15   62.4         0        0\n",
              "2017-03-16   59.6         0        0\n",
              "2017-03-18   71.6         0        0\n",
              "2017-03-19   55.6         0        0\n",
              "2017-03-20   59.0         0        0\n",
              "2017-03-21   59.7         0        0\n",
              "2017-03-22   66.8         0        0\n",
              "2017-03-23   60.5         0        0\n",
              "2017-03-24   56.9         0        0\n",
              "2017-03-25   57.7         0        0\n",
              "2017-03-26   60.8         0        0\n",
              "2017-03-27   62.4         0        0\n",
              "2017-03-30   66.0         0        0\n",
              "2017-03-31   62.7         0        0\n",
              "2017-04-01   65.1         0        0\n",
              "2017-04-03   63.0         0        0\n",
              "2017-04-04   62.0         0        0\n",
              "2017-04-05   68.5         0        0\n",
              "2017-04-06   69.2         0        0\n",
              "2017-04-07   75.9         0        0\n",
              "2017-04-08   71.3         0        0\n",
              "2017-04-09   71.1         0        0\n",
              "2017-04-10   68.4         0        0\n",
              "2017-04-11   69.1         0        0\n",
              "2017-04-12   79.1         0        0\n",
              "2017-04-13   89.9         0        0\n",
              "2017-04-15   69.0         0        0\n",
              "2017-04-16   71.5         0        0\n",
              "2017-04-17   75.1         0        0\n",
              "2017-04-18   75.7         0        0\n",
              "2017-04-19   74.9         0        0\n",
              "2017-04-20   73.3         0        0\n",
              "2017-04-21   76.5         0        0\n",
              "2017-04-22   80.9         0        0\n",
              "2017-04-23   81.5         0        0\n",
              "2017-04-24   79.2         0        0\n",
              "2017-04-25   70.1         0        0\n",
              "2017-04-26   77.6         0        0\n",
              "2017-04-27   82.7         0        0\n",
              "2017-04-28   87.5         0        0\n",
              "2017-04-29   86.8         0        0\n",
              "2017-05-01   87.3         0        0\n",
              "2017-05-02   80.5         0        0\n",
              "2017-05-03   83.2         0        0\n",
              "2017-05-04   86.0         0        0\n",
              "2017-05-05   80.9         0        0\n",
              "2017-05-06   82.7         0        0\n",
              "2017-05-07   85.4         0        0\n",
              "2017-05-08   88.1         0        0\n",
              "2017-05-09   87.2         0        0\n",
              "2017-05-10   90.5         1        1\n",
              "2017-05-11   94.6         1        2\n",
              "2017-05-12   92.9         1        3\n",
              "2017-05-13   84.6         0        0\n",
              "2017-05-14   88.3         0        0\n",
              "2017-05-15   93.9         1        1\n",
              "2017-05-16   89.1         0        0\n",
              "2017-05-17   86.0         0        0\n",
              "2017-05-18   87.6         0        0\n",
              "2017-05-20   90.2         1        1\n",
              "2017-05-21   81.7         0        0\n",
              "2017-05-22   80.6         0        0\n",
              "2017-05-23   87.9         0        0\n",
              "2017-05-24   85.3         0        0\n",
              "2017-05-25   84.6         0        0\n",
              "2017-05-26   94.2         1        1\n",
              "2017-05-27   87.7         0        0\n",
              "2017-05-28   92.5         1        1\n",
              "2017-05-29   96.4         1        2\n",
              "2017-05-30   99.5         1        3\n",
              "2017-05-31   91.0         1        4\n",
              "2017-06-01   84.9         0        0\n",
              "2017-06-02   85.7         0        0\n",
              "2017-06-03   89.3         0        0\n",
              "2017-06-04   92.5         1        1\n",
              "2017-06-05   95.4         1        2\n",
              "2017-06-06   95.2         1        3\n",
              "2017-06-07  101.3         1        4\n",
              "2017-06-09   99.9         1        5\n",
              "2017-06-10  101.5         1        6\n",
              "2017-06-11   96.0         1        7\n",
              "2017-06-12   96.2         1        8\n",
              "2017-06-13   99.1         1        9\n",
              "2017-06-14  102.7         1       10\n",
              "2017-06-15   94.2         1       11\n",
              "2017-06-16   99.8         1       12\n",
              "2017-06-17  101.1         1       13\n",
              "2017-06-18   99.6         1       14\n",
              "2017-06-19   99.0         1       15\n",
              "2017-06-20   95.0         1       16\n",
              "2017-06-21   90.4         1       17\n",
              "2017-06-22   92.3         1       18\n",
              "2017-06-23   89.4         0        0\n",
              "2017-06-24   95.2         1        1\n",
              "2017-06-25   94.8         1        2\n",
              "2017-06-26  105.7         1        3\n",
              "2017-06-27  103.4         1        4\n",
              "2017-06-28  105.3         1        5\n",
              "2017-06-29  104.8         1        6\n",
              "2017-06-30  105.9         1        7\n",
              "2017-07-01  106.1         1        8\n",
              "2017-07-02  106.5         1        9\n",
              "2017-07-04  108.5         1       10\n",
              "2017-07-05  106.4         1       11\n",
              "2017-07-06  103.4         1       12\n",
              "2017-07-07  103.6         1       13\n",
              "2017-07-08  103.7         1       14\n",
              "2017-07-09  103.9         1       15\n",
              "2017-07-10  105.9         1       16\n",
              "2017-07-11   95.5         1       17\n",
              "2017-07-12  106.8         1       18\n",
              "2017-07-13  101.8         1       19\n",
              "2017-07-14   95.3         1       20\n",
              "2017-07-16  107.1         1       21\n",
              "2017-07-20  101.7         1       22\n",
              "2017-07-21  101.8         1       23\n",
              "2017-07-22  107.9         1       24\n",
              "2017-07-24  103.6         1       25\n",
              "2017-07-25  100.0         1       26\n",
              "2017-07-26  104.4         1       27\n",
              "2017-07-27  101.5         1       28\n",
              "2017-07-28  106.5         1       29\n",
              "2017-07-29  104.9         1       30\n",
              "2017-07-30  100.9         1       31\n",
              "2017-07-31  100.4         1       32\n",
              "2017-08-01  103.9         1       33\n",
              "2017-08-02  107.2         1       34\n",
              "2017-08-04  102.9         1       35\n",
              "2017-08-05  104.6         1       36\n",
              "2017-08-06  103.3         1       37"
            ],
            "text/html": [
              "\n",
              "  <div id=\"df-aab8265b-cc17-4ffd-ba5a-9cea1ee23a62\">\n",
              "    <div class=\"colab-df-container\">\n",
              "      <div>\n",
              "<style scoped>\n",
              "    .dataframe tbody tr th:only-of-type {\n",
              "        vertical-align: middle;\n",
              "    }\n",
              "\n",
              "    .dataframe tbody tr th {\n",
              "        vertical-align: top;\n",
              "    }\n",
              "\n",
              "    .dataframe thead th {\n",
              "        text-align: right;\n",
              "    }\n",
              "</style>\n",
              "<table border=\"1\" class=\"dataframe\">\n",
              "  <thead>\n",
              "    <tr style=\"text-align: right;\">\n",
              "      <th></th>\n",
              "      <th>temp</th>\n",
              "      <th>temp_bin</th>\n",
              "      <th>counter</th>\n",
              "    </tr>\n",
              "    <tr>\n",
              "      <th>dt</th>\n",
              "      <th></th>\n",
              "      <th></th>\n",
              "      <th></th>\n",
              "    </tr>\n",
              "  </thead>\n",
              "  <tbody>\n",
              "    <tr>\n",
              "      <th>2017-01-03</th>\n",
              "      <td>47.4</td>\n",
              "      <td>0</td>\n",
              "      <td>0</td>\n",
              "    </tr>\n",
              "    <tr>\n",
              "      <th>2017-01-04</th>\n",
              "      <td>46.5</td>\n",
              "      <td>0</td>\n",
              "      <td>0</td>\n",
              "    </tr>\n",
              "    <tr>\n",
              "      <th>2017-01-05</th>\n",
              "      <td>48.3</td>\n",
              "      <td>0</td>\n",
              "      <td>0</td>\n",
              "    </tr>\n",
              "    <tr>\n",
              "      <th>2017-01-06</th>\n",
              "      <td>45.7</td>\n",
              "      <td>0</td>\n",
              "      <td>0</td>\n",
              "    </tr>\n",
              "    <tr>\n",
              "      <th>2017-01-07</th>\n",
              "      <td>50.8</td>\n",
              "      <td>0</td>\n",
              "      <td>0</td>\n",
              "    </tr>\n",
              "    <tr>\n",
              "      <th>2017-01-08</th>\n",
              "      <td>51.0</td>\n",
              "      <td>0</td>\n",
              "      <td>0</td>\n",
              "    </tr>\n",
              "    <tr>\n",
              "      <th>2017-01-09</th>\n",
              "      <td>56.6</td>\n",
              "      <td>0</td>\n",
              "      <td>0</td>\n",
              "    </tr>\n",
              "    <tr>\n",
              "      <th>2017-01-10</th>\n",
              "      <td>53.3</td>\n",
              "      <td>0</td>\n",
              "      <td>0</td>\n",
              "    </tr>\n",
              "    <tr>\n",
              "      <th>2017-01-11</th>\n",
              "      <td>51.9</td>\n",
              "      <td>0</td>\n",
              "      <td>0</td>\n",
              "    </tr>\n",
              "    <tr>\n",
              "      <th>2017-01-12</th>\n",
              "      <td>52.2</td>\n",
              "      <td>0</td>\n",
              "      <td>0</td>\n",
              "    </tr>\n",
              "    <tr>\n",
              "      <th>2017-01-13</th>\n",
              "      <td>48.4</td>\n",
              "      <td>0</td>\n",
              "      <td>0</td>\n",
              "    </tr>\n",
              "    <tr>\n",
              "      <th>2017-01-14</th>\n",
              "      <td>50.7</td>\n",
              "      <td>0</td>\n",
              "      <td>0</td>\n",
              "    </tr>\n",
              "    <tr>\n",
              "      <th>2017-01-15</th>\n",
              "      <td>51.1</td>\n",
              "      <td>0</td>\n",
              "      <td>0</td>\n",
              "    </tr>\n",
              "    <tr>\n",
              "      <th>2017-01-16</th>\n",
              "      <td>46.5</td>\n",
              "      <td>0</td>\n",
              "      <td>0</td>\n",
              "    </tr>\n",
              "    <tr>\n",
              "      <th>2017-01-17</th>\n",
              "      <td>47.2</td>\n",
              "      <td>0</td>\n",
              "      <td>0</td>\n",
              "    </tr>\n",
              "    <tr>\n",
              "      <th>2017-01-18</th>\n",
              "      <td>46.7</td>\n",
              "      <td>0</td>\n",
              "      <td>0</td>\n",
              "    </tr>\n",
              "    <tr>\n",
              "      <th>2017-01-19</th>\n",
              "      <td>49.5</td>\n",
              "      <td>0</td>\n",
              "      <td>0</td>\n",
              "    </tr>\n",
              "    <tr>\n",
              "      <th>2017-01-20</th>\n",
              "      <td>51.2</td>\n",
              "      <td>0</td>\n",
              "      <td>0</td>\n",
              "    </tr>\n",
              "    <tr>\n",
              "      <th>2017-01-21</th>\n",
              "      <td>50.7</td>\n",
              "      <td>0</td>\n",
              "      <td>0</td>\n",
              "    </tr>\n",
              "    <tr>\n",
              "      <th>2017-01-22</th>\n",
              "      <td>49.7</td>\n",
              "      <td>0</td>\n",
              "      <td>0</td>\n",
              "    </tr>\n",
              "    <tr>\n",
              "      <th>2017-01-23</th>\n",
              "      <td>53.7</td>\n",
              "      <td>0</td>\n",
              "      <td>0</td>\n",
              "    </tr>\n",
              "    <tr>\n",
              "      <th>2017-01-24</th>\n",
              "      <td>49.2</td>\n",
              "      <td>0</td>\n",
              "      <td>0</td>\n",
              "    </tr>\n",
              "    <tr>\n",
              "      <th>2017-01-25</th>\n",
              "      <td>50.7</td>\n",
              "      <td>0</td>\n",
              "      <td>0</td>\n",
              "    </tr>\n",
              "    <tr>\n",
              "      <th>2017-01-26</th>\n",
              "      <td>58.1</td>\n",
              "      <td>0</td>\n",
              "      <td>0</td>\n",
              "    </tr>\n",
              "    <tr>\n",
              "      <th>2017-01-27</th>\n",
              "      <td>51.4</td>\n",
              "      <td>0</td>\n",
              "      <td>0</td>\n",
              "    </tr>\n",
              "    <tr>\n",
              "      <th>2017-01-28</th>\n",
              "      <td>49.4</td>\n",
              "      <td>0</td>\n",
              "      <td>0</td>\n",
              "    </tr>\n",
              "    <tr>\n",
              "      <th>2017-01-29</th>\n",
              "      <td>45.8</td>\n",
              "      <td>0</td>\n",
              "      <td>0</td>\n",
              "    </tr>\n",
              "    <tr>\n",
              "      <th>2017-01-30</th>\n",
              "      <td>42.0</td>\n",
              "      <td>0</td>\n",
              "      <td>0</td>\n",
              "    </tr>\n",
              "    <tr>\n",
              "      <th>2017-01-31</th>\n",
              "      <td>43.8</td>\n",
              "      <td>0</td>\n",
              "      <td>0</td>\n",
              "    </tr>\n",
              "    <tr>\n",
              "      <th>2017-02-01</th>\n",
              "      <td>36.6</td>\n",
              "      <td>0</td>\n",
              "      <td>0</td>\n",
              "    </tr>\n",
              "    <tr>\n",
              "      <th>2017-02-02</th>\n",
              "      <td>35.6</td>\n",
              "      <td>0</td>\n",
              "      <td>0</td>\n",
              "    </tr>\n",
              "    <tr>\n",
              "      <th>2017-02-03</th>\n",
              "      <td>40.3</td>\n",
              "      <td>0</td>\n",
              "      <td>0</td>\n",
              "    </tr>\n",
              "    <tr>\n",
              "      <th>2017-02-04</th>\n",
              "      <td>44.6</td>\n",
              "      <td>0</td>\n",
              "      <td>0</td>\n",
              "    </tr>\n",
              "    <tr>\n",
              "      <th>2017-02-06</th>\n",
              "      <td>48.6</td>\n",
              "      <td>0</td>\n",
              "      <td>0</td>\n",
              "    </tr>\n",
              "    <tr>\n",
              "      <th>2017-02-07</th>\n",
              "      <td>47.4</td>\n",
              "      <td>0</td>\n",
              "      <td>0</td>\n",
              "    </tr>\n",
              "    <tr>\n",
              "      <th>2017-02-08</th>\n",
              "      <td>54.5</td>\n",
              "      <td>0</td>\n",
              "      <td>0</td>\n",
              "    </tr>\n",
              "    <tr>\n",
              "      <th>2017-02-09</th>\n",
              "      <td>51.3</td>\n",
              "      <td>0</td>\n",
              "      <td>0</td>\n",
              "    </tr>\n",
              "    <tr>\n",
              "      <th>2017-02-10</th>\n",
              "      <td>53.5</td>\n",
              "      <td>0</td>\n",
              "      <td>0</td>\n",
              "    </tr>\n",
              "    <tr>\n",
              "      <th>2017-02-11</th>\n",
              "      <td>53.1</td>\n",
              "      <td>0</td>\n",
              "      <td>0</td>\n",
              "    </tr>\n",
              "    <tr>\n",
              "      <th>2017-02-12</th>\n",
              "      <td>56.5</td>\n",
              "      <td>0</td>\n",
              "      <td>0</td>\n",
              "    </tr>\n",
              "    <tr>\n",
              "      <th>2017-02-13</th>\n",
              "      <td>53.1</td>\n",
              "      <td>0</td>\n",
              "      <td>0</td>\n",
              "    </tr>\n",
              "    <tr>\n",
              "      <th>2017-02-14</th>\n",
              "      <td>53.9</td>\n",
              "      <td>0</td>\n",
              "      <td>0</td>\n",
              "    </tr>\n",
              "    <tr>\n",
              "      <th>2017-02-15</th>\n",
              "      <td>54.4</td>\n",
              "      <td>0</td>\n",
              "      <td>0</td>\n",
              "    </tr>\n",
              "    <tr>\n",
              "      <th>2017-02-16</th>\n",
              "      <td>48.1</td>\n",
              "      <td>0</td>\n",
              "      <td>0</td>\n",
              "    </tr>\n",
              "    <tr>\n",
              "      <th>2017-02-17</th>\n",
              "      <td>42.5</td>\n",
              "      <td>0</td>\n",
              "      <td>0</td>\n",
              "    </tr>\n",
              "    <tr>\n",
              "      <th>2017-02-18</th>\n",
              "      <td>43.7</td>\n",
              "      <td>0</td>\n",
              "      <td>0</td>\n",
              "    </tr>\n",
              "    <tr>\n",
              "      <th>2017-02-19</th>\n",
              "      <td>47.0</td>\n",
              "      <td>0</td>\n",
              "      <td>0</td>\n",
              "    </tr>\n",
              "    <tr>\n",
              "      <th>2017-02-20</th>\n",
              "      <td>50.2</td>\n",
              "      <td>0</td>\n",
              "      <td>0</td>\n",
              "    </tr>\n",
              "    <tr>\n",
              "      <th>2017-02-21</th>\n",
              "      <td>54.8</td>\n",
              "      <td>0</td>\n",
              "      <td>0</td>\n",
              "    </tr>\n",
              "    <tr>\n",
              "      <th>2017-02-22</th>\n",
              "      <td>53.6</td>\n",
              "      <td>0</td>\n",
              "      <td>0</td>\n",
              "    </tr>\n",
              "    <tr>\n",
              "      <th>2017-02-23</th>\n",
              "      <td>55.7</td>\n",
              "      <td>0</td>\n",
              "      <td>0</td>\n",
              "    </tr>\n",
              "    <tr>\n",
              "      <th>2017-02-24</th>\n",
              "      <td>58.4</td>\n",
              "      <td>0</td>\n",
              "      <td>0</td>\n",
              "    </tr>\n",
              "    <tr>\n",
              "      <th>2017-02-25</th>\n",
              "      <td>54.2</td>\n",
              "      <td>0</td>\n",
              "      <td>0</td>\n",
              "    </tr>\n",
              "    <tr>\n",
              "      <th>2017-02-26</th>\n",
              "      <td>57.9</td>\n",
              "      <td>0</td>\n",
              "      <td>0</td>\n",
              "    </tr>\n",
              "    <tr>\n",
              "      <th>2017-02-27</th>\n",
              "      <td>60.3</td>\n",
              "      <td>0</td>\n",
              "      <td>0</td>\n",
              "    </tr>\n",
              "    <tr>\n",
              "      <th>2017-02-28</th>\n",
              "      <td>63.0</td>\n",
              "      <td>0</td>\n",
              "      <td>0</td>\n",
              "    </tr>\n",
              "    <tr>\n",
              "      <th>2017-03-01</th>\n",
              "      <td>62.7</td>\n",
              "      <td>0</td>\n",
              "      <td>0</td>\n",
              "    </tr>\n",
              "    <tr>\n",
              "      <th>2017-03-02</th>\n",
              "      <td>58.1</td>\n",
              "      <td>0</td>\n",
              "      <td>0</td>\n",
              "    </tr>\n",
              "    <tr>\n",
              "      <th>2017-03-03</th>\n",
              "      <td>57.5</td>\n",
              "      <td>0</td>\n",
              "      <td>0</td>\n",
              "    </tr>\n",
              "    <tr>\n",
              "      <th>2017-03-04</th>\n",
              "      <td>54.7</td>\n",
              "      <td>0</td>\n",
              "      <td>0</td>\n",
              "    </tr>\n",
              "    <tr>\n",
              "      <th>2017-03-05</th>\n",
              "      <td>59.4</td>\n",
              "      <td>0</td>\n",
              "      <td>0</td>\n",
              "    </tr>\n",
              "    <tr>\n",
              "      <th>2017-03-06</th>\n",
              "      <td>65.1</td>\n",
              "      <td>0</td>\n",
              "      <td>0</td>\n",
              "    </tr>\n",
              "    <tr>\n",
              "      <th>2017-03-07</th>\n",
              "      <td>64.1</td>\n",
              "      <td>0</td>\n",
              "      <td>0</td>\n",
              "    </tr>\n",
              "    <tr>\n",
              "      <th>2017-03-08</th>\n",
              "      <td>62.2</td>\n",
              "      <td>0</td>\n",
              "      <td>0</td>\n",
              "    </tr>\n",
              "    <tr>\n",
              "      <th>2017-03-09</th>\n",
              "      <td>62.0</td>\n",
              "      <td>0</td>\n",
              "      <td>0</td>\n",
              "    </tr>\n",
              "    <tr>\n",
              "      <th>2017-03-10</th>\n",
              "      <td>67.8</td>\n",
              "      <td>0</td>\n",
              "      <td>0</td>\n",
              "    </tr>\n",
              "    <tr>\n",
              "      <th>2017-03-11</th>\n",
              "      <td>68.5</td>\n",
              "      <td>0</td>\n",
              "      <td>0</td>\n",
              "    </tr>\n",
              "    <tr>\n",
              "      <th>2017-03-12</th>\n",
              "      <td>68.3</td>\n",
              "      <td>0</td>\n",
              "      <td>0</td>\n",
              "    </tr>\n",
              "    <tr>\n",
              "      <th>2017-03-13</th>\n",
              "      <td>62.9</td>\n",
              "      <td>0</td>\n",
              "      <td>0</td>\n",
              "    </tr>\n",
              "    <tr>\n",
              "      <th>2017-03-14</th>\n",
              "      <td>62.0</td>\n",
              "      <td>0</td>\n",
              "      <td>0</td>\n",
              "    </tr>\n",
              "    <tr>\n",
              "      <th>2017-03-15</th>\n",
              "      <td>62.4</td>\n",
              "      <td>0</td>\n",
              "      <td>0</td>\n",
              "    </tr>\n",
              "    <tr>\n",
              "      <th>2017-03-16</th>\n",
              "      <td>59.6</td>\n",
              "      <td>0</td>\n",
              "      <td>0</td>\n",
              "    </tr>\n",
              "    <tr>\n",
              "      <th>2017-03-18</th>\n",
              "      <td>71.6</td>\n",
              "      <td>0</td>\n",
              "      <td>0</td>\n",
              "    </tr>\n",
              "    <tr>\n",
              "      <th>2017-03-19</th>\n",
              "      <td>55.6</td>\n",
              "      <td>0</td>\n",
              "      <td>0</td>\n",
              "    </tr>\n",
              "    <tr>\n",
              "      <th>2017-03-20</th>\n",
              "      <td>59.0</td>\n",
              "      <td>0</td>\n",
              "      <td>0</td>\n",
              "    </tr>\n",
              "    <tr>\n",
              "      <th>2017-03-21</th>\n",
              "      <td>59.7</td>\n",
              "      <td>0</td>\n",
              "      <td>0</td>\n",
              "    </tr>\n",
              "    <tr>\n",
              "      <th>2017-03-22</th>\n",
              "      <td>66.8</td>\n",
              "      <td>0</td>\n",
              "      <td>0</td>\n",
              "    </tr>\n",
              "    <tr>\n",
              "      <th>2017-03-23</th>\n",
              "      <td>60.5</td>\n",
              "      <td>0</td>\n",
              "      <td>0</td>\n",
              "    </tr>\n",
              "    <tr>\n",
              "      <th>2017-03-24</th>\n",
              "      <td>56.9</td>\n",
              "      <td>0</td>\n",
              "      <td>0</td>\n",
              "    </tr>\n",
              "    <tr>\n",
              "      <th>2017-03-25</th>\n",
              "      <td>57.7</td>\n",
              "      <td>0</td>\n",
              "      <td>0</td>\n",
              "    </tr>\n",
              "    <tr>\n",
              "      <th>2017-03-26</th>\n",
              "      <td>60.8</td>\n",
              "      <td>0</td>\n",
              "      <td>0</td>\n",
              "    </tr>\n",
              "    <tr>\n",
              "      <th>2017-03-27</th>\n",
              "      <td>62.4</td>\n",
              "      <td>0</td>\n",
              "      <td>0</td>\n",
              "    </tr>\n",
              "    <tr>\n",
              "      <th>2017-03-30</th>\n",
              "      <td>66.0</td>\n",
              "      <td>0</td>\n",
              "      <td>0</td>\n",
              "    </tr>\n",
              "    <tr>\n",
              "      <th>2017-03-31</th>\n",
              "      <td>62.7</td>\n",
              "      <td>0</td>\n",
              "      <td>0</td>\n",
              "    </tr>\n",
              "    <tr>\n",
              "      <th>2017-04-01</th>\n",
              "      <td>65.1</td>\n",
              "      <td>0</td>\n",
              "      <td>0</td>\n",
              "    </tr>\n",
              "    <tr>\n",
              "      <th>2017-04-03</th>\n",
              "      <td>63.0</td>\n",
              "      <td>0</td>\n",
              "      <td>0</td>\n",
              "    </tr>\n",
              "    <tr>\n",
              "      <th>2017-04-04</th>\n",
              "      <td>62.0</td>\n",
              "      <td>0</td>\n",
              "      <td>0</td>\n",
              "    </tr>\n",
              "    <tr>\n",
              "      <th>2017-04-05</th>\n",
              "      <td>68.5</td>\n",
              "      <td>0</td>\n",
              "      <td>0</td>\n",
              "    </tr>\n",
              "    <tr>\n",
              "      <th>2017-04-06</th>\n",
              "      <td>69.2</td>\n",
              "      <td>0</td>\n",
              "      <td>0</td>\n",
              "    </tr>\n",
              "    <tr>\n",
              "      <th>2017-04-07</th>\n",
              "      <td>75.9</td>\n",
              "      <td>0</td>\n",
              "      <td>0</td>\n",
              "    </tr>\n",
              "    <tr>\n",
              "      <th>2017-04-08</th>\n",
              "      <td>71.3</td>\n",
              "      <td>0</td>\n",
              "      <td>0</td>\n",
              "    </tr>\n",
              "    <tr>\n",
              "      <th>2017-04-09</th>\n",
              "      <td>71.1</td>\n",
              "      <td>0</td>\n",
              "      <td>0</td>\n",
              "    </tr>\n",
              "    <tr>\n",
              "      <th>2017-04-10</th>\n",
              "      <td>68.4</td>\n",
              "      <td>0</td>\n",
              "      <td>0</td>\n",
              "    </tr>\n",
              "    <tr>\n",
              "      <th>2017-04-11</th>\n",
              "      <td>69.1</td>\n",
              "      <td>0</td>\n",
              "      <td>0</td>\n",
              "    </tr>\n",
              "    <tr>\n",
              "      <th>2017-04-12</th>\n",
              "      <td>79.1</td>\n",
              "      <td>0</td>\n",
              "      <td>0</td>\n",
              "    </tr>\n",
              "    <tr>\n",
              "      <th>2017-04-13</th>\n",
              "      <td>89.9</td>\n",
              "      <td>0</td>\n",
              "      <td>0</td>\n",
              "    </tr>\n",
              "    <tr>\n",
              "      <th>2017-04-15</th>\n",
              "      <td>69.0</td>\n",
              "      <td>0</td>\n",
              "      <td>0</td>\n",
              "    </tr>\n",
              "    <tr>\n",
              "      <th>2017-04-16</th>\n",
              "      <td>71.5</td>\n",
              "      <td>0</td>\n",
              "      <td>0</td>\n",
              "    </tr>\n",
              "    <tr>\n",
              "      <th>2017-04-17</th>\n",
              "      <td>75.1</td>\n",
              "      <td>0</td>\n",
              "      <td>0</td>\n",
              "    </tr>\n",
              "    <tr>\n",
              "      <th>2017-04-18</th>\n",
              "      <td>75.7</td>\n",
              "      <td>0</td>\n",
              "      <td>0</td>\n",
              "    </tr>\n",
              "    <tr>\n",
              "      <th>2017-04-19</th>\n",
              "      <td>74.9</td>\n",
              "      <td>0</td>\n",
              "      <td>0</td>\n",
              "    </tr>\n",
              "    <tr>\n",
              "      <th>2017-04-20</th>\n",
              "      <td>73.3</td>\n",
              "      <td>0</td>\n",
              "      <td>0</td>\n",
              "    </tr>\n",
              "    <tr>\n",
              "      <th>2017-04-21</th>\n",
              "      <td>76.5</td>\n",
              "      <td>0</td>\n",
              "      <td>0</td>\n",
              "    </tr>\n",
              "    <tr>\n",
              "      <th>2017-04-22</th>\n",
              "      <td>80.9</td>\n",
              "      <td>0</td>\n",
              "      <td>0</td>\n",
              "    </tr>\n",
              "    <tr>\n",
              "      <th>2017-04-23</th>\n",
              "      <td>81.5</td>\n",
              "      <td>0</td>\n",
              "      <td>0</td>\n",
              "    </tr>\n",
              "    <tr>\n",
              "      <th>2017-04-24</th>\n",
              "      <td>79.2</td>\n",
              "      <td>0</td>\n",
              "      <td>0</td>\n",
              "    </tr>\n",
              "    <tr>\n",
              "      <th>2017-04-25</th>\n",
              "      <td>70.1</td>\n",
              "      <td>0</td>\n",
              "      <td>0</td>\n",
              "    </tr>\n",
              "    <tr>\n",
              "      <th>2017-04-26</th>\n",
              "      <td>77.6</td>\n",
              "      <td>0</td>\n",
              "      <td>0</td>\n",
              "    </tr>\n",
              "    <tr>\n",
              "      <th>2017-04-27</th>\n",
              "      <td>82.7</td>\n",
              "      <td>0</td>\n",
              "      <td>0</td>\n",
              "    </tr>\n",
              "    <tr>\n",
              "      <th>2017-04-28</th>\n",
              "      <td>87.5</td>\n",
              "      <td>0</td>\n",
              "      <td>0</td>\n",
              "    </tr>\n",
              "    <tr>\n",
              "      <th>2017-04-29</th>\n",
              "      <td>86.8</td>\n",
              "      <td>0</td>\n",
              "      <td>0</td>\n",
              "    </tr>\n",
              "    <tr>\n",
              "      <th>2017-05-01</th>\n",
              "      <td>87.3</td>\n",
              "      <td>0</td>\n",
              "      <td>0</td>\n",
              "    </tr>\n",
              "    <tr>\n",
              "      <th>2017-05-02</th>\n",
              "      <td>80.5</td>\n",
              "      <td>0</td>\n",
              "      <td>0</td>\n",
              "    </tr>\n",
              "    <tr>\n",
              "      <th>2017-05-03</th>\n",
              "      <td>83.2</td>\n",
              "      <td>0</td>\n",
              "      <td>0</td>\n",
              "    </tr>\n",
              "    <tr>\n",
              "      <th>2017-05-04</th>\n",
              "      <td>86.0</td>\n",
              "      <td>0</td>\n",
              "      <td>0</td>\n",
              "    </tr>\n",
              "    <tr>\n",
              "      <th>2017-05-05</th>\n",
              "      <td>80.9</td>\n",
              "      <td>0</td>\n",
              "      <td>0</td>\n",
              "    </tr>\n",
              "    <tr>\n",
              "      <th>2017-05-06</th>\n",
              "      <td>82.7</td>\n",
              "      <td>0</td>\n",
              "      <td>0</td>\n",
              "    </tr>\n",
              "    <tr>\n",
              "      <th>2017-05-07</th>\n",
              "      <td>85.4</td>\n",
              "      <td>0</td>\n",
              "      <td>0</td>\n",
              "    </tr>\n",
              "    <tr>\n",
              "      <th>2017-05-08</th>\n",
              "      <td>88.1</td>\n",
              "      <td>0</td>\n",
              "      <td>0</td>\n",
              "    </tr>\n",
              "    <tr>\n",
              "      <th>2017-05-09</th>\n",
              "      <td>87.2</td>\n",
              "      <td>0</td>\n",
              "      <td>0</td>\n",
              "    </tr>\n",
              "    <tr>\n",
              "      <th>2017-05-10</th>\n",
              "      <td>90.5</td>\n",
              "      <td>1</td>\n",
              "      <td>1</td>\n",
              "    </tr>\n",
              "    <tr>\n",
              "      <th>2017-05-11</th>\n",
              "      <td>94.6</td>\n",
              "      <td>1</td>\n",
              "      <td>2</td>\n",
              "    </tr>\n",
              "    <tr>\n",
              "      <th>2017-05-12</th>\n",
              "      <td>92.9</td>\n",
              "      <td>1</td>\n",
              "      <td>3</td>\n",
              "    </tr>\n",
              "    <tr>\n",
              "      <th>2017-05-13</th>\n",
              "      <td>84.6</td>\n",
              "      <td>0</td>\n",
              "      <td>0</td>\n",
              "    </tr>\n",
              "    <tr>\n",
              "      <th>2017-05-14</th>\n",
              "      <td>88.3</td>\n",
              "      <td>0</td>\n",
              "      <td>0</td>\n",
              "    </tr>\n",
              "    <tr>\n",
              "      <th>2017-05-15</th>\n",
              "      <td>93.9</td>\n",
              "      <td>1</td>\n",
              "      <td>1</td>\n",
              "    </tr>\n",
              "    <tr>\n",
              "      <th>2017-05-16</th>\n",
              "      <td>89.1</td>\n",
              "      <td>0</td>\n",
              "      <td>0</td>\n",
              "    </tr>\n",
              "    <tr>\n",
              "      <th>2017-05-17</th>\n",
              "      <td>86.0</td>\n",
              "      <td>0</td>\n",
              "      <td>0</td>\n",
              "    </tr>\n",
              "    <tr>\n",
              "      <th>2017-05-18</th>\n",
              "      <td>87.6</td>\n",
              "      <td>0</td>\n",
              "      <td>0</td>\n",
              "    </tr>\n",
              "    <tr>\n",
              "      <th>2017-05-20</th>\n",
              "      <td>90.2</td>\n",
              "      <td>1</td>\n",
              "      <td>1</td>\n",
              "    </tr>\n",
              "    <tr>\n",
              "      <th>2017-05-21</th>\n",
              "      <td>81.7</td>\n",
              "      <td>0</td>\n",
              "      <td>0</td>\n",
              "    </tr>\n",
              "    <tr>\n",
              "      <th>2017-05-22</th>\n",
              "      <td>80.6</td>\n",
              "      <td>0</td>\n",
              "      <td>0</td>\n",
              "    </tr>\n",
              "    <tr>\n",
              "      <th>2017-05-23</th>\n",
              "      <td>87.9</td>\n",
              "      <td>0</td>\n",
              "      <td>0</td>\n",
              "    </tr>\n",
              "    <tr>\n",
              "      <th>2017-05-24</th>\n",
              "      <td>85.3</td>\n",
              "      <td>0</td>\n",
              "      <td>0</td>\n",
              "    </tr>\n",
              "    <tr>\n",
              "      <th>2017-05-25</th>\n",
              "      <td>84.6</td>\n",
              "      <td>0</td>\n",
              "      <td>0</td>\n",
              "    </tr>\n",
              "    <tr>\n",
              "      <th>2017-05-26</th>\n",
              "      <td>94.2</td>\n",
              "      <td>1</td>\n",
              "      <td>1</td>\n",
              "    </tr>\n",
              "    <tr>\n",
              "      <th>2017-05-27</th>\n",
              "      <td>87.7</td>\n",
              "      <td>0</td>\n",
              "      <td>0</td>\n",
              "    </tr>\n",
              "    <tr>\n",
              "      <th>2017-05-28</th>\n",
              "      <td>92.5</td>\n",
              "      <td>1</td>\n",
              "      <td>1</td>\n",
              "    </tr>\n",
              "    <tr>\n",
              "      <th>2017-05-29</th>\n",
              "      <td>96.4</td>\n",
              "      <td>1</td>\n",
              "      <td>2</td>\n",
              "    </tr>\n",
              "    <tr>\n",
              "      <th>2017-05-30</th>\n",
              "      <td>99.5</td>\n",
              "      <td>1</td>\n",
              "      <td>3</td>\n",
              "    </tr>\n",
              "    <tr>\n",
              "      <th>2017-05-31</th>\n",
              "      <td>91.0</td>\n",
              "      <td>1</td>\n",
              "      <td>4</td>\n",
              "    </tr>\n",
              "    <tr>\n",
              "      <th>2017-06-01</th>\n",
              "      <td>84.9</td>\n",
              "      <td>0</td>\n",
              "      <td>0</td>\n",
              "    </tr>\n",
              "    <tr>\n",
              "      <th>2017-06-02</th>\n",
              "      <td>85.7</td>\n",
              "      <td>0</td>\n",
              "      <td>0</td>\n",
              "    </tr>\n",
              "    <tr>\n",
              "      <th>2017-06-03</th>\n",
              "      <td>89.3</td>\n",
              "      <td>0</td>\n",
              "      <td>0</td>\n",
              "    </tr>\n",
              "    <tr>\n",
              "      <th>2017-06-04</th>\n",
              "      <td>92.5</td>\n",
              "      <td>1</td>\n",
              "      <td>1</td>\n",
              "    </tr>\n",
              "    <tr>\n",
              "      <th>2017-06-05</th>\n",
              "      <td>95.4</td>\n",
              "      <td>1</td>\n",
              "      <td>2</td>\n",
              "    </tr>\n",
              "    <tr>\n",
              "      <th>2017-06-06</th>\n",
              "      <td>95.2</td>\n",
              "      <td>1</td>\n",
              "      <td>3</td>\n",
              "    </tr>\n",
              "    <tr>\n",
              "      <th>2017-06-07</th>\n",
              "      <td>101.3</td>\n",
              "      <td>1</td>\n",
              "      <td>4</td>\n",
              "    </tr>\n",
              "    <tr>\n",
              "      <th>2017-06-09</th>\n",
              "      <td>99.9</td>\n",
              "      <td>1</td>\n",
              "      <td>5</td>\n",
              "    </tr>\n",
              "    <tr>\n",
              "      <th>2017-06-10</th>\n",
              "      <td>101.5</td>\n",
              "      <td>1</td>\n",
              "      <td>6</td>\n",
              "    </tr>\n",
              "    <tr>\n",
              "      <th>2017-06-11</th>\n",
              "      <td>96.0</td>\n",
              "      <td>1</td>\n",
              "      <td>7</td>\n",
              "    </tr>\n",
              "    <tr>\n",
              "      <th>2017-06-12</th>\n",
              "      <td>96.2</td>\n",
              "      <td>1</td>\n",
              "      <td>8</td>\n",
              "    </tr>\n",
              "    <tr>\n",
              "      <th>2017-06-13</th>\n",
              "      <td>99.1</td>\n",
              "      <td>1</td>\n",
              "      <td>9</td>\n",
              "    </tr>\n",
              "    <tr>\n",
              "      <th>2017-06-14</th>\n",
              "      <td>102.7</td>\n",
              "      <td>1</td>\n",
              "      <td>10</td>\n",
              "    </tr>\n",
              "    <tr>\n",
              "      <th>2017-06-15</th>\n",
              "      <td>94.2</td>\n",
              "      <td>1</td>\n",
              "      <td>11</td>\n",
              "    </tr>\n",
              "    <tr>\n",
              "      <th>2017-06-16</th>\n",
              "      <td>99.8</td>\n",
              "      <td>1</td>\n",
              "      <td>12</td>\n",
              "    </tr>\n",
              "    <tr>\n",
              "      <th>2017-06-17</th>\n",
              "      <td>101.1</td>\n",
              "      <td>1</td>\n",
              "      <td>13</td>\n",
              "    </tr>\n",
              "    <tr>\n",
              "      <th>2017-06-18</th>\n",
              "      <td>99.6</td>\n",
              "      <td>1</td>\n",
              "      <td>14</td>\n",
              "    </tr>\n",
              "    <tr>\n",
              "      <th>2017-06-19</th>\n",
              "      <td>99.0</td>\n",
              "      <td>1</td>\n",
              "      <td>15</td>\n",
              "    </tr>\n",
              "    <tr>\n",
              "      <th>2017-06-20</th>\n",
              "      <td>95.0</td>\n",
              "      <td>1</td>\n",
              "      <td>16</td>\n",
              "    </tr>\n",
              "    <tr>\n",
              "      <th>2017-06-21</th>\n",
              "      <td>90.4</td>\n",
              "      <td>1</td>\n",
              "      <td>17</td>\n",
              "    </tr>\n",
              "    <tr>\n",
              "      <th>2017-06-22</th>\n",
              "      <td>92.3</td>\n",
              "      <td>1</td>\n",
              "      <td>18</td>\n",
              "    </tr>\n",
              "    <tr>\n",
              "      <th>2017-06-23</th>\n",
              "      <td>89.4</td>\n",
              "      <td>0</td>\n",
              "      <td>0</td>\n",
              "    </tr>\n",
              "    <tr>\n",
              "      <th>2017-06-24</th>\n",
              "      <td>95.2</td>\n",
              "      <td>1</td>\n",
              "      <td>1</td>\n",
              "    </tr>\n",
              "    <tr>\n",
              "      <th>2017-06-25</th>\n",
              "      <td>94.8</td>\n",
              "      <td>1</td>\n",
              "      <td>2</td>\n",
              "    </tr>\n",
              "    <tr>\n",
              "      <th>2017-06-26</th>\n",
              "      <td>105.7</td>\n",
              "      <td>1</td>\n",
              "      <td>3</td>\n",
              "    </tr>\n",
              "    <tr>\n",
              "      <th>2017-06-27</th>\n",
              "      <td>103.4</td>\n",
              "      <td>1</td>\n",
              "      <td>4</td>\n",
              "    </tr>\n",
              "    <tr>\n",
              "      <th>2017-06-28</th>\n",
              "      <td>105.3</td>\n",
              "      <td>1</td>\n",
              "      <td>5</td>\n",
              "    </tr>\n",
              "    <tr>\n",
              "      <th>2017-06-29</th>\n",
              "      <td>104.8</td>\n",
              "      <td>1</td>\n",
              "      <td>6</td>\n",
              "    </tr>\n",
              "    <tr>\n",
              "      <th>2017-06-30</th>\n",
              "      <td>105.9</td>\n",
              "      <td>1</td>\n",
              "      <td>7</td>\n",
              "    </tr>\n",
              "    <tr>\n",
              "      <th>2017-07-01</th>\n",
              "      <td>106.1</td>\n",
              "      <td>1</td>\n",
              "      <td>8</td>\n",
              "    </tr>\n",
              "    <tr>\n",
              "      <th>2017-07-02</th>\n",
              "      <td>106.5</td>\n",
              "      <td>1</td>\n",
              "      <td>9</td>\n",
              "    </tr>\n",
              "    <tr>\n",
              "      <th>2017-07-04</th>\n",
              "      <td>108.5</td>\n",
              "      <td>1</td>\n",
              "      <td>10</td>\n",
              "    </tr>\n",
              "    <tr>\n",
              "      <th>2017-07-05</th>\n",
              "      <td>106.4</td>\n",
              "      <td>1</td>\n",
              "      <td>11</td>\n",
              "    </tr>\n",
              "    <tr>\n",
              "      <th>2017-07-06</th>\n",
              "      <td>103.4</td>\n",
              "      <td>1</td>\n",
              "      <td>12</td>\n",
              "    </tr>\n",
              "    <tr>\n",
              "      <th>2017-07-07</th>\n",
              "      <td>103.6</td>\n",
              "      <td>1</td>\n",
              "      <td>13</td>\n",
              "    </tr>\n",
              "    <tr>\n",
              "      <th>2017-07-08</th>\n",
              "      <td>103.7</td>\n",
              "      <td>1</td>\n",
              "      <td>14</td>\n",
              "    </tr>\n",
              "    <tr>\n",
              "      <th>2017-07-09</th>\n",
              "      <td>103.9</td>\n",
              "      <td>1</td>\n",
              "      <td>15</td>\n",
              "    </tr>\n",
              "    <tr>\n",
              "      <th>2017-07-10</th>\n",
              "      <td>105.9</td>\n",
              "      <td>1</td>\n",
              "      <td>16</td>\n",
              "    </tr>\n",
              "    <tr>\n",
              "      <th>2017-07-11</th>\n",
              "      <td>95.5</td>\n",
              "      <td>1</td>\n",
              "      <td>17</td>\n",
              "    </tr>\n",
              "    <tr>\n",
              "      <th>2017-07-12</th>\n",
              "      <td>106.8</td>\n",
              "      <td>1</td>\n",
              "      <td>18</td>\n",
              "    </tr>\n",
              "    <tr>\n",
              "      <th>2017-07-13</th>\n",
              "      <td>101.8</td>\n",
              "      <td>1</td>\n",
              "      <td>19</td>\n",
              "    </tr>\n",
              "    <tr>\n",
              "      <th>2017-07-14</th>\n",
              "      <td>95.3</td>\n",
              "      <td>1</td>\n",
              "      <td>20</td>\n",
              "    </tr>\n",
              "    <tr>\n",
              "      <th>2017-07-16</th>\n",
              "      <td>107.1</td>\n",
              "      <td>1</td>\n",
              "      <td>21</td>\n",
              "    </tr>\n",
              "    <tr>\n",
              "      <th>2017-07-20</th>\n",
              "      <td>101.7</td>\n",
              "      <td>1</td>\n",
              "      <td>22</td>\n",
              "    </tr>\n",
              "    <tr>\n",
              "      <th>2017-07-21</th>\n",
              "      <td>101.8</td>\n",
              "      <td>1</td>\n",
              "      <td>23</td>\n",
              "    </tr>\n",
              "    <tr>\n",
              "      <th>2017-07-22</th>\n",
              "      <td>107.9</td>\n",
              "      <td>1</td>\n",
              "      <td>24</td>\n",
              "    </tr>\n",
              "    <tr>\n",
              "      <th>2017-07-24</th>\n",
              "      <td>103.6</td>\n",
              "      <td>1</td>\n",
              "      <td>25</td>\n",
              "    </tr>\n",
              "    <tr>\n",
              "      <th>2017-07-25</th>\n",
              "      <td>100.0</td>\n",
              "      <td>1</td>\n",
              "      <td>26</td>\n",
              "    </tr>\n",
              "    <tr>\n",
              "      <th>2017-07-26</th>\n",
              "      <td>104.4</td>\n",
              "      <td>1</td>\n",
              "      <td>27</td>\n",
              "    </tr>\n",
              "    <tr>\n",
              "      <th>2017-07-27</th>\n",
              "      <td>101.5</td>\n",
              "      <td>1</td>\n",
              "      <td>28</td>\n",
              "    </tr>\n",
              "    <tr>\n",
              "      <th>2017-07-28</th>\n",
              "      <td>106.5</td>\n",
              "      <td>1</td>\n",
              "      <td>29</td>\n",
              "    </tr>\n",
              "    <tr>\n",
              "      <th>2017-07-29</th>\n",
              "      <td>104.9</td>\n",
              "      <td>1</td>\n",
              "      <td>30</td>\n",
              "    </tr>\n",
              "    <tr>\n",
              "      <th>2017-07-30</th>\n",
              "      <td>100.9</td>\n",
              "      <td>1</td>\n",
              "      <td>31</td>\n",
              "    </tr>\n",
              "    <tr>\n",
              "      <th>2017-07-31</th>\n",
              "      <td>100.4</td>\n",
              "      <td>1</td>\n",
              "      <td>32</td>\n",
              "    </tr>\n",
              "    <tr>\n",
              "      <th>2017-08-01</th>\n",
              "      <td>103.9</td>\n",
              "      <td>1</td>\n",
              "      <td>33</td>\n",
              "    </tr>\n",
              "    <tr>\n",
              "      <th>2017-08-02</th>\n",
              "      <td>107.2</td>\n",
              "      <td>1</td>\n",
              "      <td>34</td>\n",
              "    </tr>\n",
              "    <tr>\n",
              "      <th>2017-08-04</th>\n",
              "      <td>102.9</td>\n",
              "      <td>1</td>\n",
              "      <td>35</td>\n",
              "    </tr>\n",
              "    <tr>\n",
              "      <th>2017-08-05</th>\n",
              "      <td>104.6</td>\n",
              "      <td>1</td>\n",
              "      <td>36</td>\n",
              "    </tr>\n",
              "    <tr>\n",
              "      <th>2017-08-06</th>\n",
              "      <td>103.3</td>\n",
              "      <td>1</td>\n",
              "      <td>37</td>\n",
              "    </tr>\n",
              "  </tbody>\n",
              "</table>\n",
              "</div>\n",
              "      <button class=\"colab-df-convert\" onclick=\"convertToInteractive('df-aab8265b-cc17-4ffd-ba5a-9cea1ee23a62')\"\n",
              "              title=\"Convert this dataframe to an interactive table.\"\n",
              "              style=\"display:none;\">\n",
              "        \n",
              "  <svg xmlns=\"http://www.w3.org/2000/svg\" height=\"24px\"viewBox=\"0 0 24 24\"\n",
              "       width=\"24px\">\n",
              "    <path d=\"M0 0h24v24H0V0z\" fill=\"none\"/>\n",
              "    <path d=\"M18.56 5.44l.94 2.06.94-2.06 2.06-.94-2.06-.94-.94-2.06-.94 2.06-2.06.94zm-11 1L8.5 8.5l.94-2.06 2.06-.94-2.06-.94L8.5 2.5l-.94 2.06-2.06.94zm10 10l.94 2.06.94-2.06 2.06-.94-2.06-.94-.94-2.06-.94 2.06-2.06.94z\"/><path d=\"M17.41 7.96l-1.37-1.37c-.4-.4-.92-.59-1.43-.59-.52 0-1.04.2-1.43.59L10.3 9.45l-7.72 7.72c-.78.78-.78 2.05 0 2.83L4 21.41c.39.39.9.59 1.41.59.51 0 1.02-.2 1.41-.59l7.78-7.78 2.81-2.81c.8-.78.8-2.07 0-2.86zM5.41 20L4 18.59l7.72-7.72 1.47 1.35L5.41 20z\"/>\n",
              "  </svg>\n",
              "      </button>\n",
              "      \n",
              "  <style>\n",
              "    .colab-df-container {\n",
              "      display:flex;\n",
              "      flex-wrap:wrap;\n",
              "      gap: 12px;\n",
              "    }\n",
              "\n",
              "    .colab-df-convert {\n",
              "      background-color: #E8F0FE;\n",
              "      border: none;\n",
              "      border-radius: 50%;\n",
              "      cursor: pointer;\n",
              "      display: none;\n",
              "      fill: #1967D2;\n",
              "      height: 32px;\n",
              "      padding: 0 0 0 0;\n",
              "      width: 32px;\n",
              "    }\n",
              "\n",
              "    .colab-df-convert:hover {\n",
              "      background-color: #E2EBFA;\n",
              "      box-shadow: 0px 1px 2px rgba(60, 64, 67, 0.3), 0px 1px 3px 1px rgba(60, 64, 67, 0.15);\n",
              "      fill: #174EA6;\n",
              "    }\n",
              "\n",
              "    [theme=dark] .colab-df-convert {\n",
              "      background-color: #3B4455;\n",
              "      fill: #D2E3FC;\n",
              "    }\n",
              "\n",
              "    [theme=dark] .colab-df-convert:hover {\n",
              "      background-color: #434B5C;\n",
              "      box-shadow: 0px 1px 3px 1px rgba(0, 0, 0, 0.15);\n",
              "      filter: drop-shadow(0px 1px 2px rgba(0, 0, 0, 0.3));\n",
              "      fill: #FFFFFF;\n",
              "    }\n",
              "  </style>\n",
              "\n",
              "      <script>\n",
              "        const buttonEl =\n",
              "          document.querySelector('#df-aab8265b-cc17-4ffd-ba5a-9cea1ee23a62 button.colab-df-convert');\n",
              "        buttonEl.style.display =\n",
              "          google.colab.kernel.accessAllowed ? 'block' : 'none';\n",
              "\n",
              "        async function convertToInteractive(key) {\n",
              "          const element = document.querySelector('#df-aab8265b-cc17-4ffd-ba5a-9cea1ee23a62');\n",
              "          const dataTable =\n",
              "            await google.colab.kernel.invokeFunction('convertToInteractive',\n",
              "                                                     [key], {});\n",
              "          if (!dataTable) return;\n",
              "\n",
              "          const docLinkHtml = 'Like what you see? Visit the ' +\n",
              "            '<a target=\"_blank\" href=https://colab.research.google.com/notebooks/data_table.ipynb>data table notebook</a>'\n",
              "            + ' to learn more about interactive tables.';\n",
              "          element.innerHTML = '';\n",
              "          dataTable['output_type'] = 'display_data';\n",
              "          await google.colab.output.renderOutput(dataTable, element);\n",
              "          const docLink = document.createElement('div');\n",
              "          docLink.innerHTML = docLinkHtml;\n",
              "          element.appendChild(docLink);\n",
              "        }\n",
              "      </script>\n",
              "    </div>\n",
              "  </div>\n",
              "  "
            ]
          },
          "metadata": {},
          "execution_count": 177
        }
      ]
    },
    {
      "cell_type": "markdown",
      "source": [
        "#### Method 2 - Using Window"
      ],
      "metadata": {
        "id": "WqnX28E6eduL"
      }
    },
    {
      "cell_type": "code",
      "source": [
        "from pyspark.sql.window import Window"
      ],
      "metadata": {
        "id": "BKB2qT_whdU7"
      },
      "execution_count": null,
      "outputs": []
    },
    {
      "cell_type": "code",
      "source": [
        "# Let's create a new column according to our condition\n",
        "# If temp > 90, new column will be 1, or else it will be 0\n",
        "gsod_subset1 = gsod_subset1.withColumn(\"temp_above_90\", F.when(F.col(\"temp\") > 90, 1).otherwise(0))\n",
        "\n",
        "# We then create a column named group using window fn\n",
        "# This column increments every time our condition is 0, i.e. temp < 90\n",
        "# So for the cases where temp > 90, we should have same value of group\n",
        "# This can be seen in the output shown\n",
        "# Next we use window fn again, but now, we partition by group\n",
        "# We create a new column temp_cumsum, to increment according to group partitions\n",
        "# So if we have cases where we have same value of group, we increment temp_cumsum \n",
        "\n",
        "gsod_subset1 = gsod_subset1.withColumn(\n",
        "    \"grp\", \n",
        "    F.sum((F.col(\"temp_above_90\") == 0).cast(\"int\")).over(Window.orderBy(\"dt\"))\n",
        ").withColumn(\n",
        "    \"temp_cumsum\",\n",
        "    F.sum(F.col(\"temp_above_90\")).over(Window.partitionBy(\"grp\").orderBy(\"dt\"))\n",
        ")"
      ],
      "metadata": {
        "id": "JRHiK54STpeQ"
      },
      "execution_count": null,
      "outputs": []
    },
    {
      "cell_type": "code",
      "source": [
        "gsod_subset1.select('dt','temp','temp_above_90','temp_cumsum','grp').show(200)"
      ],
      "metadata": {
        "colab": {
          "base_uri": "https://localhost:8080/"
        },
        "id": "EGvNIjP4LS-O",
        "outputId": "2d76b33c-dc38-4ede-8a3a-82f08fe9cbef"
      },
      "execution_count": null,
      "outputs": [
        {
          "output_type": "stream",
          "name": "stdout",
          "text": [
            "+----------+-----+-------------+-----------+---+\n",
            "|        dt| temp|temp_above_90|temp_cumsum|grp|\n",
            "+----------+-----+-------------+-----------+---+\n",
            "|2017-01-03| 47.4|            0|          0|  1|\n",
            "|2017-01-04| 46.5|            0|          0|  2|\n",
            "|2017-01-05| 48.3|            0|          0|  3|\n",
            "|2017-01-06| 45.7|            0|          0|  4|\n",
            "|2017-01-07| 50.8|            0|          0|  5|\n",
            "|2017-01-08| 51.0|            0|          0|  6|\n",
            "|2017-01-09| 56.6|            0|          0|  7|\n",
            "|2017-01-10| 53.3|            0|          0|  8|\n",
            "|2017-01-11| 51.9|            0|          0|  9|\n",
            "|2017-01-12| 52.2|            0|          0| 10|\n",
            "|2017-01-13| 48.4|            0|          0| 11|\n",
            "|2017-01-14| 50.7|            0|          0| 12|\n",
            "|2017-01-15| 51.1|            0|          0| 13|\n",
            "|2017-01-16| 46.5|            0|          0| 14|\n",
            "|2017-01-17| 47.2|            0|          0| 15|\n",
            "|2017-01-18| 46.7|            0|          0| 16|\n",
            "|2017-01-19| 49.5|            0|          0| 17|\n",
            "|2017-01-20| 51.2|            0|          0| 18|\n",
            "|2017-01-21| 50.7|            0|          0| 19|\n",
            "|2017-01-22| 49.7|            0|          0| 20|\n",
            "|2017-01-23| 53.7|            0|          0| 21|\n",
            "|2017-01-24| 49.2|            0|          0| 22|\n",
            "|2017-01-25| 50.7|            0|          0| 23|\n",
            "|2017-01-26| 58.1|            0|          0| 24|\n",
            "|2017-01-27| 51.4|            0|          0| 25|\n",
            "|2017-01-28| 49.4|            0|          0| 26|\n",
            "|2017-01-29| 45.8|            0|          0| 27|\n",
            "|2017-01-30| 42.0|            0|          0| 28|\n",
            "|2017-01-31| 43.8|            0|          0| 29|\n",
            "|2017-02-01| 36.6|            0|          0| 30|\n",
            "|2017-02-02| 35.6|            0|          0| 31|\n",
            "|2017-02-03| 40.3|            0|          0| 32|\n",
            "|2017-02-04| 44.6|            0|          0| 33|\n",
            "|2017-02-06| 48.6|            0|          0| 34|\n",
            "|2017-02-07| 47.4|            0|          0| 35|\n",
            "|2017-02-08| 54.5|            0|          0| 36|\n",
            "|2017-02-09| 51.3|            0|          0| 37|\n",
            "|2017-02-10| 53.5|            0|          0| 38|\n",
            "|2017-02-11| 53.1|            0|          0| 39|\n",
            "|2017-02-12| 56.5|            0|          0| 40|\n",
            "|2017-02-13| 53.1|            0|          0| 41|\n",
            "|2017-02-14| 53.9|            0|          0| 42|\n",
            "|2017-02-15| 54.4|            0|          0| 43|\n",
            "|2017-02-16| 48.1|            0|          0| 44|\n",
            "|2017-02-17| 42.5|            0|          0| 45|\n",
            "|2017-02-18| 43.7|            0|          0| 46|\n",
            "|2017-02-19| 47.0|            0|          0| 47|\n",
            "|2017-02-20| 50.2|            0|          0| 48|\n",
            "|2017-02-21| 54.8|            0|          0| 49|\n",
            "|2017-02-22| 53.6|            0|          0| 50|\n",
            "|2017-02-23| 55.7|            0|          0| 51|\n",
            "|2017-02-24| 58.4|            0|          0| 52|\n",
            "|2017-02-25| 54.2|            0|          0| 53|\n",
            "|2017-02-26| 57.9|            0|          0| 54|\n",
            "|2017-02-27| 60.3|            0|          0| 55|\n",
            "|2017-02-28| 63.0|            0|          0| 56|\n",
            "|2017-03-01| 62.7|            0|          0| 57|\n",
            "|2017-03-02| 58.1|            0|          0| 58|\n",
            "|2017-03-03| 57.5|            0|          0| 59|\n",
            "|2017-03-04| 54.7|            0|          0| 60|\n",
            "|2017-03-05| 59.4|            0|          0| 61|\n",
            "|2017-03-06| 65.1|            0|          0| 62|\n",
            "|2017-03-07| 64.1|            0|          0| 63|\n",
            "|2017-03-08| 62.2|            0|          0| 64|\n",
            "|2017-03-09| 62.0|            0|          0| 65|\n",
            "|2017-03-10| 67.8|            0|          0| 66|\n",
            "|2017-03-11| 68.5|            0|          0| 67|\n",
            "|2017-03-12| 68.3|            0|          0| 68|\n",
            "|2017-03-13| 62.9|            0|          0| 69|\n",
            "|2017-03-14| 62.0|            0|          0| 70|\n",
            "|2017-03-15| 62.4|            0|          0| 71|\n",
            "|2017-03-16| 59.6|            0|          0| 72|\n",
            "|2017-03-18| 71.6|            0|          0| 73|\n",
            "|2017-03-19| 55.6|            0|          0| 74|\n",
            "|2017-03-20| 59.0|            0|          0| 75|\n",
            "|2017-03-21| 59.7|            0|          0| 76|\n",
            "|2017-03-22| 66.8|            0|          0| 77|\n",
            "|2017-03-23| 60.5|            0|          0| 78|\n",
            "|2017-03-24| 56.9|            0|          0| 79|\n",
            "|2017-03-25| 57.7|            0|          0| 80|\n",
            "|2017-03-26| 60.8|            0|          0| 81|\n",
            "|2017-03-27| 62.4|            0|          0| 82|\n",
            "|2017-03-30| 66.0|            0|          0| 83|\n",
            "|2017-03-31| 62.7|            0|          0| 84|\n",
            "|2017-04-01| 65.1|            0|          0| 85|\n",
            "|2017-04-03| 63.0|            0|          0| 86|\n",
            "|2017-04-04| 62.0|            0|          0| 87|\n",
            "|2017-04-05| 68.5|            0|          0| 88|\n",
            "|2017-04-06| 69.2|            0|          0| 89|\n",
            "|2017-04-07| 75.9|            0|          0| 90|\n",
            "|2017-04-08| 71.3|            0|          0| 91|\n",
            "|2017-04-09| 71.1|            0|          0| 92|\n",
            "|2017-04-10| 68.4|            0|          0| 93|\n",
            "|2017-04-11| 69.1|            0|          0| 94|\n",
            "|2017-04-12| 79.1|            0|          0| 95|\n",
            "|2017-04-13| 89.9|            0|          0| 96|\n",
            "|2017-04-15| 69.0|            0|          0| 97|\n",
            "|2017-04-16| 71.5|            0|          0| 98|\n",
            "|2017-04-17| 75.1|            0|          0| 99|\n",
            "|2017-04-18| 75.7|            0|          0|100|\n",
            "|2017-04-19| 74.9|            0|          0|101|\n",
            "|2017-04-20| 73.3|            0|          0|102|\n",
            "|2017-04-21| 76.5|            0|          0|103|\n",
            "|2017-04-22| 80.9|            0|          0|104|\n",
            "|2017-04-23| 81.5|            0|          0|105|\n",
            "|2017-04-24| 79.2|            0|          0|106|\n",
            "|2017-04-25| 70.1|            0|          0|107|\n",
            "|2017-04-26| 77.6|            0|          0|108|\n",
            "|2017-04-27| 82.7|            0|          0|109|\n",
            "|2017-04-28| 87.5|            0|          0|110|\n",
            "|2017-04-29| 86.8|            0|          0|111|\n",
            "|2017-05-01| 87.3|            0|          0|112|\n",
            "|2017-05-02| 80.5|            0|          0|113|\n",
            "|2017-05-03| 83.2|            0|          0|114|\n",
            "|2017-05-04| 86.0|            0|          0|115|\n",
            "|2017-05-05| 80.9|            0|          0|116|\n",
            "|2017-05-06| 82.7|            0|          0|117|\n",
            "|2017-05-07| 85.4|            0|          0|118|\n",
            "|2017-05-08| 88.1|            0|          0|119|\n",
            "|2017-05-09| 87.2|            0|          0|120|\n",
            "|2017-05-10| 90.5|            1|          1|120|\n",
            "|2017-05-11| 94.6|            1|          2|120|\n",
            "|2017-05-12| 92.9|            1|          3|120|\n",
            "|2017-05-13| 84.6|            0|          0|121|\n",
            "|2017-05-14| 88.3|            0|          0|122|\n",
            "|2017-05-15| 93.9|            1|          1|122|\n",
            "|2017-05-16| 89.1|            0|          0|123|\n",
            "|2017-05-17| 86.0|            0|          0|124|\n",
            "|2017-05-18| 87.6|            0|          0|125|\n",
            "|2017-05-20| 90.2|            1|          1|125|\n",
            "|2017-05-21| 81.7|            0|          0|126|\n",
            "|2017-05-22| 80.6|            0|          0|127|\n",
            "|2017-05-23| 87.9|            0|          0|128|\n",
            "|2017-05-24| 85.3|            0|          0|129|\n",
            "|2017-05-25| 84.6|            0|          0|130|\n",
            "|2017-05-26| 94.2|            1|          1|130|\n",
            "|2017-05-27| 87.7|            0|          0|131|\n",
            "|2017-05-28| 92.5|            1|          1|131|\n",
            "|2017-05-29| 96.4|            1|          2|131|\n",
            "|2017-05-30| 99.5|            1|          3|131|\n",
            "|2017-05-31| 91.0|            1|          4|131|\n",
            "|2017-06-01| 84.9|            0|          0|132|\n",
            "|2017-06-02| 85.7|            0|          0|133|\n",
            "|2017-06-03| 89.3|            0|          0|134|\n",
            "|2017-06-04| 92.5|            1|          1|134|\n",
            "|2017-06-05| 95.4|            1|          2|134|\n",
            "|2017-06-06| 95.2|            1|          3|134|\n",
            "|2017-06-07|101.3|            1|          4|134|\n",
            "|2017-06-09| 99.9|            1|          5|134|\n",
            "|2017-06-10|101.5|            1|          6|134|\n",
            "|2017-06-11| 96.0|            1|          7|134|\n",
            "|2017-06-12| 96.2|            1|          8|134|\n",
            "|2017-06-13| 99.1|            1|          9|134|\n",
            "|2017-06-14|102.7|            1|         10|134|\n",
            "|2017-06-15| 94.2|            1|         11|134|\n",
            "|2017-06-16| 99.8|            1|         12|134|\n",
            "|2017-06-17|101.1|            1|         13|134|\n",
            "|2017-06-18| 99.6|            1|         14|134|\n",
            "|2017-06-19| 99.0|            1|         15|134|\n",
            "|2017-06-20| 95.0|            1|         16|134|\n",
            "|2017-06-21| 90.4|            1|         17|134|\n",
            "|2017-06-22| 92.3|            1|         18|134|\n",
            "|2017-06-23| 89.4|            0|          0|135|\n",
            "|2017-06-24| 95.2|            1|          1|135|\n",
            "|2017-06-25| 94.8|            1|          2|135|\n",
            "|2017-06-26|105.7|            1|          3|135|\n",
            "|2017-06-27|103.4|            1|          4|135|\n",
            "|2017-06-28|105.3|            1|          5|135|\n",
            "|2017-06-29|104.8|            1|          6|135|\n",
            "|2017-06-30|105.9|            1|          7|135|\n",
            "|2017-07-01|106.1|            1|          8|135|\n",
            "|2017-07-02|106.5|            1|          9|135|\n",
            "|2017-07-04|108.5|            1|         10|135|\n",
            "|2017-07-05|106.4|            1|         11|135|\n",
            "|2017-07-06|103.4|            1|         12|135|\n",
            "|2017-07-07|103.6|            1|         13|135|\n",
            "|2017-07-08|103.7|            1|         14|135|\n",
            "|2017-07-09|103.9|            1|         15|135|\n",
            "|2017-07-10|105.9|            1|         16|135|\n",
            "|2017-07-11| 95.5|            1|         17|135|\n",
            "|2017-07-12|106.8|            1|         18|135|\n",
            "|2017-07-13|101.8|            1|         19|135|\n",
            "|2017-07-14| 95.3|            1|         20|135|\n",
            "|2017-07-16|107.1|            1|         21|135|\n",
            "|2017-07-20|101.7|            1|         22|135|\n",
            "|2017-07-21|101.8|            1|         23|135|\n",
            "|2017-07-22|107.9|            1|         24|135|\n",
            "|2017-07-24|103.6|            1|         25|135|\n",
            "|2017-07-25|100.0|            1|         26|135|\n",
            "|2017-07-26|104.4|            1|         27|135|\n",
            "|2017-07-27|101.5|            1|         28|135|\n",
            "|2017-07-28|106.5|            1|         29|135|\n",
            "|2017-07-29|104.9|            1|         30|135|\n",
            "|2017-07-30|100.9|            1|         31|135|\n",
            "|2017-07-31|100.4|            1|         32|135|\n",
            "|2017-08-01|103.9|            1|         33|135|\n",
            "|2017-08-02|107.2|            1|         34|135|\n",
            "|2017-08-04|102.9|            1|         35|135|\n",
            "|2017-08-05|104.6|            1|         36|135|\n",
            "|2017-08-06|103.3|            1|         37|135|\n",
            "+----------+-----+-------------+-----------+---+\n",
            "only showing top 200 rows\n",
            "\n"
          ]
        }
      ]
    },
    {
      "cell_type": "markdown",
      "source": [
        "Check your answer on May 2018 for Station 406370 visually! Plot your raw temperature on one graph (as you see below) and plot your cumulative sum above a threshold on another graph. Then visually compare to make sure you solved it correctly. You can use a Pandas UDF only (hint: look at Chapters 8 and 9) and/or you can cleverly combine it with a Window function.\n",
        "\n",
        "**CHECK YOUR WORK!!!**"
      ],
      "metadata": {
        "id": "g-ESW4Fx_QSD"
      }
    },
    {
      "cell_type": "code",
      "source": [
        "# Convert to Pandas Dataframe\n",
        "gsod_subset1_pd = gsod_subset1.toPandas()\n",
        "# Preprocess the data to create the plot in an easy manner\n",
        "gsod_subset1_pd['dt'] = pd.to_datetime(gsod_subset1_pd['dt'])   # Convert the column to datetime format\n",
        "gsod_subset1_pd = gsod_subset1_pd.sort_values(by='dt')  # Sort the data according to date\n",
        "gsod_subset1_pd.set_index('dt', inplace=True)   # Set the index as date"
      ],
      "metadata": {
        "id": "MHvW-66tnVhR"
      },
      "execution_count": null,
      "outputs": []
    },
    {
      "cell_type": "code",
      "source": [
        "# Let's subset for May 2018\n",
        "gsod_subset_may = gsod_subset1_pd.loc['2018-05-01':'2018-05-31']"
      ],
      "metadata": {
        "id": "YKrrGJoBnJer"
      },
      "execution_count": null,
      "outputs": []
    },
    {
      "cell_type": "code",
      "source": [
        "#Let's Plot\n",
        "fig, ax1 = plt.subplots(figsize=(10, 5))\n",
        "color = '#ffa300'\n",
        "ax1.set_xlabel('Date')\n",
        "plt.xticks(rotation=45)\n",
        "ax1.set_ylabel('temp', color=\"black\")\n",
        "ax1.plot(gsod_subset_may[\"temp\"], color=color, label = 'temp')\n",
        "ax1.tick_params(axis='y', labelcolor=\"black\")\n",
        "plt.axhline(y = 90, color = '#3c4e4b', linestyle = '--', label = 'temp = 90')\n",
        "\n",
        "ax2 = ax1.twinx()  # instantiate a second axes that shares the same x-axis\n",
        "\n",
        "color = '#c86558'\n",
        "ax2.set_ylabel('temp_cumsum', color=\"black\")  # we already handled the x-label with ax1\n",
        "ax2.plot(gsod_subset_may[\"temp_cumsum\"], color=color, label = 'temp_cumsum')\n",
        "ax2.tick_params(axis='y', labelcolor=\"black\")\n",
        "\n",
        "ax1.legend(loc=\"upper left\", bbox_to_anchor=(0, 1))\n",
        "ax2.legend(loc=\"upper left\", bbox_to_anchor=(0, 0.85))\n",
        "\n",
        "plt.title('Temp, Temp_cumsum vs Date')\n",
        "\n",
        "fig.tight_layout()  # otherwise the right y-label is slightly clipped\n",
        "plt.show()"
      ],
      "metadata": {
        "colab": {
          "base_uri": "https://localhost:8080/",
          "height": 417
        },
        "id": "NPwL5Lfapo84",
        "outputId": "d1fa8dd3-c6ca-4f43-e725-6eac02d02974"
      },
      "execution_count": null,
      "outputs": [
        {
          "output_type": "display_data",
          "data": {
            "text/plain": [
              "<Figure size 1000x500 with 2 Axes>"
            ],
            "image/png": "[encoded data removed]"
          },
          "metadata": {}
        }
      ]
    },
    {
      "cell_type": "code",
      "source": [
        "# Let's subset for 2018\n",
        "gsod_subset_2018 = gsod_subset1_pd.loc['2018-01-01':'2018-12-31']"
      ],
      "metadata": {
        "id": "l6NvA3cQL2eq"
      },
      "execution_count": null,
      "outputs": []
    },
    {
      "cell_type": "code",
      "source": [
        "fig, (ax1, ax2) = plt.subplots(1, 2)\n",
        "y1 = gsod_subset_2018[\"temp\"]\n",
        "y2 = gsod_subset_2018[\"temp_cumsum\"]\n",
        "ax1.set_xlabel('Time period (Dates)')\n",
        "ax2.set_xlabel('Time period (Dates)')\n",
        "\n",
        "ax1.set_ylabel('Temp')\n",
        "ax2.set_ylabel('Time_CumSum')\n",
        "\n",
        "ax1.set_title('Temp vs Time Period (2018)')\n",
        "ax2.set_title('Temp_CumSum vs Time Period (2018)')\n",
        "\n",
        "\n",
        "ax1.plot(y1, color = '#c86558')\n",
        "ax1.axhline(y=90, color='#3c4e4b', linestyle='--', label='temp = 90')\n",
        "ax2.plot(y2, color = '#c86558')"
      ],
      "metadata": {
        "colab": {
          "base_uri": "https://localhost:8080/",
          "height": 407
        },
        "id": "rFgmAm7GRUPt",
        "outputId": "a8ddd3f7-db12-4dc4-9ea5-05cbb8bdf96c"
      },
      "execution_count": null,
      "outputs": [
        {
          "output_type": "execute_result",
          "data": {
            "text/plain": [
              "[<matplotlib.lines.Line2D at 0x7fcf7c661c70>]"
            ]
          },
          "metadata": {},
          "execution_count": 196
        },
        {
          "output_type": "display_data",
          "data": {
            "text/plain": [
              "<Figure size 1200x500 with 2 Axes>"
            ],
            "image/png": "[encoded data removed]"
          },
          "metadata": {}
        }
      ]
    }
  ]
}